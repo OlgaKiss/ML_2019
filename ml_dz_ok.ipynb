{
 "cells": [
  {
   "cell_type": "markdown",
   "metadata": {},
   "source": [
    "# Быстрый старт в анализ данных\n",
    "**с помощью `Pandas` и `Scikit-learn`, а также `numpy` и `matplotlib`**\n",
    "\n",
    "- `numpy` – матричные операции\n",
    "- `matplotlib` - научная графика\n",
    "- `pandas` - таблицы (DataFrame) для анализа данных\n",
    "- `scikit-learn`- алгоритмы машинного обучения\n"
   ]
  },
  {
   "cell_type": "markdown",
   "metadata": {},
   "source": [
    "\n"
   ]
  },
  {
   "cell_type": "code",
   "execution_count": 1,
   "metadata": {},
   "outputs": [],
   "source": [
    "import numpy as np\n",
    "from scipy.io import arff\n",
    "import matplotlib.pyplot as plt\n",
    "import pandas as pd\n",
    "%matplotlib inline"
   ]
  },
  {
   "cell_type": "code",
   "execution_count": 2,
   "metadata": {},
   "outputs": [],
   "source": [
    "file_arff=arff.loadarff(\"../Sapfile1.arff\")\n",
    "data=pd.DataFrame(file_arff[0])"
   ]
  },
  {
   "cell_type": "code",
   "execution_count": 3,
   "metadata": {},
   "outputs": [
    {
     "data": {
      "text/plain": [
       "pandas.core.frame.DataFrame"
      ]
     },
     "execution_count": 3,
     "metadata": {},
     "output_type": "execute_result"
    }
   ],
   "source": [
    "type(data)"
   ]
  },
  {
   "cell_type": "code",
   "execution_count": 4,
   "metadata": {
    "scrolled": false
   },
   "outputs": [
    {
     "data": {
      "text/html": [
       "<div>\n",
       "<style scoped>\n",
       "    .dataframe tbody tr th:only-of-type {\n",
       "        vertical-align: middle;\n",
       "    }\n",
       "\n",
       "    .dataframe tbody tr th {\n",
       "        vertical-align: top;\n",
       "    }\n",
       "\n",
       "    .dataframe thead th {\n",
       "        text-align: right;\n",
       "    }\n",
       "</style>\n",
       "<table border=\"1\" class=\"dataframe\">\n",
       "  <thead>\n",
       "    <tr style=\"text-align: right;\">\n",
       "      <th></th>\n",
       "      <th>ge</th>\n",
       "      <th>cst</th>\n",
       "      <th>tnp</th>\n",
       "      <th>twp</th>\n",
       "      <th>iap</th>\n",
       "      <th>esp</th>\n",
       "      <th>arr</th>\n",
       "      <th>ms</th>\n",
       "      <th>ls</th>\n",
       "      <th>as</th>\n",
       "      <th>...</th>\n",
       "      <th>fq</th>\n",
       "      <th>mq</th>\n",
       "      <th>fo</th>\n",
       "      <th>mo</th>\n",
       "      <th>nf</th>\n",
       "      <th>sh</th>\n",
       "      <th>ss</th>\n",
       "      <th>me</th>\n",
       "      <th>tt</th>\n",
       "      <th>atd</th>\n",
       "    </tr>\n",
       "  </thead>\n",
       "  <tbody>\n",
       "    <tr>\n",
       "      <th>0</th>\n",
       "      <td>b'F'</td>\n",
       "      <td>b'G'</td>\n",
       "      <td>b'Good'</td>\n",
       "      <td>b'Good'</td>\n",
       "      <td>b'Vg'</td>\n",
       "      <td>b'Good'</td>\n",
       "      <td>b'Y'</td>\n",
       "      <td>b'Unmarried'</td>\n",
       "      <td>b'V'</td>\n",
       "      <td>b'Paid'</td>\n",
       "      <td>...</td>\n",
       "      <td>b'Um'</td>\n",
       "      <td>b'10'</td>\n",
       "      <td>b'Farmer'</td>\n",
       "      <td>b'Housewife'</td>\n",
       "      <td>b'Large'</td>\n",
       "      <td>b'Poor'</td>\n",
       "      <td>b'Govt'</td>\n",
       "      <td>b'Asm'</td>\n",
       "      <td>b'Small'</td>\n",
       "      <td>b'Good'</td>\n",
       "    </tr>\n",
       "    <tr>\n",
       "      <th>1</th>\n",
       "      <td>b'M'</td>\n",
       "      <td>b'OBC'</td>\n",
       "      <td>b'Vg'</td>\n",
       "      <td>b'Vg'</td>\n",
       "      <td>b'Vg'</td>\n",
       "      <td>b'Vg'</td>\n",
       "      <td>b'N'</td>\n",
       "      <td>b'Unmarried'</td>\n",
       "      <td>b'V'</td>\n",
       "      <td>b'Paid'</td>\n",
       "      <td>...</td>\n",
       "      <td>b'Um'</td>\n",
       "      <td>b'Il'</td>\n",
       "      <td>b'Service'</td>\n",
       "      <td>b'Service'</td>\n",
       "      <td>b'Small'</td>\n",
       "      <td>b'Poor'</td>\n",
       "      <td>b'Govt'</td>\n",
       "      <td>b'Asm'</td>\n",
       "      <td>b'Average'</td>\n",
       "      <td>b'Average'</td>\n",
       "    </tr>\n",
       "    <tr>\n",
       "      <th>2</th>\n",
       "      <td>b'F'</td>\n",
       "      <td>b'OBC'</td>\n",
       "      <td>b'Good'</td>\n",
       "      <td>b'Good'</td>\n",
       "      <td>b'Vg'</td>\n",
       "      <td>b'Good'</td>\n",
       "      <td>b'N'</td>\n",
       "      <td>b'Unmarried'</td>\n",
       "      <td>b'V'</td>\n",
       "      <td>b'Paid'</td>\n",
       "      <td>...</td>\n",
       "      <td>b'12'</td>\n",
       "      <td>b'10'</td>\n",
       "      <td>b'Service'</td>\n",
       "      <td>b'Housewife'</td>\n",
       "      <td>b'Average'</td>\n",
       "      <td>b'Average'</td>\n",
       "      <td>b'Govt'</td>\n",
       "      <td>b'Asm'</td>\n",
       "      <td>b'Large'</td>\n",
       "      <td>b'Good'</td>\n",
       "    </tr>\n",
       "    <tr>\n",
       "      <th>3</th>\n",
       "      <td>b'M'</td>\n",
       "      <td>b'MOBC'</td>\n",
       "      <td>b'Pass'</td>\n",
       "      <td>b'Good'</td>\n",
       "      <td>b'Vg'</td>\n",
       "      <td>b'Good'</td>\n",
       "      <td>b'N'</td>\n",
       "      <td>b'Unmarried'</td>\n",
       "      <td>b'V'</td>\n",
       "      <td>b'Paid'</td>\n",
       "      <td>...</td>\n",
       "      <td>b'12'</td>\n",
       "      <td>b'Um'</td>\n",
       "      <td>b'Business'</td>\n",
       "      <td>b'Business'</td>\n",
       "      <td>b'Large'</td>\n",
       "      <td>b'Poor'</td>\n",
       "      <td>b'Govt'</td>\n",
       "      <td>b'Asm'</td>\n",
       "      <td>b'Average'</td>\n",
       "      <td>b'Average'</td>\n",
       "    </tr>\n",
       "    <tr>\n",
       "      <th>4</th>\n",
       "      <td>b'M'</td>\n",
       "      <td>b'G'</td>\n",
       "      <td>b'Good'</td>\n",
       "      <td>b'Good'</td>\n",
       "      <td>b'Vg'</td>\n",
       "      <td>b'Vg'</td>\n",
       "      <td>b'N'</td>\n",
       "      <td>b'Unmarried'</td>\n",
       "      <td>b'V'</td>\n",
       "      <td>b'Paid'</td>\n",
       "      <td>...</td>\n",
       "      <td>b'10'</td>\n",
       "      <td>b'12'</td>\n",
       "      <td>b'Service'</td>\n",
       "      <td>b'Housewife'</td>\n",
       "      <td>b'Large'</td>\n",
       "      <td>b'Poor'</td>\n",
       "      <td>b'Private'</td>\n",
       "      <td>b'Asm'</td>\n",
       "      <td>b'Small'</td>\n",
       "      <td>b'Good'</td>\n",
       "    </tr>\n",
       "    <tr>\n",
       "      <th>5</th>\n",
       "      <td>b'M'</td>\n",
       "      <td>b'OBC'</td>\n",
       "      <td>b'Vg'</td>\n",
       "      <td>b'Good'</td>\n",
       "      <td>b'Vg'</td>\n",
       "      <td>b'Vg'</td>\n",
       "      <td>b'N'</td>\n",
       "      <td>b'Unmarried'</td>\n",
       "      <td>b'V'</td>\n",
       "      <td>b'Paid'</td>\n",
       "      <td>...</td>\n",
       "      <td>b'10'</td>\n",
       "      <td>b'Um'</td>\n",
       "      <td>b'Farmer'</td>\n",
       "      <td>b'Housewife'</td>\n",
       "      <td>b'Small'</td>\n",
       "      <td>b'Poor'</td>\n",
       "      <td>b'Private'</td>\n",
       "      <td>b'Eng'</td>\n",
       "      <td>b'Average'</td>\n",
       "      <td>b'Average'</td>\n",
       "    </tr>\n",
       "    <tr>\n",
       "      <th>6</th>\n",
       "      <td>b'F'</td>\n",
       "      <td>b'OBC'</td>\n",
       "      <td>b'Good'</td>\n",
       "      <td>b'Vg'</td>\n",
       "      <td>b'Good'</td>\n",
       "      <td>b'Good'</td>\n",
       "      <td>b'N'</td>\n",
       "      <td>b'Unmarried'</td>\n",
       "      <td>b'V'</td>\n",
       "      <td>b'Paid'</td>\n",
       "      <td>...</td>\n",
       "      <td>b'12'</td>\n",
       "      <td>b'Degree'</td>\n",
       "      <td>b'Service'</td>\n",
       "      <td>b'Service'</td>\n",
       "      <td>b'Average'</td>\n",
       "      <td>b'Poor'</td>\n",
       "      <td>b'Govt'</td>\n",
       "      <td>b'Asm'</td>\n",
       "      <td>b'Small'</td>\n",
       "      <td>b'Good'</td>\n",
       "    </tr>\n",
       "    <tr>\n",
       "      <th>7</th>\n",
       "      <td>b'F'</td>\n",
       "      <td>b'OBC'</td>\n",
       "      <td>b'Good'</td>\n",
       "      <td>b'Good'</td>\n",
       "      <td>b'Good'</td>\n",
       "      <td>b'Good'</td>\n",
       "      <td>b'N'</td>\n",
       "      <td>b'Unmarried'</td>\n",
       "      <td>b'V'</td>\n",
       "      <td>b'Paid'</td>\n",
       "      <td>...</td>\n",
       "      <td>b'Il'</td>\n",
       "      <td>b'Um'</td>\n",
       "      <td>b'Farmer'</td>\n",
       "      <td>b'Housewife'</td>\n",
       "      <td>b'Small'</td>\n",
       "      <td>b'Poor'</td>\n",
       "      <td>b'Private'</td>\n",
       "      <td>b'Asm'</td>\n",
       "      <td>b'Average'</td>\n",
       "      <td>b'Good'</td>\n",
       "    </tr>\n",
       "    <tr>\n",
       "      <th>8</th>\n",
       "      <td>b'F'</td>\n",
       "      <td>b'MOBC'</td>\n",
       "      <td>b'Vg'</td>\n",
       "      <td>b'Good'</td>\n",
       "      <td>b'Good'</td>\n",
       "      <td>b'Vg'</td>\n",
       "      <td>b'Y'</td>\n",
       "      <td>b'Unmarried'</td>\n",
       "      <td>b'V'</td>\n",
       "      <td>b'Paid'</td>\n",
       "      <td>...</td>\n",
       "      <td>b'12'</td>\n",
       "      <td>b'10'</td>\n",
       "      <td>b'Others'</td>\n",
       "      <td>b'Housewife'</td>\n",
       "      <td>b'Small'</td>\n",
       "      <td>b'Good'</td>\n",
       "      <td>b'Govt'</td>\n",
       "      <td>b'Asm'</td>\n",
       "      <td>b'Average'</td>\n",
       "      <td>b'Good'</td>\n",
       "    </tr>\n",
       "    <tr>\n",
       "      <th>9</th>\n",
       "      <td>b'F'</td>\n",
       "      <td>b'OBC'</td>\n",
       "      <td>b'Vg'</td>\n",
       "      <td>b'Vg'</td>\n",
       "      <td>b'Good'</td>\n",
       "      <td>b'Vg'</td>\n",
       "      <td>b'Y'</td>\n",
       "      <td>b'Unmarried'</td>\n",
       "      <td>b'V'</td>\n",
       "      <td>b'Paid'</td>\n",
       "      <td>...</td>\n",
       "      <td>b'Degree'</td>\n",
       "      <td>b'Degree'</td>\n",
       "      <td>b'Others'</td>\n",
       "      <td>b'Housewife'</td>\n",
       "      <td>b'Large'</td>\n",
       "      <td>b'Average'</td>\n",
       "      <td>b'Govt'</td>\n",
       "      <td>b'Asm'</td>\n",
       "      <td>b'Average'</td>\n",
       "      <td>b'Good'</td>\n",
       "    </tr>\n",
       "    <tr>\n",
       "      <th>10</th>\n",
       "      <td>b'M'</td>\n",
       "      <td>b'ST'</td>\n",
       "      <td>b'Vg'</td>\n",
       "      <td>b'Vg'</td>\n",
       "      <td>b'Good'</td>\n",
       "      <td>b'Vg'</td>\n",
       "      <td>b'N'</td>\n",
       "      <td>b'Unmarried'</td>\n",
       "      <td>b'V'</td>\n",
       "      <td>b'Paid'</td>\n",
       "      <td>...</td>\n",
       "      <td>b'Pg'</td>\n",
       "      <td>b'Pg'</td>\n",
       "      <td>b'Retired'</td>\n",
       "      <td>b'Retired'</td>\n",
       "      <td>b'Large'</td>\n",
       "      <td>b'Good'</td>\n",
       "      <td>b'Private'</td>\n",
       "      <td>b'Eng'</td>\n",
       "      <td>b'Large'</td>\n",
       "      <td>b'Good'</td>\n",
       "    </tr>\n",
       "    <tr>\n",
       "      <th>11</th>\n",
       "      <td>b'F'</td>\n",
       "      <td>b'OBC'</td>\n",
       "      <td>b'Vg'</td>\n",
       "      <td>b'Vg'</td>\n",
       "      <td>b'Good'</td>\n",
       "      <td>b'Vg'</td>\n",
       "      <td>b'N'</td>\n",
       "      <td>b'Unmarried'</td>\n",
       "      <td>b'V'</td>\n",
       "      <td>b'Paid'</td>\n",
       "      <td>...</td>\n",
       "      <td>b'Degree'</td>\n",
       "      <td>b'12'</td>\n",
       "      <td>b'Service'</td>\n",
       "      <td>b'Housewife'</td>\n",
       "      <td>b'Large'</td>\n",
       "      <td>b'Average'</td>\n",
       "      <td>b'Govt'</td>\n",
       "      <td>b'Eng'</td>\n",
       "      <td>b'Average'</td>\n",
       "      <td>b'Good'</td>\n",
       "    </tr>\n",
       "    <tr>\n",
       "      <th>12</th>\n",
       "      <td>b'M'</td>\n",
       "      <td>b'OBC'</td>\n",
       "      <td>b'Good'</td>\n",
       "      <td>b'Good'</td>\n",
       "      <td>b'Good'</td>\n",
       "      <td>b'Good'</td>\n",
       "      <td>b'Y'</td>\n",
       "      <td>b'Unmarried'</td>\n",
       "      <td>b'V'</td>\n",
       "      <td>b'Paid'</td>\n",
       "      <td>...</td>\n",
       "      <td>b'Degree'</td>\n",
       "      <td>b'10'</td>\n",
       "      <td>b'Service'</td>\n",
       "      <td>b'Housewife'</td>\n",
       "      <td>b'Large'</td>\n",
       "      <td>b'Poor'</td>\n",
       "      <td>b'Private'</td>\n",
       "      <td>b'Eng'</td>\n",
       "      <td>b'Average'</td>\n",
       "      <td>b'Good'</td>\n",
       "    </tr>\n",
       "    <tr>\n",
       "      <th>13</th>\n",
       "      <td>b'M'</td>\n",
       "      <td>b'OBC'</td>\n",
       "      <td>b'Good'</td>\n",
       "      <td>b'Good'</td>\n",
       "      <td>b'Pass'</td>\n",
       "      <td>b'Vg'</td>\n",
       "      <td>b'N'</td>\n",
       "      <td>b'Unmarried'</td>\n",
       "      <td>b'V'</td>\n",
       "      <td>b'Paid'</td>\n",
       "      <td>...</td>\n",
       "      <td>b'Il'</td>\n",
       "      <td>b'Il'</td>\n",
       "      <td>b'Others'</td>\n",
       "      <td>b'Housewife'</td>\n",
       "      <td>b'Large'</td>\n",
       "      <td>b'Good'</td>\n",
       "      <td>b'Govt'</td>\n",
       "      <td>b'Asm'</td>\n",
       "      <td>b'Average'</td>\n",
       "      <td>b'Good'</td>\n",
       "    </tr>\n",
       "    <tr>\n",
       "      <th>14</th>\n",
       "      <td>b'F'</td>\n",
       "      <td>b'G'</td>\n",
       "      <td>b'Vg'</td>\n",
       "      <td>b'Vg'</td>\n",
       "      <td>b'Good'</td>\n",
       "      <td>b'Vg'</td>\n",
       "      <td>b'N'</td>\n",
       "      <td>b'Unmarried'</td>\n",
       "      <td>b'V'</td>\n",
       "      <td>b'Paid'</td>\n",
       "      <td>...</td>\n",
       "      <td>b'Degree'</td>\n",
       "      <td>b'10'</td>\n",
       "      <td>b'Business'</td>\n",
       "      <td>b'Housewife'</td>\n",
       "      <td>b'Large'</td>\n",
       "      <td>b'Poor'</td>\n",
       "      <td>b'Govt'</td>\n",
       "      <td>b'Eng'</td>\n",
       "      <td>b'Small'</td>\n",
       "      <td>b'Good'</td>\n",
       "    </tr>\n",
       "    <tr>\n",
       "      <th>15</th>\n",
       "      <td>b'F'</td>\n",
       "      <td>b'ST'</td>\n",
       "      <td>b'Vg'</td>\n",
       "      <td>b'Good'</td>\n",
       "      <td>b'Good'</td>\n",
       "      <td>b'Vg'</td>\n",
       "      <td>b'Y'</td>\n",
       "      <td>b'Unmarried'</td>\n",
       "      <td>b'V'</td>\n",
       "      <td>b'Paid'</td>\n",
       "      <td>...</td>\n",
       "      <td>b'10'</td>\n",
       "      <td>b'10'</td>\n",
       "      <td>b'Others'</td>\n",
       "      <td>b'Housewife'</td>\n",
       "      <td>b'Large'</td>\n",
       "      <td>b'Average'</td>\n",
       "      <td>b'Govt'</td>\n",
       "      <td>b'Asm'</td>\n",
       "      <td>b'Average'</td>\n",
       "      <td>b'Good'</td>\n",
       "    </tr>\n",
       "    <tr>\n",
       "      <th>16</th>\n",
       "      <td>b'F'</td>\n",
       "      <td>b'ST'</td>\n",
       "      <td>b'Vg'</td>\n",
       "      <td>b'Vg'</td>\n",
       "      <td>b'Vg'</td>\n",
       "      <td>b'Vg'</td>\n",
       "      <td>b'N'</td>\n",
       "      <td>b'Unmarried'</td>\n",
       "      <td>b'V'</td>\n",
       "      <td>b'Paid'</td>\n",
       "      <td>...</td>\n",
       "      <td>b'Pg'</td>\n",
       "      <td>b'12'</td>\n",
       "      <td>b'Business'</td>\n",
       "      <td>b'Housewife'</td>\n",
       "      <td>b'Large'</td>\n",
       "      <td>b'Poor'</td>\n",
       "      <td>b'Private'</td>\n",
       "      <td>b'Eng'</td>\n",
       "      <td>b'Small'</td>\n",
       "      <td>b'Good'</td>\n",
       "    </tr>\n",
       "    <tr>\n",
       "      <th>17</th>\n",
       "      <td>b'M'</td>\n",
       "      <td>b'OBC'</td>\n",
       "      <td>b'Good'</td>\n",
       "      <td>b'Good'</td>\n",
       "      <td>b'Vg'</td>\n",
       "      <td>b'Good'</td>\n",
       "      <td>b'Y'</td>\n",
       "      <td>b'Unmarried'</td>\n",
       "      <td>b'V'</td>\n",
       "      <td>b'Paid'</td>\n",
       "      <td>...</td>\n",
       "      <td>b'12'</td>\n",
       "      <td>b'12'</td>\n",
       "      <td>b'Farmer'</td>\n",
       "      <td>b'Housewife'</td>\n",
       "      <td>b'Large'</td>\n",
       "      <td>b'Average'</td>\n",
       "      <td>b'Govt'</td>\n",
       "      <td>b'Eng'</td>\n",
       "      <td>b'Small'</td>\n",
       "      <td>b'Good'</td>\n",
       "    </tr>\n",
       "    <tr>\n",
       "      <th>18</th>\n",
       "      <td>b'M'</td>\n",
       "      <td>b'ST'</td>\n",
       "      <td>b'Good'</td>\n",
       "      <td>b'Good'</td>\n",
       "      <td>b'Vg'</td>\n",
       "      <td>b'Good'</td>\n",
       "      <td>b'Y'</td>\n",
       "      <td>b'Unmarried'</td>\n",
       "      <td>b'V'</td>\n",
       "      <td>b'Paid'</td>\n",
       "      <td>...</td>\n",
       "      <td>b'10'</td>\n",
       "      <td>b'12'</td>\n",
       "      <td>b'Farmer'</td>\n",
       "      <td>b'Housewife'</td>\n",
       "      <td>b'Large'</td>\n",
       "      <td>b'Average'</td>\n",
       "      <td>b'Govt'</td>\n",
       "      <td>b'Eng'</td>\n",
       "      <td>b'Small'</td>\n",
       "      <td>b'Good'</td>\n",
       "    </tr>\n",
       "    <tr>\n",
       "      <th>19</th>\n",
       "      <td>b'M'</td>\n",
       "      <td>b'ST'</td>\n",
       "      <td>b'Vg'</td>\n",
       "      <td>b'Vg'</td>\n",
       "      <td>b'Vg'</td>\n",
       "      <td>b'Vg'</td>\n",
       "      <td>b'Y'</td>\n",
       "      <td>b'Unmarried'</td>\n",
       "      <td>b'V'</td>\n",
       "      <td>b'Paid'</td>\n",
       "      <td>...</td>\n",
       "      <td>b'Degree'</td>\n",
       "      <td>b'12'</td>\n",
       "      <td>b'Farmer'</td>\n",
       "      <td>b'Housewife'</td>\n",
       "      <td>b'Large'</td>\n",
       "      <td>b'Poor'</td>\n",
       "      <td>b'Govt'</td>\n",
       "      <td>b'Eng'</td>\n",
       "      <td>b'Average'</td>\n",
       "      <td>b'Good'</td>\n",
       "    </tr>\n",
       "    <tr>\n",
       "      <th>20</th>\n",
       "      <td>b'F'</td>\n",
       "      <td>b'G'</td>\n",
       "      <td>b'Vg'</td>\n",
       "      <td>b'Vg'</td>\n",
       "      <td>b'Vg'</td>\n",
       "      <td>b'Vg'</td>\n",
       "      <td>b'N'</td>\n",
       "      <td>b'Unmarried'</td>\n",
       "      <td>b'V'</td>\n",
       "      <td>b'Paid'</td>\n",
       "      <td>...</td>\n",
       "      <td>b'Degree'</td>\n",
       "      <td>b'Degree'</td>\n",
       "      <td>b'Service'</td>\n",
       "      <td>b'Housewife'</td>\n",
       "      <td>b'Large'</td>\n",
       "      <td>b'Poor'</td>\n",
       "      <td>b'Govt'</td>\n",
       "      <td>b'Eng'</td>\n",
       "      <td>b'Small'</td>\n",
       "      <td>b'Good'</td>\n",
       "    </tr>\n",
       "    <tr>\n",
       "      <th>21</th>\n",
       "      <td>b'F'</td>\n",
       "      <td>b'G'</td>\n",
       "      <td>b'Vg'</td>\n",
       "      <td>b'Good'</td>\n",
       "      <td>b'Vg'</td>\n",
       "      <td>b'Vg'</td>\n",
       "      <td>b'Y'</td>\n",
       "      <td>b'Unmarried'</td>\n",
       "      <td>b'V'</td>\n",
       "      <td>b'Paid'</td>\n",
       "      <td>...</td>\n",
       "      <td>b'10'</td>\n",
       "      <td>b'10'</td>\n",
       "      <td>b'Service'</td>\n",
       "      <td>b'Housewife'</td>\n",
       "      <td>b'Large'</td>\n",
       "      <td>b'Poor'</td>\n",
       "      <td>b'Private'</td>\n",
       "      <td>b'Eng'</td>\n",
       "      <td>b'Small'</td>\n",
       "      <td>b'Good'</td>\n",
       "    </tr>\n",
       "    <tr>\n",
       "      <th>22</th>\n",
       "      <td>b'F'</td>\n",
       "      <td>b'OBC'</td>\n",
       "      <td>b'Vg'</td>\n",
       "      <td>b'Vg'</td>\n",
       "      <td>b'Vg'</td>\n",
       "      <td>b'Best'</td>\n",
       "      <td>b'N'</td>\n",
       "      <td>b'Unmarried'</td>\n",
       "      <td>b'V'</td>\n",
       "      <td>b'Paid'</td>\n",
       "      <td>...</td>\n",
       "      <td>b'Degree'</td>\n",
       "      <td>b'Pg'</td>\n",
       "      <td>b'Business'</td>\n",
       "      <td>b'Service'</td>\n",
       "      <td>b'Large'</td>\n",
       "      <td>b'Average'</td>\n",
       "      <td>b'Govt'</td>\n",
       "      <td>b'Eng'</td>\n",
       "      <td>b'Small'</td>\n",
       "      <td>b'Good'</td>\n",
       "    </tr>\n",
       "    <tr>\n",
       "      <th>23</th>\n",
       "      <td>b'F'</td>\n",
       "      <td>b'OBC'</td>\n",
       "      <td>b'Vg'</td>\n",
       "      <td>b'Good'</td>\n",
       "      <td>b'Vg'</td>\n",
       "      <td>b'Vg'</td>\n",
       "      <td>b'Y'</td>\n",
       "      <td>b'Unmarried'</td>\n",
       "      <td>b'V'</td>\n",
       "      <td>b'Paid'</td>\n",
       "      <td>...</td>\n",
       "      <td>b'10'</td>\n",
       "      <td>b'Um'</td>\n",
       "      <td>b'Farmer'</td>\n",
       "      <td>b'Housewife'</td>\n",
       "      <td>b'Large'</td>\n",
       "      <td>b'Average'</td>\n",
       "      <td>b'Govt'</td>\n",
       "      <td>b'Eng'</td>\n",
       "      <td>b'Small'</td>\n",
       "      <td>b'Good'</td>\n",
       "    </tr>\n",
       "    <tr>\n",
       "      <th>24</th>\n",
       "      <td>b'F'</td>\n",
       "      <td>b'G'</td>\n",
       "      <td>b'Vg'</td>\n",
       "      <td>b'Good'</td>\n",
       "      <td>b'Vg'</td>\n",
       "      <td>b'Good'</td>\n",
       "      <td>b'N'</td>\n",
       "      <td>b'Unmarried'</td>\n",
       "      <td>b'V'</td>\n",
       "      <td>b'Paid'</td>\n",
       "      <td>...</td>\n",
       "      <td>b'12'</td>\n",
       "      <td>b'Um'</td>\n",
       "      <td>b'Business'</td>\n",
       "      <td>b'Housewife'</td>\n",
       "      <td>b'Large'</td>\n",
       "      <td>b'Poor'</td>\n",
       "      <td>b'Govt'</td>\n",
       "      <td>b'Eng'</td>\n",
       "      <td>b'Small'</td>\n",
       "      <td>b'Good'</td>\n",
       "    </tr>\n",
       "    <tr>\n",
       "      <th>25</th>\n",
       "      <td>b'F'</td>\n",
       "      <td>b'G'</td>\n",
       "      <td>b'Vg'</td>\n",
       "      <td>b'Vg'</td>\n",
       "      <td>b'Vg'</td>\n",
       "      <td>b'Good'</td>\n",
       "      <td>b'N'</td>\n",
       "      <td>b'Unmarried'</td>\n",
       "      <td>b'T'</td>\n",
       "      <td>b'Paid'</td>\n",
       "      <td>...</td>\n",
       "      <td>b'Il'</td>\n",
       "      <td>b'Il'</td>\n",
       "      <td>b'Business'</td>\n",
       "      <td>b'Housewife'</td>\n",
       "      <td>b'Large'</td>\n",
       "      <td>b'Poor'</td>\n",
       "      <td>b'Govt'</td>\n",
       "      <td>b'Eng'</td>\n",
       "      <td>b'Average'</td>\n",
       "      <td>b'Average'</td>\n",
       "    </tr>\n",
       "    <tr>\n",
       "      <th>26</th>\n",
       "      <td>b'F'</td>\n",
       "      <td>b'OBC'</td>\n",
       "      <td>b'Good'</td>\n",
       "      <td>b'Good'</td>\n",
       "      <td>b'Vg'</td>\n",
       "      <td>b'Vg'</td>\n",
       "      <td>b'Y'</td>\n",
       "      <td>b'Unmarried'</td>\n",
       "      <td>b'T'</td>\n",
       "      <td>b'Paid'</td>\n",
       "      <td>...</td>\n",
       "      <td>b'10'</td>\n",
       "      <td>b'10'</td>\n",
       "      <td>b'Service'</td>\n",
       "      <td>b'Housewife'</td>\n",
       "      <td>b'Large'</td>\n",
       "      <td>b'Poor'</td>\n",
       "      <td>b'Govt'</td>\n",
       "      <td>b'Eng'</td>\n",
       "      <td>b'Small'</td>\n",
       "      <td>b'Average'</td>\n",
       "    </tr>\n",
       "    <tr>\n",
       "      <th>27</th>\n",
       "      <td>b'F'</td>\n",
       "      <td>b'OBC'</td>\n",
       "      <td>b'Good'</td>\n",
       "      <td>b'Good'</td>\n",
       "      <td>b'Vg'</td>\n",
       "      <td>b'Good'</td>\n",
       "      <td>b'Y'</td>\n",
       "      <td>b'Unmarried'</td>\n",
       "      <td>b'V'</td>\n",
       "      <td>b'Paid'</td>\n",
       "      <td>...</td>\n",
       "      <td>b'Um'</td>\n",
       "      <td>b'Um'</td>\n",
       "      <td>b'Others'</td>\n",
       "      <td>b'Housewife'</td>\n",
       "      <td>b'Large'</td>\n",
       "      <td>b'Average'</td>\n",
       "      <td>b'Private'</td>\n",
       "      <td>b'Eng'</td>\n",
       "      <td>b'Small'</td>\n",
       "      <td>b'Good'</td>\n",
       "    </tr>\n",
       "    <tr>\n",
       "      <th>28</th>\n",
       "      <td>b'M'</td>\n",
       "      <td>b'G'</td>\n",
       "      <td>b'Good'</td>\n",
       "      <td>b'Good'</td>\n",
       "      <td>b'Good'</td>\n",
       "      <td>b'Good'</td>\n",
       "      <td>b'Y'</td>\n",
       "      <td>b'Unmarried'</td>\n",
       "      <td>b'T'</td>\n",
       "      <td>b'Paid'</td>\n",
       "      <td>...</td>\n",
       "      <td>b'Pg'</td>\n",
       "      <td>b'Degree'</td>\n",
       "      <td>b'Service'</td>\n",
       "      <td>b'Housewife'</td>\n",
       "      <td>b'Large'</td>\n",
       "      <td>b'Poor'</td>\n",
       "      <td>b'Private'</td>\n",
       "      <td>b'Eng'</td>\n",
       "      <td>b'Average'</td>\n",
       "      <td>b'Average'</td>\n",
       "    </tr>\n",
       "    <tr>\n",
       "      <th>29</th>\n",
       "      <td>b'F'</td>\n",
       "      <td>b'OBC'</td>\n",
       "      <td>b'Vg'</td>\n",
       "      <td>b'Vg'</td>\n",
       "      <td>b'Good'</td>\n",
       "      <td>b'Good'</td>\n",
       "      <td>b'Y'</td>\n",
       "      <td>b'Unmarried'</td>\n",
       "      <td>b'V'</td>\n",
       "      <td>b'Free'</td>\n",
       "      <td>...</td>\n",
       "      <td>b'12'</td>\n",
       "      <td>b'10'</td>\n",
       "      <td>b'Others'</td>\n",
       "      <td>b'Housewife'</td>\n",
       "      <td>b'Small'</td>\n",
       "      <td>b'Average'</td>\n",
       "      <td>b'Private'</td>\n",
       "      <td>b'Asm'</td>\n",
       "      <td>b'Average'</td>\n",
       "      <td>b'Average'</td>\n",
       "    </tr>\n",
       "    <tr>\n",
       "      <th>...</th>\n",
       "      <td>...</td>\n",
       "      <td>...</td>\n",
       "      <td>...</td>\n",
       "      <td>...</td>\n",
       "      <td>...</td>\n",
       "      <td>...</td>\n",
       "      <td>...</td>\n",
       "      <td>...</td>\n",
       "      <td>...</td>\n",
       "      <td>...</td>\n",
       "      <td>...</td>\n",
       "      <td>...</td>\n",
       "      <td>...</td>\n",
       "      <td>...</td>\n",
       "      <td>...</td>\n",
       "      <td>...</td>\n",
       "      <td>...</td>\n",
       "      <td>...</td>\n",
       "      <td>...</td>\n",
       "      <td>...</td>\n",
       "      <td>...</td>\n",
       "    </tr>\n",
       "    <tr>\n",
       "      <th>101</th>\n",
       "      <td>b'M'</td>\n",
       "      <td>b'MOBC'</td>\n",
       "      <td>b'Good'</td>\n",
       "      <td>b'Pass'</td>\n",
       "      <td>b'Vg'</td>\n",
       "      <td>b'Pass'</td>\n",
       "      <td>b'N'</td>\n",
       "      <td>b'Unmarried'</td>\n",
       "      <td>b'V'</td>\n",
       "      <td>b'Free'</td>\n",
       "      <td>...</td>\n",
       "      <td>b'Um'</td>\n",
       "      <td>b'Il'</td>\n",
       "      <td>b'Farmer'</td>\n",
       "      <td>b'Service'</td>\n",
       "      <td>b'Small'</td>\n",
       "      <td>b'Average'</td>\n",
       "      <td>b'Govt'</td>\n",
       "      <td>b'Asm'</td>\n",
       "      <td>b'Large'</td>\n",
       "      <td>b'Average'</td>\n",
       "    </tr>\n",
       "    <tr>\n",
       "      <th>102</th>\n",
       "      <td>b'M'</td>\n",
       "      <td>b'G'</td>\n",
       "      <td>b'Pass'</td>\n",
       "      <td>b'Good'</td>\n",
       "      <td>b'Vg'</td>\n",
       "      <td>b'Pass'</td>\n",
       "      <td>b'Y'</td>\n",
       "      <td>b'Unmarried'</td>\n",
       "      <td>b'V'</td>\n",
       "      <td>b'Free'</td>\n",
       "      <td>...</td>\n",
       "      <td>b'Um'</td>\n",
       "      <td>b'Um'</td>\n",
       "      <td>b'Farmer'</td>\n",
       "      <td>b'Housewife'</td>\n",
       "      <td>b'Average'</td>\n",
       "      <td>b'Average'</td>\n",
       "      <td>b'Govt'</td>\n",
       "      <td>b'Asm'</td>\n",
       "      <td>b'Average'</td>\n",
       "      <td>b'Good'</td>\n",
       "    </tr>\n",
       "    <tr>\n",
       "      <th>103</th>\n",
       "      <td>b'M'</td>\n",
       "      <td>b'G'</td>\n",
       "      <td>b'Good'</td>\n",
       "      <td>b'Pass'</td>\n",
       "      <td>b'Good'</td>\n",
       "      <td>b'Good'</td>\n",
       "      <td>b'Y'</td>\n",
       "      <td>b'Unmarried'</td>\n",
       "      <td>b'V'</td>\n",
       "      <td>b'Free'</td>\n",
       "      <td>...</td>\n",
       "      <td>b'Um'</td>\n",
       "      <td>b'Um'</td>\n",
       "      <td>b'Farmer'</td>\n",
       "      <td>b'Housewife'</td>\n",
       "      <td>b'Average'</td>\n",
       "      <td>b'Average'</td>\n",
       "      <td>b'Govt'</td>\n",
       "      <td>b'Asm'</td>\n",
       "      <td>b'Small'</td>\n",
       "      <td>b'Average'</td>\n",
       "    </tr>\n",
       "    <tr>\n",
       "      <th>104</th>\n",
       "      <td>b'M'</td>\n",
       "      <td>b'OBC'</td>\n",
       "      <td>b'Good'</td>\n",
       "      <td>b'Pass'</td>\n",
       "      <td>b'Vg'</td>\n",
       "      <td>b'Pass'</td>\n",
       "      <td>b'Y'</td>\n",
       "      <td>b'Unmarried'</td>\n",
       "      <td>b'V'</td>\n",
       "      <td>b'Free'</td>\n",
       "      <td>...</td>\n",
       "      <td>b'Um'</td>\n",
       "      <td>b'Um'</td>\n",
       "      <td>b'Service'</td>\n",
       "      <td>b'Service'</td>\n",
       "      <td>b'Large'</td>\n",
       "      <td>b'Average'</td>\n",
       "      <td>b'Govt'</td>\n",
       "      <td>b'Asm'</td>\n",
       "      <td>b'Average'</td>\n",
       "      <td>b'Poor'</td>\n",
       "    </tr>\n",
       "    <tr>\n",
       "      <th>105</th>\n",
       "      <td>b'M'</td>\n",
       "      <td>b'G'</td>\n",
       "      <td>b'Good'</td>\n",
       "      <td>b'Pass'</td>\n",
       "      <td>b'Vg'</td>\n",
       "      <td>b'Pass'</td>\n",
       "      <td>b'Y'</td>\n",
       "      <td>b'Unmarried'</td>\n",
       "      <td>b'V'</td>\n",
       "      <td>b'Free'</td>\n",
       "      <td>...</td>\n",
       "      <td>b'Degree'</td>\n",
       "      <td>b'12'</td>\n",
       "      <td>b'Service'</td>\n",
       "      <td>b'Housewife'</td>\n",
       "      <td>b'Average'</td>\n",
       "      <td>b'Average'</td>\n",
       "      <td>b'Govt'</td>\n",
       "      <td>b'Asm'</td>\n",
       "      <td>b'Small'</td>\n",
       "      <td>b'Poor'</td>\n",
       "    </tr>\n",
       "    <tr>\n",
       "      <th>106</th>\n",
       "      <td>b'M'</td>\n",
       "      <td>b'MOBC'</td>\n",
       "      <td>b'Pass'</td>\n",
       "      <td>b'Vg'</td>\n",
       "      <td>b'Vg'</td>\n",
       "      <td>b'Good'</td>\n",
       "      <td>b'N'</td>\n",
       "      <td>b'Unmarried'</td>\n",
       "      <td>b'V'</td>\n",
       "      <td>b'Free'</td>\n",
       "      <td>...</td>\n",
       "      <td>b'Il'</td>\n",
       "      <td>b'Il'</td>\n",
       "      <td>b'Service'</td>\n",
       "      <td>b'Housewife'</td>\n",
       "      <td>b'Large'</td>\n",
       "      <td>b'Average'</td>\n",
       "      <td>b'Private'</td>\n",
       "      <td>b'Asm'</td>\n",
       "      <td>b'Small'</td>\n",
       "      <td>b'Average'</td>\n",
       "    </tr>\n",
       "    <tr>\n",
       "      <th>107</th>\n",
       "      <td>b'M'</td>\n",
       "      <td>b'OBC'</td>\n",
       "      <td>b'Good'</td>\n",
       "      <td>b'Pass'</td>\n",
       "      <td>b'Good'</td>\n",
       "      <td>b'Pass'</td>\n",
       "      <td>b'Y'</td>\n",
       "      <td>b'Unmarried'</td>\n",
       "      <td>b'V'</td>\n",
       "      <td>b'Free'</td>\n",
       "      <td>...</td>\n",
       "      <td>b'Il'</td>\n",
       "      <td>b'Il'</td>\n",
       "      <td>b'Others'</td>\n",
       "      <td>b'Service'</td>\n",
       "      <td>b'Average'</td>\n",
       "      <td>b'Poor'</td>\n",
       "      <td>b'Govt'</td>\n",
       "      <td>b'Asm'</td>\n",
       "      <td>b'Small'</td>\n",
       "      <td>b'Poor'</td>\n",
       "    </tr>\n",
       "    <tr>\n",
       "      <th>108</th>\n",
       "      <td>b'F'</td>\n",
       "      <td>b'OBC'</td>\n",
       "      <td>b'Pass'</td>\n",
       "      <td>b'Good'</td>\n",
       "      <td>b'Good'</td>\n",
       "      <td>b'Good'</td>\n",
       "      <td>b'N'</td>\n",
       "      <td>b'Unmarried'</td>\n",
       "      <td>b'V'</td>\n",
       "      <td>b'Free'</td>\n",
       "      <td>...</td>\n",
       "      <td>b'Um'</td>\n",
       "      <td>b'10'</td>\n",
       "      <td>b'Service'</td>\n",
       "      <td>b'Service'</td>\n",
       "      <td>b'Average'</td>\n",
       "      <td>b'Average'</td>\n",
       "      <td>b'Govt'</td>\n",
       "      <td>b'Asm'</td>\n",
       "      <td>b'Small'</td>\n",
       "      <td>b'Poor'</td>\n",
       "    </tr>\n",
       "    <tr>\n",
       "      <th>109</th>\n",
       "      <td>b'M'</td>\n",
       "      <td>b'OBC'</td>\n",
       "      <td>b'Pass'</td>\n",
       "      <td>b'Good'</td>\n",
       "      <td>b'Good'</td>\n",
       "      <td>b'Pass'</td>\n",
       "      <td>b'Y'</td>\n",
       "      <td>b'Unmarried'</td>\n",
       "      <td>b'V'</td>\n",
       "      <td>b'Free'</td>\n",
       "      <td>...</td>\n",
       "      <td>b'Um'</td>\n",
       "      <td>b'Um'</td>\n",
       "      <td>b'Farmer'</td>\n",
       "      <td>b'Housewife'</td>\n",
       "      <td>b'Average'</td>\n",
       "      <td>b'Average'</td>\n",
       "      <td>b'Govt'</td>\n",
       "      <td>b'Asm'</td>\n",
       "      <td>b'Average'</td>\n",
       "      <td>b'Average'</td>\n",
       "    </tr>\n",
       "    <tr>\n",
       "      <th>110</th>\n",
       "      <td>b'M'</td>\n",
       "      <td>b'ST'</td>\n",
       "      <td>b'Good'</td>\n",
       "      <td>b'Good'</td>\n",
       "      <td>b'Pass'</td>\n",
       "      <td>b'Pass'</td>\n",
       "      <td>b'Y'</td>\n",
       "      <td>b'Unmarried'</td>\n",
       "      <td>b'V'</td>\n",
       "      <td>b'Free'</td>\n",
       "      <td>...</td>\n",
       "      <td>b'12'</td>\n",
       "      <td>b'Um'</td>\n",
       "      <td>b'Farmer'</td>\n",
       "      <td>b'Housewife'</td>\n",
       "      <td>b'Average'</td>\n",
       "      <td>b'Average'</td>\n",
       "      <td>b'Govt'</td>\n",
       "      <td>b'Asm'</td>\n",
       "      <td>b'Average'</td>\n",
       "      <td>b'Poor'</td>\n",
       "    </tr>\n",
       "    <tr>\n",
       "      <th>111</th>\n",
       "      <td>b'M'</td>\n",
       "      <td>b'ST'</td>\n",
       "      <td>b'Vg'</td>\n",
       "      <td>b'Good'</td>\n",
       "      <td>b'Vg'</td>\n",
       "      <td>b'Pass'</td>\n",
       "      <td>b'Y'</td>\n",
       "      <td>b'Unmarried'</td>\n",
       "      <td>b'V'</td>\n",
       "      <td>b'Free'</td>\n",
       "      <td>...</td>\n",
       "      <td>b'Um'</td>\n",
       "      <td>b'Um'</td>\n",
       "      <td>b'Farmer'</td>\n",
       "      <td>b'Housewife'</td>\n",
       "      <td>b'Small'</td>\n",
       "      <td>b'Poor'</td>\n",
       "      <td>b'Govt'</td>\n",
       "      <td>b'Asm'</td>\n",
       "      <td>b'Average'</td>\n",
       "      <td>b'Poor'</td>\n",
       "    </tr>\n",
       "    <tr>\n",
       "      <th>112</th>\n",
       "      <td>b'M'</td>\n",
       "      <td>b'ST'</td>\n",
       "      <td>b'Pass'</td>\n",
       "      <td>b'Good'</td>\n",
       "      <td>b'Good'</td>\n",
       "      <td>b'Pass'</td>\n",
       "      <td>b'Y'</td>\n",
       "      <td>b'Unmarried'</td>\n",
       "      <td>b'V'</td>\n",
       "      <td>b'Paid'</td>\n",
       "      <td>...</td>\n",
       "      <td>b'12'</td>\n",
       "      <td>b'Um'</td>\n",
       "      <td>b'Retired'</td>\n",
       "      <td>b'Housewife'</td>\n",
       "      <td>b'Average'</td>\n",
       "      <td>b'Average'</td>\n",
       "      <td>b'Govt'</td>\n",
       "      <td>b'Asm'</td>\n",
       "      <td>b'Average'</td>\n",
       "      <td>b'Poor'</td>\n",
       "    </tr>\n",
       "    <tr>\n",
       "      <th>113</th>\n",
       "      <td>b'F'</td>\n",
       "      <td>b'G'</td>\n",
       "      <td>b'Good'</td>\n",
       "      <td>b'Pass'</td>\n",
       "      <td>b'Good'</td>\n",
       "      <td>b'Pass'</td>\n",
       "      <td>b'Y'</td>\n",
       "      <td>b'Unmarried'</td>\n",
       "      <td>b'T'</td>\n",
       "      <td>b'Free'</td>\n",
       "      <td>...</td>\n",
       "      <td>b'Um'</td>\n",
       "      <td>b'Um'</td>\n",
       "      <td>b'Business'</td>\n",
       "      <td>b'Housewife'</td>\n",
       "      <td>b'Average'</td>\n",
       "      <td>b'Average'</td>\n",
       "      <td>b'Private'</td>\n",
       "      <td>b'Asm'</td>\n",
       "      <td>b'Average'</td>\n",
       "      <td>b'Good'</td>\n",
       "    </tr>\n",
       "    <tr>\n",
       "      <th>114</th>\n",
       "      <td>b'F'</td>\n",
       "      <td>b'G'</td>\n",
       "      <td>b'Pass'</td>\n",
       "      <td>b'Pass'</td>\n",
       "      <td>b'Pass'</td>\n",
       "      <td>b'Pass'</td>\n",
       "      <td>b'Y'</td>\n",
       "      <td>b'Unmarried'</td>\n",
       "      <td>b'T'</td>\n",
       "      <td>b'Free'</td>\n",
       "      <td>...</td>\n",
       "      <td>b'Il'</td>\n",
       "      <td>b'Il'</td>\n",
       "      <td>b'Others'</td>\n",
       "      <td>b'Housewife'</td>\n",
       "      <td>b'Average'</td>\n",
       "      <td>b'Poor'</td>\n",
       "      <td>b'Govt'</td>\n",
       "      <td>b'Asm'</td>\n",
       "      <td>b'Average'</td>\n",
       "      <td>b'Average'</td>\n",
       "    </tr>\n",
       "    <tr>\n",
       "      <th>115</th>\n",
       "      <td>b'F'</td>\n",
       "      <td>b'G'</td>\n",
       "      <td>b'Good'</td>\n",
       "      <td>b'Good'</td>\n",
       "      <td>b'Good'</td>\n",
       "      <td>b'Good'</td>\n",
       "      <td>b'N'</td>\n",
       "      <td>b'Unmarried'</td>\n",
       "      <td>b'T'</td>\n",
       "      <td>b'Free'</td>\n",
       "      <td>...</td>\n",
       "      <td>b'Degree'</td>\n",
       "      <td>b'12'</td>\n",
       "      <td>b'Business'</td>\n",
       "      <td>b'Housewife'</td>\n",
       "      <td>b'Average'</td>\n",
       "      <td>b'Good'</td>\n",
       "      <td>b'Govt'</td>\n",
       "      <td>b'Asm'</td>\n",
       "      <td>b'Average'</td>\n",
       "      <td>b'Average'</td>\n",
       "    </tr>\n",
       "    <tr>\n",
       "      <th>116</th>\n",
       "      <td>b'M'</td>\n",
       "      <td>b'G'</td>\n",
       "      <td>b'Good'</td>\n",
       "      <td>b'Good'</td>\n",
       "      <td>b'Good'</td>\n",
       "      <td>b'Good'</td>\n",
       "      <td>b'N'</td>\n",
       "      <td>b'Unmarried'</td>\n",
       "      <td>b'V'</td>\n",
       "      <td>b'Free'</td>\n",
       "      <td>...</td>\n",
       "      <td>b'Degree'</td>\n",
       "      <td>b'10'</td>\n",
       "      <td>b'Farmer'</td>\n",
       "      <td>b'Housewife'</td>\n",
       "      <td>b'Average'</td>\n",
       "      <td>b'Average'</td>\n",
       "      <td>b'Govt'</td>\n",
       "      <td>b'Asm'</td>\n",
       "      <td>b'Average'</td>\n",
       "      <td>b'Poor'</td>\n",
       "    </tr>\n",
       "    <tr>\n",
       "      <th>117</th>\n",
       "      <td>b'M'</td>\n",
       "      <td>b'G'</td>\n",
       "      <td>b'Good'</td>\n",
       "      <td>b'Best'</td>\n",
       "      <td>b'Vg'</td>\n",
       "      <td>b'Vg'</td>\n",
       "      <td>b'N'</td>\n",
       "      <td>b'Unmarried'</td>\n",
       "      <td>b'V'</td>\n",
       "      <td>b'Paid'</td>\n",
       "      <td>...</td>\n",
       "      <td>b'Degree'</td>\n",
       "      <td>b'Degree'</td>\n",
       "      <td>b'Others'</td>\n",
       "      <td>b'Housewife'</td>\n",
       "      <td>b'Average'</td>\n",
       "      <td>b'Average'</td>\n",
       "      <td>b'Govt'</td>\n",
       "      <td>b'Asm'</td>\n",
       "      <td>b'Large'</td>\n",
       "      <td>b'Average'</td>\n",
       "    </tr>\n",
       "    <tr>\n",
       "      <th>118</th>\n",
       "      <td>b'M'</td>\n",
       "      <td>b'OBC'</td>\n",
       "      <td>b'Pass'</td>\n",
       "      <td>b'Vg'</td>\n",
       "      <td>b'Good'</td>\n",
       "      <td>b'Pass'</td>\n",
       "      <td>b'Y'</td>\n",
       "      <td>b'Unmarried'</td>\n",
       "      <td>b'V'</td>\n",
       "      <td>b'Free'</td>\n",
       "      <td>...</td>\n",
       "      <td>b'10'</td>\n",
       "      <td>b'Um'</td>\n",
       "      <td>b'Others'</td>\n",
       "      <td>b'Housewife'</td>\n",
       "      <td>b'Average'</td>\n",
       "      <td>b'Average'</td>\n",
       "      <td>b'Private'</td>\n",
       "      <td>b'Asm'</td>\n",
       "      <td>b'Average'</td>\n",
       "      <td>b'Average'</td>\n",
       "    </tr>\n",
       "    <tr>\n",
       "      <th>119</th>\n",
       "      <td>b'M'</td>\n",
       "      <td>b'G'</td>\n",
       "      <td>b'Vg'</td>\n",
       "      <td>b'Vg'</td>\n",
       "      <td>b'Vg'</td>\n",
       "      <td>b'Vg'</td>\n",
       "      <td>b'N'</td>\n",
       "      <td>b'Unmarried'</td>\n",
       "      <td>b'T'</td>\n",
       "      <td>b'Paid'</td>\n",
       "      <td>...</td>\n",
       "      <td>b'12'</td>\n",
       "      <td>b'12'</td>\n",
       "      <td>b'Service'</td>\n",
       "      <td>b'Housewife'</td>\n",
       "      <td>b'Average'</td>\n",
       "      <td>b'Average'</td>\n",
       "      <td>b'Govt'</td>\n",
       "      <td>b'Asm'</td>\n",
       "      <td>b'Small'</td>\n",
       "      <td>b'Average'</td>\n",
       "    </tr>\n",
       "    <tr>\n",
       "      <th>120</th>\n",
       "      <td>b'F'</td>\n",
       "      <td>b'G'</td>\n",
       "      <td>b'Good'</td>\n",
       "      <td>b'Vg'</td>\n",
       "      <td>b'Vg'</td>\n",
       "      <td>b'Good'</td>\n",
       "      <td>b'N'</td>\n",
       "      <td>b'Unmarried'</td>\n",
       "      <td>b'V'</td>\n",
       "      <td>b'Free'</td>\n",
       "      <td>...</td>\n",
       "      <td>b'Il'</td>\n",
       "      <td>b'Il'</td>\n",
       "      <td>b'Farmer'</td>\n",
       "      <td>b'Housewife'</td>\n",
       "      <td>b'Small'</td>\n",
       "      <td>b'Poor'</td>\n",
       "      <td>b'Govt'</td>\n",
       "      <td>b'Asm'</td>\n",
       "      <td>b'Small'</td>\n",
       "      <td>b'Good'</td>\n",
       "    </tr>\n",
       "    <tr>\n",
       "      <th>121</th>\n",
       "      <td>b'M'</td>\n",
       "      <td>b'OBC'</td>\n",
       "      <td>b'Pass'</td>\n",
       "      <td>b'Pass'</td>\n",
       "      <td>b'Good'</td>\n",
       "      <td>b'Pass'</td>\n",
       "      <td>b'Y'</td>\n",
       "      <td>b'Unmarried'</td>\n",
       "      <td>b'V'</td>\n",
       "      <td>b'Free'</td>\n",
       "      <td>...</td>\n",
       "      <td>b'Um'</td>\n",
       "      <td>b'Um'</td>\n",
       "      <td>b'Farmer'</td>\n",
       "      <td>b'Housewife'</td>\n",
       "      <td>b'Average'</td>\n",
       "      <td>b'Average'</td>\n",
       "      <td>b'Govt'</td>\n",
       "      <td>b'Asm'</td>\n",
       "      <td>b'Average'</td>\n",
       "      <td>b'Poor'</td>\n",
       "    </tr>\n",
       "    <tr>\n",
       "      <th>122</th>\n",
       "      <td>b'M'</td>\n",
       "      <td>b'OBC'</td>\n",
       "      <td>b'Good'</td>\n",
       "      <td>b'Pass'</td>\n",
       "      <td>b'Vg'</td>\n",
       "      <td>b'Good'</td>\n",
       "      <td>b'N'</td>\n",
       "      <td>b'Unmarried'</td>\n",
       "      <td>b'V'</td>\n",
       "      <td>b'Free'</td>\n",
       "      <td>...</td>\n",
       "      <td>b'Il'</td>\n",
       "      <td>b'10'</td>\n",
       "      <td>b'Service'</td>\n",
       "      <td>b'Housewife'</td>\n",
       "      <td>b'Average'</td>\n",
       "      <td>b'Poor'</td>\n",
       "      <td>b'Govt'</td>\n",
       "      <td>b'Asm'</td>\n",
       "      <td>b'Small'</td>\n",
       "      <td>b'Poor'</td>\n",
       "    </tr>\n",
       "    <tr>\n",
       "      <th>123</th>\n",
       "      <td>b'M'</td>\n",
       "      <td>b'OBC'</td>\n",
       "      <td>b'Good'</td>\n",
       "      <td>b'Good'</td>\n",
       "      <td>b'Good'</td>\n",
       "      <td>b'Good'</td>\n",
       "      <td>b'Y'</td>\n",
       "      <td>b'Unmarried'</td>\n",
       "      <td>b'T'</td>\n",
       "      <td>b'Paid'</td>\n",
       "      <td>...</td>\n",
       "      <td>b'12'</td>\n",
       "      <td>b'Um'</td>\n",
       "      <td>b'Business'</td>\n",
       "      <td>b'Housewife'</td>\n",
       "      <td>b'Average'</td>\n",
       "      <td>b'Good'</td>\n",
       "      <td>b'Govt'</td>\n",
       "      <td>b'Eng'</td>\n",
       "      <td>b'Small'</td>\n",
       "      <td>b'Average'</td>\n",
       "    </tr>\n",
       "    <tr>\n",
       "      <th>124</th>\n",
       "      <td>b'M'</td>\n",
       "      <td>b'OBC'</td>\n",
       "      <td>b'Good'</td>\n",
       "      <td>b'Good'</td>\n",
       "      <td>b'Vg'</td>\n",
       "      <td>b'Good'</td>\n",
       "      <td>b'Y'</td>\n",
       "      <td>b'Unmarried'</td>\n",
       "      <td>b'V'</td>\n",
       "      <td>b'Free'</td>\n",
       "      <td>...</td>\n",
       "      <td>b'Il'</td>\n",
       "      <td>b'Il'</td>\n",
       "      <td>b'Service'</td>\n",
       "      <td>b'Housewife'</td>\n",
       "      <td>b'Average'</td>\n",
       "      <td>b'Average'</td>\n",
       "      <td>b'Govt'</td>\n",
       "      <td>b'Asm'</td>\n",
       "      <td>b'Average'</td>\n",
       "      <td>b'Poor'</td>\n",
       "    </tr>\n",
       "    <tr>\n",
       "      <th>125</th>\n",
       "      <td>b'M'</td>\n",
       "      <td>b'OBC'</td>\n",
       "      <td>b'Pass'</td>\n",
       "      <td>b'Good'</td>\n",
       "      <td>b'Good'</td>\n",
       "      <td>b'Pass'</td>\n",
       "      <td>b'N'</td>\n",
       "      <td>b'Unmarried'</td>\n",
       "      <td>b'T'</td>\n",
       "      <td>b'Free'</td>\n",
       "      <td>...</td>\n",
       "      <td>b'10'</td>\n",
       "      <td>b'Um'</td>\n",
       "      <td>b'Service'</td>\n",
       "      <td>b'Housewife'</td>\n",
       "      <td>b'Small'</td>\n",
       "      <td>b'Average'</td>\n",
       "      <td>b'Govt'</td>\n",
       "      <td>b'Eng'</td>\n",
       "      <td>b'Average'</td>\n",
       "      <td>b'Good'</td>\n",
       "    </tr>\n",
       "    <tr>\n",
       "      <th>126</th>\n",
       "      <td>b'M'</td>\n",
       "      <td>b'G'</td>\n",
       "      <td>b'Pass'</td>\n",
       "      <td>b'Good'</td>\n",
       "      <td>b'Good'</td>\n",
       "      <td>b'Pass'</td>\n",
       "      <td>b'Y'</td>\n",
       "      <td>b'Unmarried'</td>\n",
       "      <td>b'T'</td>\n",
       "      <td>b'Free'</td>\n",
       "      <td>...</td>\n",
       "      <td>b'Um'</td>\n",
       "      <td>b'Il'</td>\n",
       "      <td>b'Service'</td>\n",
       "      <td>b'Housewife'</td>\n",
       "      <td>b'Small'</td>\n",
       "      <td>b'Average'</td>\n",
       "      <td>b'Govt'</td>\n",
       "      <td>b'Asm'</td>\n",
       "      <td>b'Small'</td>\n",
       "      <td>b'Poor'</td>\n",
       "    </tr>\n",
       "    <tr>\n",
       "      <th>127</th>\n",
       "      <td>b'M'</td>\n",
       "      <td>b'MOBC'</td>\n",
       "      <td>b'Vg'</td>\n",
       "      <td>b'Vg'</td>\n",
       "      <td>b'Good'</td>\n",
       "      <td>b'Good'</td>\n",
       "      <td>b'N'</td>\n",
       "      <td>b'Unmarried'</td>\n",
       "      <td>b'V'</td>\n",
       "      <td>b'Free'</td>\n",
       "      <td>...</td>\n",
       "      <td>b'10'</td>\n",
       "      <td>b'Um'</td>\n",
       "      <td>b'Farmer'</td>\n",
       "      <td>b'Housewife'</td>\n",
       "      <td>b'Average'</td>\n",
       "      <td>b'Poor'</td>\n",
       "      <td>b'Govt'</td>\n",
       "      <td>b'Asm'</td>\n",
       "      <td>b'Small'</td>\n",
       "      <td>b'Average'</td>\n",
       "    </tr>\n",
       "    <tr>\n",
       "      <th>128</th>\n",
       "      <td>b'F'</td>\n",
       "      <td>b'OBC'</td>\n",
       "      <td>b'Good'</td>\n",
       "      <td>b'Good'</td>\n",
       "      <td>b'Vg'</td>\n",
       "      <td>b'Good'</td>\n",
       "      <td>b'N'</td>\n",
       "      <td>b'Unmarried'</td>\n",
       "      <td>b'V'</td>\n",
       "      <td>b'Free'</td>\n",
       "      <td>...</td>\n",
       "      <td>b'Il'</td>\n",
       "      <td>b'Il'</td>\n",
       "      <td>b'Farmer'</td>\n",
       "      <td>b'Housewife'</td>\n",
       "      <td>b'Small'</td>\n",
       "      <td>b'Average'</td>\n",
       "      <td>b'Govt'</td>\n",
       "      <td>b'Asm'</td>\n",
       "      <td>b'Large'</td>\n",
       "      <td>b'Good'</td>\n",
       "    </tr>\n",
       "    <tr>\n",
       "      <th>129</th>\n",
       "      <td>b'M'</td>\n",
       "      <td>b'ST'</td>\n",
       "      <td>b'Pass'</td>\n",
       "      <td>b'Pass'</td>\n",
       "      <td>b'Good'</td>\n",
       "      <td>b'Pass'</td>\n",
       "      <td>b'Y'</td>\n",
       "      <td>b'Unmarried'</td>\n",
       "      <td>b'V'</td>\n",
       "      <td>b'Free'</td>\n",
       "      <td>...</td>\n",
       "      <td>b'Um'</td>\n",
       "      <td>b'Um'</td>\n",
       "      <td>b'Service'</td>\n",
       "      <td>b'Housewife'</td>\n",
       "      <td>b'Average'</td>\n",
       "      <td>b'Average'</td>\n",
       "      <td>b'Govt'</td>\n",
       "      <td>b'Asm'</td>\n",
       "      <td>b'Large'</td>\n",
       "      <td>b'Average'</td>\n",
       "    </tr>\n",
       "    <tr>\n",
       "      <th>130</th>\n",
       "      <td>b'M'</td>\n",
       "      <td>b'G'</td>\n",
       "      <td>b'Pass'</td>\n",
       "      <td>b'Good'</td>\n",
       "      <td>b'Good'</td>\n",
       "      <td>b'Pass'</td>\n",
       "      <td>b'Y'</td>\n",
       "      <td>b'Unmarried'</td>\n",
       "      <td>b'V'</td>\n",
       "      <td>b'Free'</td>\n",
       "      <td>...</td>\n",
       "      <td>b'Um'</td>\n",
       "      <td>b'Um'</td>\n",
       "      <td>b'Business'</td>\n",
       "      <td>b'Housewife'</td>\n",
       "      <td>b'Average'</td>\n",
       "      <td>b'Average'</td>\n",
       "      <td>b'Govt'</td>\n",
       "      <td>b'Asm'</td>\n",
       "      <td>b'Small'</td>\n",
       "      <td>b'Average'</td>\n",
       "    </tr>\n",
       "  </tbody>\n",
       "</table>\n",
       "<p>131 rows × 22 columns</p>\n",
       "</div>"
      ],
      "text/plain": [
       "       ge      cst      tnp      twp      iap      esp   arr            ms  \\\n",
       "0    b'F'     b'G'  b'Good'  b'Good'    b'Vg'  b'Good'  b'Y'  b'Unmarried'   \n",
       "1    b'M'   b'OBC'    b'Vg'    b'Vg'    b'Vg'    b'Vg'  b'N'  b'Unmarried'   \n",
       "2    b'F'   b'OBC'  b'Good'  b'Good'    b'Vg'  b'Good'  b'N'  b'Unmarried'   \n",
       "3    b'M'  b'MOBC'  b'Pass'  b'Good'    b'Vg'  b'Good'  b'N'  b'Unmarried'   \n",
       "4    b'M'     b'G'  b'Good'  b'Good'    b'Vg'    b'Vg'  b'N'  b'Unmarried'   \n",
       "5    b'M'   b'OBC'    b'Vg'  b'Good'    b'Vg'    b'Vg'  b'N'  b'Unmarried'   \n",
       "6    b'F'   b'OBC'  b'Good'    b'Vg'  b'Good'  b'Good'  b'N'  b'Unmarried'   \n",
       "7    b'F'   b'OBC'  b'Good'  b'Good'  b'Good'  b'Good'  b'N'  b'Unmarried'   \n",
       "8    b'F'  b'MOBC'    b'Vg'  b'Good'  b'Good'    b'Vg'  b'Y'  b'Unmarried'   \n",
       "9    b'F'   b'OBC'    b'Vg'    b'Vg'  b'Good'    b'Vg'  b'Y'  b'Unmarried'   \n",
       "10   b'M'    b'ST'    b'Vg'    b'Vg'  b'Good'    b'Vg'  b'N'  b'Unmarried'   \n",
       "11   b'F'   b'OBC'    b'Vg'    b'Vg'  b'Good'    b'Vg'  b'N'  b'Unmarried'   \n",
       "12   b'M'   b'OBC'  b'Good'  b'Good'  b'Good'  b'Good'  b'Y'  b'Unmarried'   \n",
       "13   b'M'   b'OBC'  b'Good'  b'Good'  b'Pass'    b'Vg'  b'N'  b'Unmarried'   \n",
       "14   b'F'     b'G'    b'Vg'    b'Vg'  b'Good'    b'Vg'  b'N'  b'Unmarried'   \n",
       "15   b'F'    b'ST'    b'Vg'  b'Good'  b'Good'    b'Vg'  b'Y'  b'Unmarried'   \n",
       "16   b'F'    b'ST'    b'Vg'    b'Vg'    b'Vg'    b'Vg'  b'N'  b'Unmarried'   \n",
       "17   b'M'   b'OBC'  b'Good'  b'Good'    b'Vg'  b'Good'  b'Y'  b'Unmarried'   \n",
       "18   b'M'    b'ST'  b'Good'  b'Good'    b'Vg'  b'Good'  b'Y'  b'Unmarried'   \n",
       "19   b'M'    b'ST'    b'Vg'    b'Vg'    b'Vg'    b'Vg'  b'Y'  b'Unmarried'   \n",
       "20   b'F'     b'G'    b'Vg'    b'Vg'    b'Vg'    b'Vg'  b'N'  b'Unmarried'   \n",
       "21   b'F'     b'G'    b'Vg'  b'Good'    b'Vg'    b'Vg'  b'Y'  b'Unmarried'   \n",
       "22   b'F'   b'OBC'    b'Vg'    b'Vg'    b'Vg'  b'Best'  b'N'  b'Unmarried'   \n",
       "23   b'F'   b'OBC'    b'Vg'  b'Good'    b'Vg'    b'Vg'  b'Y'  b'Unmarried'   \n",
       "24   b'F'     b'G'    b'Vg'  b'Good'    b'Vg'  b'Good'  b'N'  b'Unmarried'   \n",
       "25   b'F'     b'G'    b'Vg'    b'Vg'    b'Vg'  b'Good'  b'N'  b'Unmarried'   \n",
       "26   b'F'   b'OBC'  b'Good'  b'Good'    b'Vg'    b'Vg'  b'Y'  b'Unmarried'   \n",
       "27   b'F'   b'OBC'  b'Good'  b'Good'    b'Vg'  b'Good'  b'Y'  b'Unmarried'   \n",
       "28   b'M'     b'G'  b'Good'  b'Good'  b'Good'  b'Good'  b'Y'  b'Unmarried'   \n",
       "29   b'F'   b'OBC'    b'Vg'    b'Vg'  b'Good'  b'Good'  b'Y'  b'Unmarried'   \n",
       "..    ...      ...      ...      ...      ...      ...   ...           ...   \n",
       "101  b'M'  b'MOBC'  b'Good'  b'Pass'    b'Vg'  b'Pass'  b'N'  b'Unmarried'   \n",
       "102  b'M'     b'G'  b'Pass'  b'Good'    b'Vg'  b'Pass'  b'Y'  b'Unmarried'   \n",
       "103  b'M'     b'G'  b'Good'  b'Pass'  b'Good'  b'Good'  b'Y'  b'Unmarried'   \n",
       "104  b'M'   b'OBC'  b'Good'  b'Pass'    b'Vg'  b'Pass'  b'Y'  b'Unmarried'   \n",
       "105  b'M'     b'G'  b'Good'  b'Pass'    b'Vg'  b'Pass'  b'Y'  b'Unmarried'   \n",
       "106  b'M'  b'MOBC'  b'Pass'    b'Vg'    b'Vg'  b'Good'  b'N'  b'Unmarried'   \n",
       "107  b'M'   b'OBC'  b'Good'  b'Pass'  b'Good'  b'Pass'  b'Y'  b'Unmarried'   \n",
       "108  b'F'   b'OBC'  b'Pass'  b'Good'  b'Good'  b'Good'  b'N'  b'Unmarried'   \n",
       "109  b'M'   b'OBC'  b'Pass'  b'Good'  b'Good'  b'Pass'  b'Y'  b'Unmarried'   \n",
       "110  b'M'    b'ST'  b'Good'  b'Good'  b'Pass'  b'Pass'  b'Y'  b'Unmarried'   \n",
       "111  b'M'    b'ST'    b'Vg'  b'Good'    b'Vg'  b'Pass'  b'Y'  b'Unmarried'   \n",
       "112  b'M'    b'ST'  b'Pass'  b'Good'  b'Good'  b'Pass'  b'Y'  b'Unmarried'   \n",
       "113  b'F'     b'G'  b'Good'  b'Pass'  b'Good'  b'Pass'  b'Y'  b'Unmarried'   \n",
       "114  b'F'     b'G'  b'Pass'  b'Pass'  b'Pass'  b'Pass'  b'Y'  b'Unmarried'   \n",
       "115  b'F'     b'G'  b'Good'  b'Good'  b'Good'  b'Good'  b'N'  b'Unmarried'   \n",
       "116  b'M'     b'G'  b'Good'  b'Good'  b'Good'  b'Good'  b'N'  b'Unmarried'   \n",
       "117  b'M'     b'G'  b'Good'  b'Best'    b'Vg'    b'Vg'  b'N'  b'Unmarried'   \n",
       "118  b'M'   b'OBC'  b'Pass'    b'Vg'  b'Good'  b'Pass'  b'Y'  b'Unmarried'   \n",
       "119  b'M'     b'G'    b'Vg'    b'Vg'    b'Vg'    b'Vg'  b'N'  b'Unmarried'   \n",
       "120  b'F'     b'G'  b'Good'    b'Vg'    b'Vg'  b'Good'  b'N'  b'Unmarried'   \n",
       "121  b'M'   b'OBC'  b'Pass'  b'Pass'  b'Good'  b'Pass'  b'Y'  b'Unmarried'   \n",
       "122  b'M'   b'OBC'  b'Good'  b'Pass'    b'Vg'  b'Good'  b'N'  b'Unmarried'   \n",
       "123  b'M'   b'OBC'  b'Good'  b'Good'  b'Good'  b'Good'  b'Y'  b'Unmarried'   \n",
       "124  b'M'   b'OBC'  b'Good'  b'Good'    b'Vg'  b'Good'  b'Y'  b'Unmarried'   \n",
       "125  b'M'   b'OBC'  b'Pass'  b'Good'  b'Good'  b'Pass'  b'N'  b'Unmarried'   \n",
       "126  b'M'     b'G'  b'Pass'  b'Good'  b'Good'  b'Pass'  b'Y'  b'Unmarried'   \n",
       "127  b'M'  b'MOBC'    b'Vg'    b'Vg'  b'Good'  b'Good'  b'N'  b'Unmarried'   \n",
       "128  b'F'   b'OBC'  b'Good'  b'Good'    b'Vg'  b'Good'  b'N'  b'Unmarried'   \n",
       "129  b'M'    b'ST'  b'Pass'  b'Pass'  b'Good'  b'Pass'  b'Y'  b'Unmarried'   \n",
       "130  b'M'     b'G'  b'Pass'  b'Good'  b'Good'  b'Pass'  b'Y'  b'Unmarried'   \n",
       "\n",
       "       ls       as  ...         fq         mq           fo            mo  \\\n",
       "0    b'V'  b'Paid'  ...      b'Um'      b'10'    b'Farmer'  b'Housewife'   \n",
       "1    b'V'  b'Paid'  ...      b'Um'      b'Il'   b'Service'    b'Service'   \n",
       "2    b'V'  b'Paid'  ...      b'12'      b'10'   b'Service'  b'Housewife'   \n",
       "3    b'V'  b'Paid'  ...      b'12'      b'Um'  b'Business'   b'Business'   \n",
       "4    b'V'  b'Paid'  ...      b'10'      b'12'   b'Service'  b'Housewife'   \n",
       "5    b'V'  b'Paid'  ...      b'10'      b'Um'    b'Farmer'  b'Housewife'   \n",
       "6    b'V'  b'Paid'  ...      b'12'  b'Degree'   b'Service'    b'Service'   \n",
       "7    b'V'  b'Paid'  ...      b'Il'      b'Um'    b'Farmer'  b'Housewife'   \n",
       "8    b'V'  b'Paid'  ...      b'12'      b'10'    b'Others'  b'Housewife'   \n",
       "9    b'V'  b'Paid'  ...  b'Degree'  b'Degree'    b'Others'  b'Housewife'   \n",
       "10   b'V'  b'Paid'  ...      b'Pg'      b'Pg'   b'Retired'    b'Retired'   \n",
       "11   b'V'  b'Paid'  ...  b'Degree'      b'12'   b'Service'  b'Housewife'   \n",
       "12   b'V'  b'Paid'  ...  b'Degree'      b'10'   b'Service'  b'Housewife'   \n",
       "13   b'V'  b'Paid'  ...      b'Il'      b'Il'    b'Others'  b'Housewife'   \n",
       "14   b'V'  b'Paid'  ...  b'Degree'      b'10'  b'Business'  b'Housewife'   \n",
       "15   b'V'  b'Paid'  ...      b'10'      b'10'    b'Others'  b'Housewife'   \n",
       "16   b'V'  b'Paid'  ...      b'Pg'      b'12'  b'Business'  b'Housewife'   \n",
       "17   b'V'  b'Paid'  ...      b'12'      b'12'    b'Farmer'  b'Housewife'   \n",
       "18   b'V'  b'Paid'  ...      b'10'      b'12'    b'Farmer'  b'Housewife'   \n",
       "19   b'V'  b'Paid'  ...  b'Degree'      b'12'    b'Farmer'  b'Housewife'   \n",
       "20   b'V'  b'Paid'  ...  b'Degree'  b'Degree'   b'Service'  b'Housewife'   \n",
       "21   b'V'  b'Paid'  ...      b'10'      b'10'   b'Service'  b'Housewife'   \n",
       "22   b'V'  b'Paid'  ...  b'Degree'      b'Pg'  b'Business'    b'Service'   \n",
       "23   b'V'  b'Paid'  ...      b'10'      b'Um'    b'Farmer'  b'Housewife'   \n",
       "24   b'V'  b'Paid'  ...      b'12'      b'Um'  b'Business'  b'Housewife'   \n",
       "25   b'T'  b'Paid'  ...      b'Il'      b'Il'  b'Business'  b'Housewife'   \n",
       "26   b'T'  b'Paid'  ...      b'10'      b'10'   b'Service'  b'Housewife'   \n",
       "27   b'V'  b'Paid'  ...      b'Um'      b'Um'    b'Others'  b'Housewife'   \n",
       "28   b'T'  b'Paid'  ...      b'Pg'  b'Degree'   b'Service'  b'Housewife'   \n",
       "29   b'V'  b'Free'  ...      b'12'      b'10'    b'Others'  b'Housewife'   \n",
       "..    ...      ...  ...        ...        ...          ...           ...   \n",
       "101  b'V'  b'Free'  ...      b'Um'      b'Il'    b'Farmer'    b'Service'   \n",
       "102  b'V'  b'Free'  ...      b'Um'      b'Um'    b'Farmer'  b'Housewife'   \n",
       "103  b'V'  b'Free'  ...      b'Um'      b'Um'    b'Farmer'  b'Housewife'   \n",
       "104  b'V'  b'Free'  ...      b'Um'      b'Um'   b'Service'    b'Service'   \n",
       "105  b'V'  b'Free'  ...  b'Degree'      b'12'   b'Service'  b'Housewife'   \n",
       "106  b'V'  b'Free'  ...      b'Il'      b'Il'   b'Service'  b'Housewife'   \n",
       "107  b'V'  b'Free'  ...      b'Il'      b'Il'    b'Others'    b'Service'   \n",
       "108  b'V'  b'Free'  ...      b'Um'      b'10'   b'Service'    b'Service'   \n",
       "109  b'V'  b'Free'  ...      b'Um'      b'Um'    b'Farmer'  b'Housewife'   \n",
       "110  b'V'  b'Free'  ...      b'12'      b'Um'    b'Farmer'  b'Housewife'   \n",
       "111  b'V'  b'Free'  ...      b'Um'      b'Um'    b'Farmer'  b'Housewife'   \n",
       "112  b'V'  b'Paid'  ...      b'12'      b'Um'   b'Retired'  b'Housewife'   \n",
       "113  b'T'  b'Free'  ...      b'Um'      b'Um'  b'Business'  b'Housewife'   \n",
       "114  b'T'  b'Free'  ...      b'Il'      b'Il'    b'Others'  b'Housewife'   \n",
       "115  b'T'  b'Free'  ...  b'Degree'      b'12'  b'Business'  b'Housewife'   \n",
       "116  b'V'  b'Free'  ...  b'Degree'      b'10'    b'Farmer'  b'Housewife'   \n",
       "117  b'V'  b'Paid'  ...  b'Degree'  b'Degree'    b'Others'  b'Housewife'   \n",
       "118  b'V'  b'Free'  ...      b'10'      b'Um'    b'Others'  b'Housewife'   \n",
       "119  b'T'  b'Paid'  ...      b'12'      b'12'   b'Service'  b'Housewife'   \n",
       "120  b'V'  b'Free'  ...      b'Il'      b'Il'    b'Farmer'  b'Housewife'   \n",
       "121  b'V'  b'Free'  ...      b'Um'      b'Um'    b'Farmer'  b'Housewife'   \n",
       "122  b'V'  b'Free'  ...      b'Il'      b'10'   b'Service'  b'Housewife'   \n",
       "123  b'T'  b'Paid'  ...      b'12'      b'Um'  b'Business'  b'Housewife'   \n",
       "124  b'V'  b'Free'  ...      b'Il'      b'Il'   b'Service'  b'Housewife'   \n",
       "125  b'T'  b'Free'  ...      b'10'      b'Um'   b'Service'  b'Housewife'   \n",
       "126  b'T'  b'Free'  ...      b'Um'      b'Il'   b'Service'  b'Housewife'   \n",
       "127  b'V'  b'Free'  ...      b'10'      b'Um'    b'Farmer'  b'Housewife'   \n",
       "128  b'V'  b'Free'  ...      b'Il'      b'Il'    b'Farmer'  b'Housewife'   \n",
       "129  b'V'  b'Free'  ...      b'Um'      b'Um'   b'Service'  b'Housewife'   \n",
       "130  b'V'  b'Free'  ...      b'Um'      b'Um'  b'Business'  b'Housewife'   \n",
       "\n",
       "             nf          sh          ss      me          tt         atd  \n",
       "0      b'Large'     b'Poor'     b'Govt'  b'Asm'    b'Small'     b'Good'  \n",
       "1      b'Small'     b'Poor'     b'Govt'  b'Asm'  b'Average'  b'Average'  \n",
       "2    b'Average'  b'Average'     b'Govt'  b'Asm'    b'Large'     b'Good'  \n",
       "3      b'Large'     b'Poor'     b'Govt'  b'Asm'  b'Average'  b'Average'  \n",
       "4      b'Large'     b'Poor'  b'Private'  b'Asm'    b'Small'     b'Good'  \n",
       "5      b'Small'     b'Poor'  b'Private'  b'Eng'  b'Average'  b'Average'  \n",
       "6    b'Average'     b'Poor'     b'Govt'  b'Asm'    b'Small'     b'Good'  \n",
       "7      b'Small'     b'Poor'  b'Private'  b'Asm'  b'Average'     b'Good'  \n",
       "8      b'Small'     b'Good'     b'Govt'  b'Asm'  b'Average'     b'Good'  \n",
       "9      b'Large'  b'Average'     b'Govt'  b'Asm'  b'Average'     b'Good'  \n",
       "10     b'Large'     b'Good'  b'Private'  b'Eng'    b'Large'     b'Good'  \n",
       "11     b'Large'  b'Average'     b'Govt'  b'Eng'  b'Average'     b'Good'  \n",
       "12     b'Large'     b'Poor'  b'Private'  b'Eng'  b'Average'     b'Good'  \n",
       "13     b'Large'     b'Good'     b'Govt'  b'Asm'  b'Average'     b'Good'  \n",
       "14     b'Large'     b'Poor'     b'Govt'  b'Eng'    b'Small'     b'Good'  \n",
       "15     b'Large'  b'Average'     b'Govt'  b'Asm'  b'Average'     b'Good'  \n",
       "16     b'Large'     b'Poor'  b'Private'  b'Eng'    b'Small'     b'Good'  \n",
       "17     b'Large'  b'Average'     b'Govt'  b'Eng'    b'Small'     b'Good'  \n",
       "18     b'Large'  b'Average'     b'Govt'  b'Eng'    b'Small'     b'Good'  \n",
       "19     b'Large'     b'Poor'     b'Govt'  b'Eng'  b'Average'     b'Good'  \n",
       "20     b'Large'     b'Poor'     b'Govt'  b'Eng'    b'Small'     b'Good'  \n",
       "21     b'Large'     b'Poor'  b'Private'  b'Eng'    b'Small'     b'Good'  \n",
       "22     b'Large'  b'Average'     b'Govt'  b'Eng'    b'Small'     b'Good'  \n",
       "23     b'Large'  b'Average'     b'Govt'  b'Eng'    b'Small'     b'Good'  \n",
       "24     b'Large'     b'Poor'     b'Govt'  b'Eng'    b'Small'     b'Good'  \n",
       "25     b'Large'     b'Poor'     b'Govt'  b'Eng'  b'Average'  b'Average'  \n",
       "26     b'Large'     b'Poor'     b'Govt'  b'Eng'    b'Small'  b'Average'  \n",
       "27     b'Large'  b'Average'  b'Private'  b'Eng'    b'Small'     b'Good'  \n",
       "28     b'Large'     b'Poor'  b'Private'  b'Eng'  b'Average'  b'Average'  \n",
       "29     b'Small'  b'Average'  b'Private'  b'Asm'  b'Average'  b'Average'  \n",
       "..          ...         ...         ...     ...         ...         ...  \n",
       "101    b'Small'  b'Average'     b'Govt'  b'Asm'    b'Large'  b'Average'  \n",
       "102  b'Average'  b'Average'     b'Govt'  b'Asm'  b'Average'     b'Good'  \n",
       "103  b'Average'  b'Average'     b'Govt'  b'Asm'    b'Small'  b'Average'  \n",
       "104    b'Large'  b'Average'     b'Govt'  b'Asm'  b'Average'     b'Poor'  \n",
       "105  b'Average'  b'Average'     b'Govt'  b'Asm'    b'Small'     b'Poor'  \n",
       "106    b'Large'  b'Average'  b'Private'  b'Asm'    b'Small'  b'Average'  \n",
       "107  b'Average'     b'Poor'     b'Govt'  b'Asm'    b'Small'     b'Poor'  \n",
       "108  b'Average'  b'Average'     b'Govt'  b'Asm'    b'Small'     b'Poor'  \n",
       "109  b'Average'  b'Average'     b'Govt'  b'Asm'  b'Average'  b'Average'  \n",
       "110  b'Average'  b'Average'     b'Govt'  b'Asm'  b'Average'     b'Poor'  \n",
       "111    b'Small'     b'Poor'     b'Govt'  b'Asm'  b'Average'     b'Poor'  \n",
       "112  b'Average'  b'Average'     b'Govt'  b'Asm'  b'Average'     b'Poor'  \n",
       "113  b'Average'  b'Average'  b'Private'  b'Asm'  b'Average'     b'Good'  \n",
       "114  b'Average'     b'Poor'     b'Govt'  b'Asm'  b'Average'  b'Average'  \n",
       "115  b'Average'     b'Good'     b'Govt'  b'Asm'  b'Average'  b'Average'  \n",
       "116  b'Average'  b'Average'     b'Govt'  b'Asm'  b'Average'     b'Poor'  \n",
       "117  b'Average'  b'Average'     b'Govt'  b'Asm'    b'Large'  b'Average'  \n",
       "118  b'Average'  b'Average'  b'Private'  b'Asm'  b'Average'  b'Average'  \n",
       "119  b'Average'  b'Average'     b'Govt'  b'Asm'    b'Small'  b'Average'  \n",
       "120    b'Small'     b'Poor'     b'Govt'  b'Asm'    b'Small'     b'Good'  \n",
       "121  b'Average'  b'Average'     b'Govt'  b'Asm'  b'Average'     b'Poor'  \n",
       "122  b'Average'     b'Poor'     b'Govt'  b'Asm'    b'Small'     b'Poor'  \n",
       "123  b'Average'     b'Good'     b'Govt'  b'Eng'    b'Small'  b'Average'  \n",
       "124  b'Average'  b'Average'     b'Govt'  b'Asm'  b'Average'     b'Poor'  \n",
       "125    b'Small'  b'Average'     b'Govt'  b'Eng'  b'Average'     b'Good'  \n",
       "126    b'Small'  b'Average'     b'Govt'  b'Asm'    b'Small'     b'Poor'  \n",
       "127  b'Average'     b'Poor'     b'Govt'  b'Asm'    b'Small'  b'Average'  \n",
       "128    b'Small'  b'Average'     b'Govt'  b'Asm'    b'Large'     b'Good'  \n",
       "129  b'Average'  b'Average'     b'Govt'  b'Asm'    b'Large'  b'Average'  \n",
       "130  b'Average'  b'Average'     b'Govt'  b'Asm'    b'Small'  b'Average'  \n",
       "\n",
       "[131 rows x 22 columns]"
      ]
     },
     "execution_count": 4,
     "metadata": {},
     "output_type": "execute_result"
    }
   ],
   "source": [
    "data"
   ]
  },
  {
   "cell_type": "code",
   "execution_count": 5,
   "metadata": {},
   "outputs": [
    {
     "name": "stdout",
     "output_type": "stream",
     "text": [
      "       ge      cst      tnp      twp      iap      esp   arr            ms  \\\n",
      "0    b'F'     b'G'  b'Good'  b'Good'    b'Vg'  b'Good'  b'Y'  b'Unmarried'   \n",
      "1    b'M'   b'OBC'    b'Vg'    b'Vg'    b'Vg'    b'Vg'  b'N'  b'Unmarried'   \n",
      "2    b'F'   b'OBC'  b'Good'  b'Good'    b'Vg'  b'Good'  b'N'  b'Unmarried'   \n",
      "3    b'M'  b'MOBC'  b'Pass'  b'Good'    b'Vg'  b'Good'  b'N'  b'Unmarried'   \n",
      "4    b'M'     b'G'  b'Good'  b'Good'    b'Vg'    b'Vg'  b'N'  b'Unmarried'   \n",
      "5    b'M'   b'OBC'    b'Vg'  b'Good'    b'Vg'    b'Vg'  b'N'  b'Unmarried'   \n",
      "6    b'F'   b'OBC'  b'Good'    b'Vg'  b'Good'  b'Good'  b'N'  b'Unmarried'   \n",
      "7    b'F'   b'OBC'  b'Good'  b'Good'  b'Good'  b'Good'  b'N'  b'Unmarried'   \n",
      "8    b'F'  b'MOBC'    b'Vg'  b'Good'  b'Good'    b'Vg'  b'Y'  b'Unmarried'   \n",
      "9    b'F'   b'OBC'    b'Vg'    b'Vg'  b'Good'    b'Vg'  b'Y'  b'Unmarried'   \n",
      "10   b'M'    b'ST'    b'Vg'    b'Vg'  b'Good'    b'Vg'  b'N'  b'Unmarried'   \n",
      "11   b'F'   b'OBC'    b'Vg'    b'Vg'  b'Good'    b'Vg'  b'N'  b'Unmarried'   \n",
      "12   b'M'   b'OBC'  b'Good'  b'Good'  b'Good'  b'Good'  b'Y'  b'Unmarried'   \n",
      "13   b'M'   b'OBC'  b'Good'  b'Good'  b'Pass'    b'Vg'  b'N'  b'Unmarried'   \n",
      "14   b'F'     b'G'    b'Vg'    b'Vg'  b'Good'    b'Vg'  b'N'  b'Unmarried'   \n",
      "15   b'F'    b'ST'    b'Vg'  b'Good'  b'Good'    b'Vg'  b'Y'  b'Unmarried'   \n",
      "16   b'F'    b'ST'    b'Vg'    b'Vg'    b'Vg'    b'Vg'  b'N'  b'Unmarried'   \n",
      "17   b'M'   b'OBC'  b'Good'  b'Good'    b'Vg'  b'Good'  b'Y'  b'Unmarried'   \n",
      "18   b'M'    b'ST'  b'Good'  b'Good'    b'Vg'  b'Good'  b'Y'  b'Unmarried'   \n",
      "19   b'M'    b'ST'    b'Vg'    b'Vg'    b'Vg'    b'Vg'  b'Y'  b'Unmarried'   \n",
      "20   b'F'     b'G'    b'Vg'    b'Vg'    b'Vg'    b'Vg'  b'N'  b'Unmarried'   \n",
      "21   b'F'     b'G'    b'Vg'  b'Good'    b'Vg'    b'Vg'  b'Y'  b'Unmarried'   \n",
      "22   b'F'   b'OBC'    b'Vg'    b'Vg'    b'Vg'  b'Best'  b'N'  b'Unmarried'   \n",
      "23   b'F'   b'OBC'    b'Vg'  b'Good'    b'Vg'    b'Vg'  b'Y'  b'Unmarried'   \n",
      "24   b'F'     b'G'    b'Vg'  b'Good'    b'Vg'  b'Good'  b'N'  b'Unmarried'   \n",
      "25   b'F'     b'G'    b'Vg'    b'Vg'    b'Vg'  b'Good'  b'N'  b'Unmarried'   \n",
      "26   b'F'   b'OBC'  b'Good'  b'Good'    b'Vg'    b'Vg'  b'Y'  b'Unmarried'   \n",
      "27   b'F'   b'OBC'  b'Good'  b'Good'    b'Vg'  b'Good'  b'Y'  b'Unmarried'   \n",
      "28   b'M'     b'G'  b'Good'  b'Good'  b'Good'  b'Good'  b'Y'  b'Unmarried'   \n",
      "29   b'F'   b'OBC'    b'Vg'    b'Vg'  b'Good'  b'Good'  b'Y'  b'Unmarried'   \n",
      "..    ...      ...      ...      ...      ...      ...   ...           ...   \n",
      "101  b'M'  b'MOBC'  b'Good'  b'Pass'    b'Vg'  b'Pass'  b'N'  b'Unmarried'   \n",
      "102  b'M'     b'G'  b'Pass'  b'Good'    b'Vg'  b'Pass'  b'Y'  b'Unmarried'   \n",
      "103  b'M'     b'G'  b'Good'  b'Pass'  b'Good'  b'Good'  b'Y'  b'Unmarried'   \n",
      "104  b'M'   b'OBC'  b'Good'  b'Pass'    b'Vg'  b'Pass'  b'Y'  b'Unmarried'   \n",
      "105  b'M'     b'G'  b'Good'  b'Pass'    b'Vg'  b'Pass'  b'Y'  b'Unmarried'   \n",
      "106  b'M'  b'MOBC'  b'Pass'    b'Vg'    b'Vg'  b'Good'  b'N'  b'Unmarried'   \n",
      "107  b'M'   b'OBC'  b'Good'  b'Pass'  b'Good'  b'Pass'  b'Y'  b'Unmarried'   \n",
      "108  b'F'   b'OBC'  b'Pass'  b'Good'  b'Good'  b'Good'  b'N'  b'Unmarried'   \n",
      "109  b'M'   b'OBC'  b'Pass'  b'Good'  b'Good'  b'Pass'  b'Y'  b'Unmarried'   \n",
      "110  b'M'    b'ST'  b'Good'  b'Good'  b'Pass'  b'Pass'  b'Y'  b'Unmarried'   \n",
      "111  b'M'    b'ST'    b'Vg'  b'Good'    b'Vg'  b'Pass'  b'Y'  b'Unmarried'   \n",
      "112  b'M'    b'ST'  b'Pass'  b'Good'  b'Good'  b'Pass'  b'Y'  b'Unmarried'   \n",
      "113  b'F'     b'G'  b'Good'  b'Pass'  b'Good'  b'Pass'  b'Y'  b'Unmarried'   \n",
      "114  b'F'     b'G'  b'Pass'  b'Pass'  b'Pass'  b'Pass'  b'Y'  b'Unmarried'   \n",
      "115  b'F'     b'G'  b'Good'  b'Good'  b'Good'  b'Good'  b'N'  b'Unmarried'   \n",
      "116  b'M'     b'G'  b'Good'  b'Good'  b'Good'  b'Good'  b'N'  b'Unmarried'   \n",
      "117  b'M'     b'G'  b'Good'  b'Best'    b'Vg'    b'Vg'  b'N'  b'Unmarried'   \n",
      "118  b'M'   b'OBC'  b'Pass'    b'Vg'  b'Good'  b'Pass'  b'Y'  b'Unmarried'   \n",
      "119  b'M'     b'G'    b'Vg'    b'Vg'    b'Vg'    b'Vg'  b'N'  b'Unmarried'   \n",
      "120  b'F'     b'G'  b'Good'    b'Vg'    b'Vg'  b'Good'  b'N'  b'Unmarried'   \n",
      "121  b'M'   b'OBC'  b'Pass'  b'Pass'  b'Good'  b'Pass'  b'Y'  b'Unmarried'   \n",
      "122  b'M'   b'OBC'  b'Good'  b'Pass'    b'Vg'  b'Good'  b'N'  b'Unmarried'   \n",
      "123  b'M'   b'OBC'  b'Good'  b'Good'  b'Good'  b'Good'  b'Y'  b'Unmarried'   \n",
      "124  b'M'   b'OBC'  b'Good'  b'Good'    b'Vg'  b'Good'  b'Y'  b'Unmarried'   \n",
      "125  b'M'   b'OBC'  b'Pass'  b'Good'  b'Good'  b'Pass'  b'N'  b'Unmarried'   \n",
      "126  b'M'     b'G'  b'Pass'  b'Good'  b'Good'  b'Pass'  b'Y'  b'Unmarried'   \n",
      "127  b'M'  b'MOBC'    b'Vg'    b'Vg'  b'Good'  b'Good'  b'N'  b'Unmarried'   \n",
      "128  b'F'   b'OBC'  b'Good'  b'Good'    b'Vg'  b'Good'  b'N'  b'Unmarried'   \n",
      "129  b'M'    b'ST'  b'Pass'  b'Pass'  b'Good'  b'Pass'  b'Y'  b'Unmarried'   \n",
      "130  b'M'     b'G'  b'Pass'  b'Good'  b'Good'  b'Pass'  b'Y'  b'Unmarried'   \n",
      "\n",
      "       ls       as  ...         fq         mq           fo            mo  \\\n",
      "0    b'V'  b'Paid'  ...      b'Um'      b'10'    b'Farmer'  b'Housewife'   \n",
      "1    b'V'  b'Paid'  ...      b'Um'      b'Il'   b'Service'    b'Service'   \n",
      "2    b'V'  b'Paid'  ...      b'12'      b'10'   b'Service'  b'Housewife'   \n",
      "3    b'V'  b'Paid'  ...      b'12'      b'Um'  b'Business'   b'Business'   \n",
      "4    b'V'  b'Paid'  ...      b'10'      b'12'   b'Service'  b'Housewife'   \n",
      "5    b'V'  b'Paid'  ...      b'10'      b'Um'    b'Farmer'  b'Housewife'   \n",
      "6    b'V'  b'Paid'  ...      b'12'  b'Degree'   b'Service'    b'Service'   \n",
      "7    b'V'  b'Paid'  ...      b'Il'      b'Um'    b'Farmer'  b'Housewife'   \n",
      "8    b'V'  b'Paid'  ...      b'12'      b'10'    b'Others'  b'Housewife'   \n",
      "9    b'V'  b'Paid'  ...  b'Degree'  b'Degree'    b'Others'  b'Housewife'   \n",
      "10   b'V'  b'Paid'  ...      b'Pg'      b'Pg'   b'Retired'    b'Retired'   \n",
      "11   b'V'  b'Paid'  ...  b'Degree'      b'12'   b'Service'  b'Housewife'   \n",
      "12   b'V'  b'Paid'  ...  b'Degree'      b'10'   b'Service'  b'Housewife'   \n",
      "13   b'V'  b'Paid'  ...      b'Il'      b'Il'    b'Others'  b'Housewife'   \n",
      "14   b'V'  b'Paid'  ...  b'Degree'      b'10'  b'Business'  b'Housewife'   \n",
      "15   b'V'  b'Paid'  ...      b'10'      b'10'    b'Others'  b'Housewife'   \n",
      "16   b'V'  b'Paid'  ...      b'Pg'      b'12'  b'Business'  b'Housewife'   \n",
      "17   b'V'  b'Paid'  ...      b'12'      b'12'    b'Farmer'  b'Housewife'   \n",
      "18   b'V'  b'Paid'  ...      b'10'      b'12'    b'Farmer'  b'Housewife'   \n",
      "19   b'V'  b'Paid'  ...  b'Degree'      b'12'    b'Farmer'  b'Housewife'   \n",
      "20   b'V'  b'Paid'  ...  b'Degree'  b'Degree'   b'Service'  b'Housewife'   \n",
      "21   b'V'  b'Paid'  ...      b'10'      b'10'   b'Service'  b'Housewife'   \n",
      "22   b'V'  b'Paid'  ...  b'Degree'      b'Pg'  b'Business'    b'Service'   \n",
      "23   b'V'  b'Paid'  ...      b'10'      b'Um'    b'Farmer'  b'Housewife'   \n",
      "24   b'V'  b'Paid'  ...      b'12'      b'Um'  b'Business'  b'Housewife'   \n",
      "25   b'T'  b'Paid'  ...      b'Il'      b'Il'  b'Business'  b'Housewife'   \n",
      "26   b'T'  b'Paid'  ...      b'10'      b'10'   b'Service'  b'Housewife'   \n",
      "27   b'V'  b'Paid'  ...      b'Um'      b'Um'    b'Others'  b'Housewife'   \n",
      "28   b'T'  b'Paid'  ...      b'Pg'  b'Degree'   b'Service'  b'Housewife'   \n",
      "29   b'V'  b'Free'  ...      b'12'      b'10'    b'Others'  b'Housewife'   \n",
      "..    ...      ...  ...        ...        ...          ...           ...   \n",
      "101  b'V'  b'Free'  ...      b'Um'      b'Il'    b'Farmer'    b'Service'   \n",
      "102  b'V'  b'Free'  ...      b'Um'      b'Um'    b'Farmer'  b'Housewife'   \n",
      "103  b'V'  b'Free'  ...      b'Um'      b'Um'    b'Farmer'  b'Housewife'   \n",
      "104  b'V'  b'Free'  ...      b'Um'      b'Um'   b'Service'    b'Service'   \n",
      "105  b'V'  b'Free'  ...  b'Degree'      b'12'   b'Service'  b'Housewife'   \n",
      "106  b'V'  b'Free'  ...      b'Il'      b'Il'   b'Service'  b'Housewife'   \n",
      "107  b'V'  b'Free'  ...      b'Il'      b'Il'    b'Others'    b'Service'   \n",
      "108  b'V'  b'Free'  ...      b'Um'      b'10'   b'Service'    b'Service'   \n",
      "109  b'V'  b'Free'  ...      b'Um'      b'Um'    b'Farmer'  b'Housewife'   \n",
      "110  b'V'  b'Free'  ...      b'12'      b'Um'    b'Farmer'  b'Housewife'   \n",
      "111  b'V'  b'Free'  ...      b'Um'      b'Um'    b'Farmer'  b'Housewife'   \n",
      "112  b'V'  b'Paid'  ...      b'12'      b'Um'   b'Retired'  b'Housewife'   \n",
      "113  b'T'  b'Free'  ...      b'Um'      b'Um'  b'Business'  b'Housewife'   \n",
      "114  b'T'  b'Free'  ...      b'Il'      b'Il'    b'Others'  b'Housewife'   \n",
      "115  b'T'  b'Free'  ...  b'Degree'      b'12'  b'Business'  b'Housewife'   \n",
      "116  b'V'  b'Free'  ...  b'Degree'      b'10'    b'Farmer'  b'Housewife'   \n",
      "117  b'V'  b'Paid'  ...  b'Degree'  b'Degree'    b'Others'  b'Housewife'   \n",
      "118  b'V'  b'Free'  ...      b'10'      b'Um'    b'Others'  b'Housewife'   \n",
      "119  b'T'  b'Paid'  ...      b'12'      b'12'   b'Service'  b'Housewife'   \n",
      "120  b'V'  b'Free'  ...      b'Il'      b'Il'    b'Farmer'  b'Housewife'   \n",
      "121  b'V'  b'Free'  ...      b'Um'      b'Um'    b'Farmer'  b'Housewife'   \n",
      "122  b'V'  b'Free'  ...      b'Il'      b'10'   b'Service'  b'Housewife'   \n",
      "123  b'T'  b'Paid'  ...      b'12'      b'Um'  b'Business'  b'Housewife'   \n",
      "124  b'V'  b'Free'  ...      b'Il'      b'Il'   b'Service'  b'Housewife'   \n",
      "125  b'T'  b'Free'  ...      b'10'      b'Um'   b'Service'  b'Housewife'   \n",
      "126  b'T'  b'Free'  ...      b'Um'      b'Il'   b'Service'  b'Housewife'   \n",
      "127  b'V'  b'Free'  ...      b'10'      b'Um'    b'Farmer'  b'Housewife'   \n",
      "128  b'V'  b'Free'  ...      b'Il'      b'Il'    b'Farmer'  b'Housewife'   \n",
      "129  b'V'  b'Free'  ...      b'Um'      b'Um'   b'Service'  b'Housewife'   \n",
      "130  b'V'  b'Free'  ...      b'Um'      b'Um'  b'Business'  b'Housewife'   \n",
      "\n",
      "             nf          sh          ss      me          tt         atd  \n",
      "0      b'Large'     b'Poor'     b'Govt'  b'Asm'    b'Small'     b'Good'  \n",
      "1      b'Small'     b'Poor'     b'Govt'  b'Asm'  b'Average'  b'Average'  \n",
      "2    b'Average'  b'Average'     b'Govt'  b'Asm'    b'Large'     b'Good'  \n",
      "3      b'Large'     b'Poor'     b'Govt'  b'Asm'  b'Average'  b'Average'  \n",
      "4      b'Large'     b'Poor'  b'Private'  b'Asm'    b'Small'     b'Good'  \n",
      "5      b'Small'     b'Poor'  b'Private'  b'Eng'  b'Average'  b'Average'  \n",
      "6    b'Average'     b'Poor'     b'Govt'  b'Asm'    b'Small'     b'Good'  \n",
      "7      b'Small'     b'Poor'  b'Private'  b'Asm'  b'Average'     b'Good'  \n",
      "8      b'Small'     b'Good'     b'Govt'  b'Asm'  b'Average'     b'Good'  \n",
      "9      b'Large'  b'Average'     b'Govt'  b'Asm'  b'Average'     b'Good'  \n",
      "10     b'Large'     b'Good'  b'Private'  b'Eng'    b'Large'     b'Good'  \n",
      "11     b'Large'  b'Average'     b'Govt'  b'Eng'  b'Average'     b'Good'  \n",
      "12     b'Large'     b'Poor'  b'Private'  b'Eng'  b'Average'     b'Good'  \n",
      "13     b'Large'     b'Good'     b'Govt'  b'Asm'  b'Average'     b'Good'  \n",
      "14     b'Large'     b'Poor'     b'Govt'  b'Eng'    b'Small'     b'Good'  \n",
      "15     b'Large'  b'Average'     b'Govt'  b'Asm'  b'Average'     b'Good'  \n",
      "16     b'Large'     b'Poor'  b'Private'  b'Eng'    b'Small'     b'Good'  \n",
      "17     b'Large'  b'Average'     b'Govt'  b'Eng'    b'Small'     b'Good'  \n",
      "18     b'Large'  b'Average'     b'Govt'  b'Eng'    b'Small'     b'Good'  \n",
      "19     b'Large'     b'Poor'     b'Govt'  b'Eng'  b'Average'     b'Good'  \n",
      "20     b'Large'     b'Poor'     b'Govt'  b'Eng'    b'Small'     b'Good'  \n",
      "21     b'Large'     b'Poor'  b'Private'  b'Eng'    b'Small'     b'Good'  \n",
      "22     b'Large'  b'Average'     b'Govt'  b'Eng'    b'Small'     b'Good'  \n",
      "23     b'Large'  b'Average'     b'Govt'  b'Eng'    b'Small'     b'Good'  \n",
      "24     b'Large'     b'Poor'     b'Govt'  b'Eng'    b'Small'     b'Good'  \n",
      "25     b'Large'     b'Poor'     b'Govt'  b'Eng'  b'Average'  b'Average'  \n",
      "26     b'Large'     b'Poor'     b'Govt'  b'Eng'    b'Small'  b'Average'  \n",
      "27     b'Large'  b'Average'  b'Private'  b'Eng'    b'Small'     b'Good'  \n",
      "28     b'Large'     b'Poor'  b'Private'  b'Eng'  b'Average'  b'Average'  \n",
      "29     b'Small'  b'Average'  b'Private'  b'Asm'  b'Average'  b'Average'  \n",
      "..          ...         ...         ...     ...         ...         ...  \n",
      "101    b'Small'  b'Average'     b'Govt'  b'Asm'    b'Large'  b'Average'  \n",
      "102  b'Average'  b'Average'     b'Govt'  b'Asm'  b'Average'     b'Good'  \n",
      "103  b'Average'  b'Average'     b'Govt'  b'Asm'    b'Small'  b'Average'  \n",
      "104    b'Large'  b'Average'     b'Govt'  b'Asm'  b'Average'     b'Poor'  \n",
      "105  b'Average'  b'Average'     b'Govt'  b'Asm'    b'Small'     b'Poor'  \n",
      "106    b'Large'  b'Average'  b'Private'  b'Asm'    b'Small'  b'Average'  \n",
      "107  b'Average'     b'Poor'     b'Govt'  b'Asm'    b'Small'     b'Poor'  \n",
      "108  b'Average'  b'Average'     b'Govt'  b'Asm'    b'Small'     b'Poor'  \n",
      "109  b'Average'  b'Average'     b'Govt'  b'Asm'  b'Average'  b'Average'  \n",
      "110  b'Average'  b'Average'     b'Govt'  b'Asm'  b'Average'     b'Poor'  \n",
      "111    b'Small'     b'Poor'     b'Govt'  b'Asm'  b'Average'     b'Poor'  \n",
      "112  b'Average'  b'Average'     b'Govt'  b'Asm'  b'Average'     b'Poor'  \n",
      "113  b'Average'  b'Average'  b'Private'  b'Asm'  b'Average'     b'Good'  \n",
      "114  b'Average'     b'Poor'     b'Govt'  b'Asm'  b'Average'  b'Average'  \n",
      "115  b'Average'     b'Good'     b'Govt'  b'Asm'  b'Average'  b'Average'  \n",
      "116  b'Average'  b'Average'     b'Govt'  b'Asm'  b'Average'     b'Poor'  \n",
      "117  b'Average'  b'Average'     b'Govt'  b'Asm'    b'Large'  b'Average'  \n",
      "118  b'Average'  b'Average'  b'Private'  b'Asm'  b'Average'  b'Average'  \n",
      "119  b'Average'  b'Average'     b'Govt'  b'Asm'    b'Small'  b'Average'  \n",
      "120    b'Small'     b'Poor'     b'Govt'  b'Asm'    b'Small'     b'Good'  \n",
      "121  b'Average'  b'Average'     b'Govt'  b'Asm'  b'Average'     b'Poor'  \n",
      "122  b'Average'     b'Poor'     b'Govt'  b'Asm'    b'Small'     b'Poor'  \n",
      "123  b'Average'     b'Good'     b'Govt'  b'Eng'    b'Small'  b'Average'  \n",
      "124  b'Average'  b'Average'     b'Govt'  b'Asm'  b'Average'     b'Poor'  \n",
      "125    b'Small'  b'Average'     b'Govt'  b'Eng'  b'Average'     b'Good'  \n",
      "126    b'Small'  b'Average'     b'Govt'  b'Asm'    b'Small'     b'Poor'  \n",
      "127  b'Average'     b'Poor'     b'Govt'  b'Asm'    b'Small'  b'Average'  \n",
      "128    b'Small'  b'Average'     b'Govt'  b'Asm'    b'Large'     b'Good'  \n",
      "129  b'Average'  b'Average'     b'Govt'  b'Asm'    b'Large'  b'Average'  \n",
      "130  b'Average'  b'Average'     b'Govt'  b'Asm'    b'Small'  b'Average'  \n",
      "\n",
      "[131 rows x 22 columns]\n"
     ]
    }
   ],
   "source": [
    "print(data)"
   ]
  },
  {
   "cell_type": "code",
   "execution_count": 6,
   "metadata": {},
   "outputs": [
    {
     "data": {
      "text/html": [
       "<div>\n",
       "<style scoped>\n",
       "    .dataframe tbody tr th:only-of-type {\n",
       "        vertical-align: middle;\n",
       "    }\n",
       "\n",
       "    .dataframe tbody tr th {\n",
       "        vertical-align: top;\n",
       "    }\n",
       "\n",
       "    .dataframe thead th {\n",
       "        text-align: right;\n",
       "    }\n",
       "</style>\n",
       "<table border=\"1\" class=\"dataframe\">\n",
       "  <thead>\n",
       "    <tr style=\"text-align: right;\">\n",
       "      <th></th>\n",
       "      <th>ge</th>\n",
       "      <th>cst</th>\n",
       "      <th>tnp</th>\n",
       "      <th>twp</th>\n",
       "      <th>iap</th>\n",
       "      <th>esp</th>\n",
       "      <th>arr</th>\n",
       "      <th>ms</th>\n",
       "      <th>ls</th>\n",
       "      <th>as</th>\n",
       "      <th>...</th>\n",
       "      <th>fq</th>\n",
       "      <th>mq</th>\n",
       "      <th>fo</th>\n",
       "      <th>mo</th>\n",
       "      <th>nf</th>\n",
       "      <th>sh</th>\n",
       "      <th>ss</th>\n",
       "      <th>me</th>\n",
       "      <th>tt</th>\n",
       "      <th>atd</th>\n",
       "    </tr>\n",
       "  </thead>\n",
       "  <tbody>\n",
       "    <tr>\n",
       "      <th>0</th>\n",
       "      <td>b'F'</td>\n",
       "      <td>b'G'</td>\n",
       "      <td>b'Good'</td>\n",
       "      <td>b'Good'</td>\n",
       "      <td>b'Vg'</td>\n",
       "      <td>b'Good'</td>\n",
       "      <td>b'Y'</td>\n",
       "      <td>b'Unmarried'</td>\n",
       "      <td>b'V'</td>\n",
       "      <td>b'Paid'</td>\n",
       "      <td>...</td>\n",
       "      <td>b'Um'</td>\n",
       "      <td>b'10'</td>\n",
       "      <td>b'Farmer'</td>\n",
       "      <td>b'Housewife'</td>\n",
       "      <td>b'Large'</td>\n",
       "      <td>b'Poor'</td>\n",
       "      <td>b'Govt'</td>\n",
       "      <td>b'Asm'</td>\n",
       "      <td>b'Small'</td>\n",
       "      <td>b'Good'</td>\n",
       "    </tr>\n",
       "    <tr>\n",
       "      <th>1</th>\n",
       "      <td>b'M'</td>\n",
       "      <td>b'OBC'</td>\n",
       "      <td>b'Vg'</td>\n",
       "      <td>b'Vg'</td>\n",
       "      <td>b'Vg'</td>\n",
       "      <td>b'Vg'</td>\n",
       "      <td>b'N'</td>\n",
       "      <td>b'Unmarried'</td>\n",
       "      <td>b'V'</td>\n",
       "      <td>b'Paid'</td>\n",
       "      <td>...</td>\n",
       "      <td>b'Um'</td>\n",
       "      <td>b'Il'</td>\n",
       "      <td>b'Service'</td>\n",
       "      <td>b'Service'</td>\n",
       "      <td>b'Small'</td>\n",
       "      <td>b'Poor'</td>\n",
       "      <td>b'Govt'</td>\n",
       "      <td>b'Asm'</td>\n",
       "      <td>b'Average'</td>\n",
       "      <td>b'Average'</td>\n",
       "    </tr>\n",
       "    <tr>\n",
       "      <th>2</th>\n",
       "      <td>b'F'</td>\n",
       "      <td>b'OBC'</td>\n",
       "      <td>b'Good'</td>\n",
       "      <td>b'Good'</td>\n",
       "      <td>b'Vg'</td>\n",
       "      <td>b'Good'</td>\n",
       "      <td>b'N'</td>\n",
       "      <td>b'Unmarried'</td>\n",
       "      <td>b'V'</td>\n",
       "      <td>b'Paid'</td>\n",
       "      <td>...</td>\n",
       "      <td>b'12'</td>\n",
       "      <td>b'10'</td>\n",
       "      <td>b'Service'</td>\n",
       "      <td>b'Housewife'</td>\n",
       "      <td>b'Average'</td>\n",
       "      <td>b'Average'</td>\n",
       "      <td>b'Govt'</td>\n",
       "      <td>b'Asm'</td>\n",
       "      <td>b'Large'</td>\n",
       "      <td>b'Good'</td>\n",
       "    </tr>\n",
       "    <tr>\n",
       "      <th>3</th>\n",
       "      <td>b'M'</td>\n",
       "      <td>b'MOBC'</td>\n",
       "      <td>b'Pass'</td>\n",
       "      <td>b'Good'</td>\n",
       "      <td>b'Vg'</td>\n",
       "      <td>b'Good'</td>\n",
       "      <td>b'N'</td>\n",
       "      <td>b'Unmarried'</td>\n",
       "      <td>b'V'</td>\n",
       "      <td>b'Paid'</td>\n",
       "      <td>...</td>\n",
       "      <td>b'12'</td>\n",
       "      <td>b'Um'</td>\n",
       "      <td>b'Business'</td>\n",
       "      <td>b'Business'</td>\n",
       "      <td>b'Large'</td>\n",
       "      <td>b'Poor'</td>\n",
       "      <td>b'Govt'</td>\n",
       "      <td>b'Asm'</td>\n",
       "      <td>b'Average'</td>\n",
       "      <td>b'Average'</td>\n",
       "    </tr>\n",
       "    <tr>\n",
       "      <th>4</th>\n",
       "      <td>b'M'</td>\n",
       "      <td>b'G'</td>\n",
       "      <td>b'Good'</td>\n",
       "      <td>b'Good'</td>\n",
       "      <td>b'Vg'</td>\n",
       "      <td>b'Vg'</td>\n",
       "      <td>b'N'</td>\n",
       "      <td>b'Unmarried'</td>\n",
       "      <td>b'V'</td>\n",
       "      <td>b'Paid'</td>\n",
       "      <td>...</td>\n",
       "      <td>b'10'</td>\n",
       "      <td>b'12'</td>\n",
       "      <td>b'Service'</td>\n",
       "      <td>b'Housewife'</td>\n",
       "      <td>b'Large'</td>\n",
       "      <td>b'Poor'</td>\n",
       "      <td>b'Private'</td>\n",
       "      <td>b'Asm'</td>\n",
       "      <td>b'Small'</td>\n",
       "      <td>b'Good'</td>\n",
       "    </tr>\n",
       "  </tbody>\n",
       "</table>\n",
       "<p>5 rows × 22 columns</p>\n",
       "</div>"
      ],
      "text/plain": [
       "     ge      cst      tnp      twp    iap      esp   arr            ms    ls  \\\n",
       "0  b'F'     b'G'  b'Good'  b'Good'  b'Vg'  b'Good'  b'Y'  b'Unmarried'  b'V'   \n",
       "1  b'M'   b'OBC'    b'Vg'    b'Vg'  b'Vg'    b'Vg'  b'N'  b'Unmarried'  b'V'   \n",
       "2  b'F'   b'OBC'  b'Good'  b'Good'  b'Vg'  b'Good'  b'N'  b'Unmarried'  b'V'   \n",
       "3  b'M'  b'MOBC'  b'Pass'  b'Good'  b'Vg'  b'Good'  b'N'  b'Unmarried'  b'V'   \n",
       "4  b'M'     b'G'  b'Good'  b'Good'  b'Vg'    b'Vg'  b'N'  b'Unmarried'  b'V'   \n",
       "\n",
       "        as  ...     fq     mq           fo            mo          nf  \\\n",
       "0  b'Paid'  ...  b'Um'  b'10'    b'Farmer'  b'Housewife'    b'Large'   \n",
       "1  b'Paid'  ...  b'Um'  b'Il'   b'Service'    b'Service'    b'Small'   \n",
       "2  b'Paid'  ...  b'12'  b'10'   b'Service'  b'Housewife'  b'Average'   \n",
       "3  b'Paid'  ...  b'12'  b'Um'  b'Business'   b'Business'    b'Large'   \n",
       "4  b'Paid'  ...  b'10'  b'12'   b'Service'  b'Housewife'    b'Large'   \n",
       "\n",
       "           sh          ss      me          tt         atd  \n",
       "0     b'Poor'     b'Govt'  b'Asm'    b'Small'     b'Good'  \n",
       "1     b'Poor'     b'Govt'  b'Asm'  b'Average'  b'Average'  \n",
       "2  b'Average'     b'Govt'  b'Asm'    b'Large'     b'Good'  \n",
       "3     b'Poor'     b'Govt'  b'Asm'  b'Average'  b'Average'  \n",
       "4     b'Poor'  b'Private'  b'Asm'    b'Small'     b'Good'  \n",
       "\n",
       "[5 rows x 22 columns]"
      ]
     },
     "execution_count": 6,
     "metadata": {},
     "output_type": "execute_result"
    }
   ],
   "source": [
    "data.head()"
   ]
  },
  {
   "cell_type": "code",
   "execution_count": 7,
   "metadata": {},
   "outputs": [
    {
     "data": {
      "text/html": [
       "<div>\n",
       "<style scoped>\n",
       "    .dataframe tbody tr th:only-of-type {\n",
       "        vertical-align: middle;\n",
       "    }\n",
       "\n",
       "    .dataframe tbody tr th {\n",
       "        vertical-align: top;\n",
       "    }\n",
       "\n",
       "    .dataframe thead th {\n",
       "        text-align: right;\n",
       "    }\n",
       "</style>\n",
       "<table border=\"1\" class=\"dataframe\">\n",
       "  <thead>\n",
       "    <tr style=\"text-align: right;\">\n",
       "      <th></th>\n",
       "      <th>ge</th>\n",
       "      <th>cst</th>\n",
       "      <th>tnp</th>\n",
       "      <th>twp</th>\n",
       "      <th>iap</th>\n",
       "      <th>esp</th>\n",
       "      <th>arr</th>\n",
       "      <th>ms</th>\n",
       "      <th>ls</th>\n",
       "      <th>as</th>\n",
       "      <th>...</th>\n",
       "      <th>fq</th>\n",
       "      <th>mq</th>\n",
       "      <th>fo</th>\n",
       "      <th>mo</th>\n",
       "      <th>nf</th>\n",
       "      <th>sh</th>\n",
       "      <th>ss</th>\n",
       "      <th>me</th>\n",
       "      <th>tt</th>\n",
       "      <th>atd</th>\n",
       "    </tr>\n",
       "  </thead>\n",
       "  <tbody>\n",
       "    <tr>\n",
       "      <th>126</th>\n",
       "      <td>b'M'</td>\n",
       "      <td>b'G'</td>\n",
       "      <td>b'Pass'</td>\n",
       "      <td>b'Good'</td>\n",
       "      <td>b'Good'</td>\n",
       "      <td>b'Pass'</td>\n",
       "      <td>b'Y'</td>\n",
       "      <td>b'Unmarried'</td>\n",
       "      <td>b'T'</td>\n",
       "      <td>b'Free'</td>\n",
       "      <td>...</td>\n",
       "      <td>b'Um'</td>\n",
       "      <td>b'Il'</td>\n",
       "      <td>b'Service'</td>\n",
       "      <td>b'Housewife'</td>\n",
       "      <td>b'Small'</td>\n",
       "      <td>b'Average'</td>\n",
       "      <td>b'Govt'</td>\n",
       "      <td>b'Asm'</td>\n",
       "      <td>b'Small'</td>\n",
       "      <td>b'Poor'</td>\n",
       "    </tr>\n",
       "    <tr>\n",
       "      <th>127</th>\n",
       "      <td>b'M'</td>\n",
       "      <td>b'MOBC'</td>\n",
       "      <td>b'Vg'</td>\n",
       "      <td>b'Vg'</td>\n",
       "      <td>b'Good'</td>\n",
       "      <td>b'Good'</td>\n",
       "      <td>b'N'</td>\n",
       "      <td>b'Unmarried'</td>\n",
       "      <td>b'V'</td>\n",
       "      <td>b'Free'</td>\n",
       "      <td>...</td>\n",
       "      <td>b'10'</td>\n",
       "      <td>b'Um'</td>\n",
       "      <td>b'Farmer'</td>\n",
       "      <td>b'Housewife'</td>\n",
       "      <td>b'Average'</td>\n",
       "      <td>b'Poor'</td>\n",
       "      <td>b'Govt'</td>\n",
       "      <td>b'Asm'</td>\n",
       "      <td>b'Small'</td>\n",
       "      <td>b'Average'</td>\n",
       "    </tr>\n",
       "    <tr>\n",
       "      <th>128</th>\n",
       "      <td>b'F'</td>\n",
       "      <td>b'OBC'</td>\n",
       "      <td>b'Good'</td>\n",
       "      <td>b'Good'</td>\n",
       "      <td>b'Vg'</td>\n",
       "      <td>b'Good'</td>\n",
       "      <td>b'N'</td>\n",
       "      <td>b'Unmarried'</td>\n",
       "      <td>b'V'</td>\n",
       "      <td>b'Free'</td>\n",
       "      <td>...</td>\n",
       "      <td>b'Il'</td>\n",
       "      <td>b'Il'</td>\n",
       "      <td>b'Farmer'</td>\n",
       "      <td>b'Housewife'</td>\n",
       "      <td>b'Small'</td>\n",
       "      <td>b'Average'</td>\n",
       "      <td>b'Govt'</td>\n",
       "      <td>b'Asm'</td>\n",
       "      <td>b'Large'</td>\n",
       "      <td>b'Good'</td>\n",
       "    </tr>\n",
       "    <tr>\n",
       "      <th>129</th>\n",
       "      <td>b'M'</td>\n",
       "      <td>b'ST'</td>\n",
       "      <td>b'Pass'</td>\n",
       "      <td>b'Pass'</td>\n",
       "      <td>b'Good'</td>\n",
       "      <td>b'Pass'</td>\n",
       "      <td>b'Y'</td>\n",
       "      <td>b'Unmarried'</td>\n",
       "      <td>b'V'</td>\n",
       "      <td>b'Free'</td>\n",
       "      <td>...</td>\n",
       "      <td>b'Um'</td>\n",
       "      <td>b'Um'</td>\n",
       "      <td>b'Service'</td>\n",
       "      <td>b'Housewife'</td>\n",
       "      <td>b'Average'</td>\n",
       "      <td>b'Average'</td>\n",
       "      <td>b'Govt'</td>\n",
       "      <td>b'Asm'</td>\n",
       "      <td>b'Large'</td>\n",
       "      <td>b'Average'</td>\n",
       "    </tr>\n",
       "    <tr>\n",
       "      <th>130</th>\n",
       "      <td>b'M'</td>\n",
       "      <td>b'G'</td>\n",
       "      <td>b'Pass'</td>\n",
       "      <td>b'Good'</td>\n",
       "      <td>b'Good'</td>\n",
       "      <td>b'Pass'</td>\n",
       "      <td>b'Y'</td>\n",
       "      <td>b'Unmarried'</td>\n",
       "      <td>b'V'</td>\n",
       "      <td>b'Free'</td>\n",
       "      <td>...</td>\n",
       "      <td>b'Um'</td>\n",
       "      <td>b'Um'</td>\n",
       "      <td>b'Business'</td>\n",
       "      <td>b'Housewife'</td>\n",
       "      <td>b'Average'</td>\n",
       "      <td>b'Average'</td>\n",
       "      <td>b'Govt'</td>\n",
       "      <td>b'Asm'</td>\n",
       "      <td>b'Small'</td>\n",
       "      <td>b'Average'</td>\n",
       "    </tr>\n",
       "  </tbody>\n",
       "</table>\n",
       "<p>5 rows × 22 columns</p>\n",
       "</div>"
      ],
      "text/plain": [
       "       ge      cst      tnp      twp      iap      esp   arr            ms  \\\n",
       "126  b'M'     b'G'  b'Pass'  b'Good'  b'Good'  b'Pass'  b'Y'  b'Unmarried'   \n",
       "127  b'M'  b'MOBC'    b'Vg'    b'Vg'  b'Good'  b'Good'  b'N'  b'Unmarried'   \n",
       "128  b'F'   b'OBC'  b'Good'  b'Good'    b'Vg'  b'Good'  b'N'  b'Unmarried'   \n",
       "129  b'M'    b'ST'  b'Pass'  b'Pass'  b'Good'  b'Pass'  b'Y'  b'Unmarried'   \n",
       "130  b'M'     b'G'  b'Pass'  b'Good'  b'Good'  b'Pass'  b'Y'  b'Unmarried'   \n",
       "\n",
       "       ls       as  ...     fq     mq           fo            mo          nf  \\\n",
       "126  b'T'  b'Free'  ...  b'Um'  b'Il'   b'Service'  b'Housewife'    b'Small'   \n",
       "127  b'V'  b'Free'  ...  b'10'  b'Um'    b'Farmer'  b'Housewife'  b'Average'   \n",
       "128  b'V'  b'Free'  ...  b'Il'  b'Il'    b'Farmer'  b'Housewife'    b'Small'   \n",
       "129  b'V'  b'Free'  ...  b'Um'  b'Um'   b'Service'  b'Housewife'  b'Average'   \n",
       "130  b'V'  b'Free'  ...  b'Um'  b'Um'  b'Business'  b'Housewife'  b'Average'   \n",
       "\n",
       "             sh       ss      me        tt         atd  \n",
       "126  b'Average'  b'Govt'  b'Asm'  b'Small'     b'Poor'  \n",
       "127     b'Poor'  b'Govt'  b'Asm'  b'Small'  b'Average'  \n",
       "128  b'Average'  b'Govt'  b'Asm'  b'Large'     b'Good'  \n",
       "129  b'Average'  b'Govt'  b'Asm'  b'Large'  b'Average'  \n",
       "130  b'Average'  b'Govt'  b'Asm'  b'Small'  b'Average'  \n",
       "\n",
       "[5 rows x 22 columns]"
      ]
     },
     "execution_count": 7,
     "metadata": {},
     "output_type": "execute_result"
    }
   ],
   "source": [
    "data.tail()"
   ]
  },
  {
   "cell_type": "code",
   "execution_count": 8,
   "metadata": {},
   "outputs": [
    {
     "name": "stdout",
     "output_type": "stream",
     "text": [
      "(131, 22)\n",
      "Index(['ge', 'cst', 'tnp', 'twp', 'iap', 'esp', 'arr', 'ms', 'ls', 'as', 'fmi',\n",
      "       'fs', 'fq', 'mq', 'fo', 'mo', 'nf', 'sh', 'ss', 'me', 'tt', 'atd'],\n",
      "      dtype='object')\n"
     ]
    }
   ],
   "source": [
    "print(data.shape)\n",
    "print(data.columns)"
   ]
  },
  {
   "cell_type": "code",
   "execution_count": 9,
   "metadata": {},
   "outputs": [
    {
     "data": {
      "text/plain": [
       "RangeIndex(start=0, stop=131, step=1)"
      ]
     },
     "execution_count": 9,
     "metadata": {},
     "output_type": "execute_result"
    }
   ],
   "source": [
    "data.index"
   ]
  },
  {
   "cell_type": "code",
   "execution_count": 10,
   "metadata": {},
   "outputs": [
    {
     "data": {
      "text/plain": [
       "b'Service'"
      ]
     },
     "execution_count": 10,
     "metadata": {},
     "output_type": "execute_result"
    }
   ],
   "source": [
    "data.at[2, 'fo']"
   ]
  },
  {
   "cell_type": "code",
   "execution_count": 11,
   "metadata": {},
   "outputs": [
    {
     "data": {
      "text/plain": [
       "0        b'Farmer'\n",
       "1       b'Service'\n",
       "2       b'Service'\n",
       "3      b'Business'\n",
       "4       b'Service'\n",
       "5        b'Farmer'\n",
       "6       b'Service'\n",
       "7        b'Farmer'\n",
       "8        b'Others'\n",
       "9        b'Others'\n",
       "10      b'Retired'\n",
       "11      b'Service'\n",
       "12      b'Service'\n",
       "13       b'Others'\n",
       "14     b'Business'\n",
       "15       b'Others'\n",
       "16     b'Business'\n",
       "17       b'Farmer'\n",
       "18       b'Farmer'\n",
       "19       b'Farmer'\n",
       "20      b'Service'\n",
       "21      b'Service'\n",
       "22     b'Business'\n",
       "23       b'Farmer'\n",
       "24     b'Business'\n",
       "25     b'Business'\n",
       "26      b'Service'\n",
       "27       b'Others'\n",
       "28      b'Service'\n",
       "29       b'Others'\n",
       "          ...     \n",
       "101      b'Farmer'\n",
       "102      b'Farmer'\n",
       "103      b'Farmer'\n",
       "104     b'Service'\n",
       "105     b'Service'\n",
       "106     b'Service'\n",
       "107      b'Others'\n",
       "108     b'Service'\n",
       "109      b'Farmer'\n",
       "110      b'Farmer'\n",
       "111      b'Farmer'\n",
       "112     b'Retired'\n",
       "113    b'Business'\n",
       "114      b'Others'\n",
       "115    b'Business'\n",
       "116      b'Farmer'\n",
       "117      b'Others'\n",
       "118      b'Others'\n",
       "119     b'Service'\n",
       "120      b'Farmer'\n",
       "121      b'Farmer'\n",
       "122     b'Service'\n",
       "123    b'Business'\n",
       "124     b'Service'\n",
       "125     b'Service'\n",
       "126     b'Service'\n",
       "127      b'Farmer'\n",
       "128      b'Farmer'\n",
       "129     b'Service'\n",
       "130    b'Business'\n",
       "Name: fo, Length: 131, dtype: object"
      ]
     },
     "execution_count": 11,
     "metadata": {},
     "output_type": "execute_result"
    }
   ],
   "source": [
    "data['fo']"
   ]
  },
  {
   "cell_type": "code",
   "execution_count": 12,
   "metadata": {},
   "outputs": [
    {
     "data": {
      "text/plain": [
       "b'Business'"
      ]
     },
     "execution_count": 12,
     "metadata": {},
     "output_type": "execute_result"
    }
   ],
   "source": [
    "data['fo'][3]"
   ]
  },
  {
   "cell_type": "code",
   "execution_count": 13,
   "metadata": {},
   "outputs": [
    {
     "data": {
      "text/plain": [
       "'object'"
      ]
     },
     "execution_count": 13,
     "metadata": {},
     "output_type": "execute_result"
    }
   ],
   "source": [
    "data['cst'].dtype.name"
   ]
  },
  {
   "cell_type": "code",
   "execution_count": 14,
   "metadata": {},
   "outputs": [
    {
     "data": {
      "text/plain": [
       "bytes"
      ]
     },
     "execution_count": 14,
     "metadata": {},
     "output_type": "execute_result"
    }
   ],
   "source": [
    "type(data['fo'][3])"
   ]
  },
  {
   "cell_type": "code",
   "execution_count": 15,
   "metadata": {},
   "outputs": [
    {
     "data": {
      "text/plain": [
       "pandas.core.series.Series"
      ]
     },
     "execution_count": 15,
     "metadata": {},
     "output_type": "execute_result"
    }
   ],
   "source": [
    "type(data['fo'])"
   ]
  },
  {
   "cell_type": "code",
   "execution_count": 16,
   "metadata": {},
   "outputs": [
    {
     "data": {
      "text/html": [
       "<div>\n",
       "<style scoped>\n",
       "    .dataframe tbody tr th:only-of-type {\n",
       "        vertical-align: middle;\n",
       "    }\n",
       "\n",
       "    .dataframe tbody tr th {\n",
       "        vertical-align: top;\n",
       "    }\n",
       "\n",
       "    .dataframe thead th {\n",
       "        text-align: right;\n",
       "    }\n",
       "</style>\n",
       "<table border=\"1\" class=\"dataframe\">\n",
       "  <thead>\n",
       "    <tr style=\"text-align: right;\">\n",
       "      <th></th>\n",
       "      <th>fo</th>\n",
       "      <th>mo</th>\n",
       "    </tr>\n",
       "  </thead>\n",
       "  <tbody>\n",
       "    <tr>\n",
       "      <th>0</th>\n",
       "      <td>b'Farmer'</td>\n",
       "      <td>b'Housewife'</td>\n",
       "    </tr>\n",
       "    <tr>\n",
       "      <th>1</th>\n",
       "      <td>b'Service'</td>\n",
       "      <td>b'Service'</td>\n",
       "    </tr>\n",
       "    <tr>\n",
       "      <th>2</th>\n",
       "      <td>b'Service'</td>\n",
       "      <td>b'Housewife'</td>\n",
       "    </tr>\n",
       "    <tr>\n",
       "      <th>3</th>\n",
       "      <td>b'Business'</td>\n",
       "      <td>b'Business'</td>\n",
       "    </tr>\n",
       "    <tr>\n",
       "      <th>4</th>\n",
       "      <td>b'Service'</td>\n",
       "      <td>b'Housewife'</td>\n",
       "    </tr>\n",
       "  </tbody>\n",
       "</table>\n",
       "</div>"
      ],
      "text/plain": [
       "            fo            mo\n",
       "0    b'Farmer'  b'Housewife'\n",
       "1   b'Service'    b'Service'\n",
       "2   b'Service'  b'Housewife'\n",
       "3  b'Business'   b'Business'\n",
       "4   b'Service'  b'Housewife'"
      ]
     },
     "execution_count": 16,
     "metadata": {},
     "output_type": "execute_result"
    }
   ],
   "source": [
    "data[['fo', 'mo']].head()"
   ]
  },
  {
   "cell_type": "code",
   "execution_count": 17,
   "metadata": {},
   "outputs": [
    {
     "data": {
      "text/html": [
       "<div>\n",
       "<style scoped>\n",
       "    .dataframe tbody tr th:only-of-type {\n",
       "        vertical-align: middle;\n",
       "    }\n",
       "\n",
       "    .dataframe tbody tr th {\n",
       "        vertical-align: top;\n",
       "    }\n",
       "\n",
       "    .dataframe thead th {\n",
       "        text-align: right;\n",
       "    }\n",
       "</style>\n",
       "<table border=\"1\" class=\"dataframe\">\n",
       "  <thead>\n",
       "    <tr style=\"text-align: right;\">\n",
       "      <th></th>\n",
       "      <th>ge</th>\n",
       "      <th>cst</th>\n",
       "      <th>tnp</th>\n",
       "      <th>twp</th>\n",
       "      <th>iap</th>\n",
       "      <th>esp</th>\n",
       "      <th>arr</th>\n",
       "      <th>ms</th>\n",
       "      <th>ls</th>\n",
       "      <th>as</th>\n",
       "      <th>...</th>\n",
       "      <th>fq</th>\n",
       "      <th>mq</th>\n",
       "      <th>fo</th>\n",
       "      <th>mo</th>\n",
       "      <th>nf</th>\n",
       "      <th>sh</th>\n",
       "      <th>ss</th>\n",
       "      <th>me</th>\n",
       "      <th>tt</th>\n",
       "      <th>atd</th>\n",
       "    </tr>\n",
       "  </thead>\n",
       "  <tbody>\n",
       "    <tr>\n",
       "      <th>count</th>\n",
       "      <td>131</td>\n",
       "      <td>131</td>\n",
       "      <td>131</td>\n",
       "      <td>131</td>\n",
       "      <td>131</td>\n",
       "      <td>131</td>\n",
       "      <td>131</td>\n",
       "      <td>131</td>\n",
       "      <td>131</td>\n",
       "      <td>131</td>\n",
       "      <td>...</td>\n",
       "      <td>131</td>\n",
       "      <td>131</td>\n",
       "      <td>131</td>\n",
       "      <td>131</td>\n",
       "      <td>131</td>\n",
       "      <td>131</td>\n",
       "      <td>131</td>\n",
       "      <td>131</td>\n",
       "      <td>131</td>\n",
       "      <td>131</td>\n",
       "    </tr>\n",
       "    <tr>\n",
       "      <th>unique</th>\n",
       "      <td>2</td>\n",
       "      <td>5</td>\n",
       "      <td>4</td>\n",
       "      <td>4</td>\n",
       "      <td>4</td>\n",
       "      <td>4</td>\n",
       "      <td>2</td>\n",
       "      <td>1</td>\n",
       "      <td>2</td>\n",
       "      <td>2</td>\n",
       "      <td>...</td>\n",
       "      <td>6</td>\n",
       "      <td>6</td>\n",
       "      <td>5</td>\n",
       "      <td>5</td>\n",
       "      <td>3</td>\n",
       "      <td>3</td>\n",
       "      <td>2</td>\n",
       "      <td>4</td>\n",
       "      <td>3</td>\n",
       "      <td>3</td>\n",
       "    </tr>\n",
       "    <tr>\n",
       "      <th>top</th>\n",
       "      <td>b'M'</td>\n",
       "      <td>b'OBC'</td>\n",
       "      <td>b'Good'</td>\n",
       "      <td>b'Good'</td>\n",
       "      <td>b'Vg'</td>\n",
       "      <td>b'Good'</td>\n",
       "      <td>b'N'</td>\n",
       "      <td>b'Unmarried'</td>\n",
       "      <td>b'V'</td>\n",
       "      <td>b'Paid'</td>\n",
       "      <td>...</td>\n",
       "      <td>b'Um'</td>\n",
       "      <td>b'Um'</td>\n",
       "      <td>b'Service'</td>\n",
       "      <td>b'Housewife'</td>\n",
       "      <td>b'Large'</td>\n",
       "      <td>b'Average'</td>\n",
       "      <td>b'Govt'</td>\n",
       "      <td>b'Eng'</td>\n",
       "      <td>b'Small'</td>\n",
       "      <td>b'Good'</td>\n",
       "    </tr>\n",
       "    <tr>\n",
       "      <th>freq</th>\n",
       "      <td>72</td>\n",
       "      <td>57</td>\n",
       "      <td>59</td>\n",
       "      <td>65</td>\n",
       "      <td>63</td>\n",
       "      <td>54</td>\n",
       "      <td>78</td>\n",
       "      <td>131</td>\n",
       "      <td>92</td>\n",
       "      <td>76</td>\n",
       "      <td>...</td>\n",
       "      <td>40</td>\n",
       "      <td>52</td>\n",
       "      <td>38</td>\n",
       "      <td>115</td>\n",
       "      <td>58</td>\n",
       "      <td>59</td>\n",
       "      <td>91</td>\n",
       "      <td>62</td>\n",
       "      <td>78</td>\n",
       "      <td>56</td>\n",
       "    </tr>\n",
       "  </tbody>\n",
       "</table>\n",
       "<p>4 rows × 22 columns</p>\n",
       "</div>"
      ],
      "text/plain": [
       "          ge     cst      tnp      twp    iap      esp   arr            ms  \\\n",
       "count    131     131      131      131    131      131   131           131   \n",
       "unique     2       5        4        4      4        4     2             1   \n",
       "top     b'M'  b'OBC'  b'Good'  b'Good'  b'Vg'  b'Good'  b'N'  b'Unmarried'   \n",
       "freq      72      57       59       65     63       54    78           131   \n",
       "\n",
       "          ls       as  ...     fq     mq          fo            mo        nf  \\\n",
       "count    131      131  ...    131    131         131           131       131   \n",
       "unique     2        2  ...      6      6           5             5         3   \n",
       "top     b'V'  b'Paid'  ...  b'Um'  b'Um'  b'Service'  b'Housewife'  b'Large'   \n",
       "freq      92       76  ...     40     52          38           115        58   \n",
       "\n",
       "                sh       ss      me        tt      atd  \n",
       "count          131      131     131       131      131  \n",
       "unique           3        2       4         3        3  \n",
       "top     b'Average'  b'Govt'  b'Eng'  b'Small'  b'Good'  \n",
       "freq            59       91      62        78       56  \n",
       "\n",
       "[4 rows x 22 columns]"
      ]
     },
     "execution_count": 17,
     "metadata": {},
     "output_type": "execute_result"
    }
   ],
   "source": [
    "data.describe()"
   ]
  },
  {
   "cell_type": "code",
   "execution_count": 18,
   "metadata": {},
   "outputs": [
    {
     "data": {
      "text/html": [
       "<div>\n",
       "<style scoped>\n",
       "    .dataframe tbody tr th:only-of-type {\n",
       "        vertical-align: middle;\n",
       "    }\n",
       "\n",
       "    .dataframe tbody tr th {\n",
       "        vertical-align: top;\n",
       "    }\n",
       "\n",
       "    .dataframe thead th {\n",
       "        text-align: right;\n",
       "    }\n",
       "</style>\n",
       "<table border=\"1\" class=\"dataframe\">\n",
       "  <thead>\n",
       "    <tr style=\"text-align: right;\">\n",
       "      <th></th>\n",
       "    </tr>\n",
       "  </thead>\n",
       "  <tbody>\n",
       "  </tbody>\n",
       "</table>\n",
       "</div>"
      ],
      "text/plain": [
       "Empty DataFrame\n",
       "Columns: []\n",
       "Index: []"
      ]
     },
     "execution_count": 18,
     "metadata": {},
     "output_type": "execute_result"
    }
   ],
   "source": [
    "data.corr()"
   ]
  },
  {
   "cell_type": "code",
   "execution_count": 19,
   "metadata": {},
   "outputs": [
    {
     "data": {
      "text/plain": [
       "0       True\n",
       "1      False\n",
       "2      False\n",
       "3      False\n",
       "4      False\n",
       "5      False\n",
       "6      False\n",
       "7      False\n",
       "8       True\n",
       "9       True\n",
       "10     False\n",
       "11     False\n",
       "12      True\n",
       "13     False\n",
       "14     False\n",
       "15      True\n",
       "16     False\n",
       "17      True\n",
       "18      True\n",
       "19      True\n",
       "20     False\n",
       "21      True\n",
       "22     False\n",
       "23      True\n",
       "24     False\n",
       "25     False\n",
       "26      True\n",
       "27      True\n",
       "28      True\n",
       "29      True\n",
       "       ...  \n",
       "101    False\n",
       "102     True\n",
       "103     True\n",
       "104     True\n",
       "105     True\n",
       "106    False\n",
       "107     True\n",
       "108    False\n",
       "109     True\n",
       "110     True\n",
       "111     True\n",
       "112     True\n",
       "113     True\n",
       "114     True\n",
       "115    False\n",
       "116    False\n",
       "117    False\n",
       "118     True\n",
       "119    False\n",
       "120    False\n",
       "121     True\n",
       "122    False\n",
       "123     True\n",
       "124     True\n",
       "125    False\n",
       "126     True\n",
       "127    False\n",
       "128    False\n",
       "129     True\n",
       "130     True\n",
       "Name: arr, Length: 131, dtype: bool"
      ]
     },
     "execution_count": 19,
     "metadata": {},
     "output_type": "execute_result"
    }
   ],
   "source": [
    "data['arr'] == b'Y'"
   ]
  },
  {
   "cell_type": "code",
   "execution_count": 20,
   "metadata": {},
   "outputs": [
    {
     "data": {
      "text/html": [
       "<div>\n",
       "<style scoped>\n",
       "    .dataframe tbody tr th:only-of-type {\n",
       "        vertical-align: middle;\n",
       "    }\n",
       "\n",
       "    .dataframe tbody tr th {\n",
       "        vertical-align: top;\n",
       "    }\n",
       "\n",
       "    .dataframe thead th {\n",
       "        text-align: right;\n",
       "    }\n",
       "</style>\n",
       "<table border=\"1\" class=\"dataframe\">\n",
       "  <thead>\n",
       "    <tr style=\"text-align: right;\">\n",
       "      <th></th>\n",
       "      <th>ge</th>\n",
       "      <th>cst</th>\n",
       "      <th>tnp</th>\n",
       "      <th>twp</th>\n",
       "      <th>iap</th>\n",
       "      <th>esp</th>\n",
       "      <th>arr</th>\n",
       "      <th>ms</th>\n",
       "      <th>ls</th>\n",
       "      <th>as</th>\n",
       "      <th>...</th>\n",
       "      <th>fq</th>\n",
       "      <th>mq</th>\n",
       "      <th>fo</th>\n",
       "      <th>mo</th>\n",
       "      <th>nf</th>\n",
       "      <th>sh</th>\n",
       "      <th>ss</th>\n",
       "      <th>me</th>\n",
       "      <th>tt</th>\n",
       "      <th>atd</th>\n",
       "    </tr>\n",
       "  </thead>\n",
       "  <tbody>\n",
       "    <tr>\n",
       "      <th>count</th>\n",
       "      <td>131</td>\n",
       "      <td>131</td>\n",
       "      <td>131</td>\n",
       "      <td>131</td>\n",
       "      <td>131</td>\n",
       "      <td>131</td>\n",
       "      <td>131</td>\n",
       "      <td>131</td>\n",
       "      <td>131</td>\n",
       "      <td>131</td>\n",
       "      <td>...</td>\n",
       "      <td>131</td>\n",
       "      <td>131</td>\n",
       "      <td>131</td>\n",
       "      <td>131</td>\n",
       "      <td>131</td>\n",
       "      <td>131</td>\n",
       "      <td>131</td>\n",
       "      <td>131</td>\n",
       "      <td>131</td>\n",
       "      <td>131</td>\n",
       "    </tr>\n",
       "    <tr>\n",
       "      <th>unique</th>\n",
       "      <td>2</td>\n",
       "      <td>5</td>\n",
       "      <td>4</td>\n",
       "      <td>4</td>\n",
       "      <td>4</td>\n",
       "      <td>4</td>\n",
       "      <td>2</td>\n",
       "      <td>1</td>\n",
       "      <td>2</td>\n",
       "      <td>2</td>\n",
       "      <td>...</td>\n",
       "      <td>6</td>\n",
       "      <td>6</td>\n",
       "      <td>5</td>\n",
       "      <td>5</td>\n",
       "      <td>3</td>\n",
       "      <td>3</td>\n",
       "      <td>2</td>\n",
       "      <td>4</td>\n",
       "      <td>3</td>\n",
       "      <td>3</td>\n",
       "    </tr>\n",
       "    <tr>\n",
       "      <th>top</th>\n",
       "      <td>b'M'</td>\n",
       "      <td>b'OBC'</td>\n",
       "      <td>b'Good'</td>\n",
       "      <td>b'Good'</td>\n",
       "      <td>b'Vg'</td>\n",
       "      <td>b'Good'</td>\n",
       "      <td>b'N'</td>\n",
       "      <td>b'Unmarried'</td>\n",
       "      <td>b'V'</td>\n",
       "      <td>b'Paid'</td>\n",
       "      <td>...</td>\n",
       "      <td>b'Um'</td>\n",
       "      <td>b'Um'</td>\n",
       "      <td>b'Service'</td>\n",
       "      <td>b'Housewife'</td>\n",
       "      <td>b'Large'</td>\n",
       "      <td>b'Average'</td>\n",
       "      <td>b'Govt'</td>\n",
       "      <td>b'Eng'</td>\n",
       "      <td>b'Small'</td>\n",
       "      <td>b'Good'</td>\n",
       "    </tr>\n",
       "    <tr>\n",
       "      <th>freq</th>\n",
       "      <td>72</td>\n",
       "      <td>57</td>\n",
       "      <td>59</td>\n",
       "      <td>65</td>\n",
       "      <td>63</td>\n",
       "      <td>54</td>\n",
       "      <td>78</td>\n",
       "      <td>131</td>\n",
       "      <td>92</td>\n",
       "      <td>76</td>\n",
       "      <td>...</td>\n",
       "      <td>40</td>\n",
       "      <td>52</td>\n",
       "      <td>38</td>\n",
       "      <td>115</td>\n",
       "      <td>58</td>\n",
       "      <td>59</td>\n",
       "      <td>91</td>\n",
       "      <td>62</td>\n",
       "      <td>78</td>\n",
       "      <td>56</td>\n",
       "    </tr>\n",
       "  </tbody>\n",
       "</table>\n",
       "<p>4 rows × 22 columns</p>\n",
       "</div>"
      ],
      "text/plain": [
       "          ge     cst      tnp      twp    iap      esp   arr            ms  \\\n",
       "count    131     131      131      131    131      131   131           131   \n",
       "unique     2       5        4        4      4        4     2             1   \n",
       "top     b'M'  b'OBC'  b'Good'  b'Good'  b'Vg'  b'Good'  b'N'  b'Unmarried'   \n",
       "freq      72      57       59       65     63       54    78           131   \n",
       "\n",
       "          ls       as  ...     fq     mq          fo            mo        nf  \\\n",
       "count    131      131  ...    131    131         131           131       131   \n",
       "unique     2        2  ...      6      6           5             5         3   \n",
       "top     b'V'  b'Paid'  ...  b'Um'  b'Um'  b'Service'  b'Housewife'  b'Large'   \n",
       "freq      92       76  ...     40     52          38           115        58   \n",
       "\n",
       "                sh       ss      me        tt      atd  \n",
       "count          131      131     131       131      131  \n",
       "unique           3        2       4         3        3  \n",
       "top     b'Average'  b'Govt'  b'Eng'  b'Small'  b'Good'  \n",
       "freq            59       91      62        78       56  \n",
       "\n",
       "[4 rows x 22 columns]"
      ]
     },
     "execution_count": 20,
     "metadata": {},
     "output_type": "execute_result"
    }
   ],
   "source": [
    "data.describe(include = ['object'])"
   ]
  },
  {
   "cell_type": "code",
   "execution_count": 21,
   "metadata": {},
   "outputs": [
    {
     "data": {
      "text/html": [
       "<div>\n",
       "<style scoped>\n",
       "    .dataframe tbody tr th:only-of-type {\n",
       "        vertical-align: middle;\n",
       "    }\n",
       "\n",
       "    .dataframe tbody tr th {\n",
       "        vertical-align: top;\n",
       "    }\n",
       "\n",
       "    .dataframe thead th {\n",
       "        text-align: right;\n",
       "    }\n",
       "</style>\n",
       "<table border=\"1\" class=\"dataframe\">\n",
       "  <thead>\n",
       "    <tr style=\"text-align: right;\">\n",
       "      <th></th>\n",
       "      <th>ge</th>\n",
       "      <th>cst</th>\n",
       "      <th>tnp</th>\n",
       "      <th>twp</th>\n",
       "      <th>iap</th>\n",
       "      <th>esp</th>\n",
       "      <th>arr</th>\n",
       "      <th>ms</th>\n",
       "      <th>ls</th>\n",
       "      <th>as</th>\n",
       "      <th>...</th>\n",
       "      <th>fq</th>\n",
       "      <th>mq</th>\n",
       "      <th>fo</th>\n",
       "      <th>mo</th>\n",
       "      <th>nf</th>\n",
       "      <th>sh</th>\n",
       "      <th>ss</th>\n",
       "      <th>me</th>\n",
       "      <th>tt</th>\n",
       "      <th>atd</th>\n",
       "    </tr>\n",
       "  </thead>\n",
       "  <tbody>\n",
       "    <tr>\n",
       "      <th>count</th>\n",
       "      <td>131</td>\n",
       "      <td>131</td>\n",
       "      <td>131</td>\n",
       "      <td>131</td>\n",
       "      <td>131</td>\n",
       "      <td>131</td>\n",
       "      <td>131</td>\n",
       "      <td>131</td>\n",
       "      <td>131</td>\n",
       "      <td>131</td>\n",
       "      <td>...</td>\n",
       "      <td>131</td>\n",
       "      <td>131</td>\n",
       "      <td>131</td>\n",
       "      <td>131</td>\n",
       "      <td>131</td>\n",
       "      <td>131</td>\n",
       "      <td>131</td>\n",
       "      <td>131</td>\n",
       "      <td>131</td>\n",
       "      <td>131</td>\n",
       "    </tr>\n",
       "    <tr>\n",
       "      <th>unique</th>\n",
       "      <td>2</td>\n",
       "      <td>5</td>\n",
       "      <td>4</td>\n",
       "      <td>4</td>\n",
       "      <td>4</td>\n",
       "      <td>4</td>\n",
       "      <td>2</td>\n",
       "      <td>1</td>\n",
       "      <td>2</td>\n",
       "      <td>2</td>\n",
       "      <td>...</td>\n",
       "      <td>6</td>\n",
       "      <td>6</td>\n",
       "      <td>5</td>\n",
       "      <td>5</td>\n",
       "      <td>3</td>\n",
       "      <td>3</td>\n",
       "      <td>2</td>\n",
       "      <td>4</td>\n",
       "      <td>3</td>\n",
       "      <td>3</td>\n",
       "    </tr>\n",
       "    <tr>\n",
       "      <th>top</th>\n",
       "      <td>b'M'</td>\n",
       "      <td>b'OBC'</td>\n",
       "      <td>b'Good'</td>\n",
       "      <td>b'Good'</td>\n",
       "      <td>b'Vg'</td>\n",
       "      <td>b'Good'</td>\n",
       "      <td>b'N'</td>\n",
       "      <td>b'Unmarried'</td>\n",
       "      <td>b'V'</td>\n",
       "      <td>b'Paid'</td>\n",
       "      <td>...</td>\n",
       "      <td>b'Um'</td>\n",
       "      <td>b'Um'</td>\n",
       "      <td>b'Service'</td>\n",
       "      <td>b'Housewife'</td>\n",
       "      <td>b'Large'</td>\n",
       "      <td>b'Average'</td>\n",
       "      <td>b'Govt'</td>\n",
       "      <td>b'Eng'</td>\n",
       "      <td>b'Small'</td>\n",
       "      <td>b'Good'</td>\n",
       "    </tr>\n",
       "    <tr>\n",
       "      <th>freq</th>\n",
       "      <td>72</td>\n",
       "      <td>57</td>\n",
       "      <td>59</td>\n",
       "      <td>65</td>\n",
       "      <td>63</td>\n",
       "      <td>54</td>\n",
       "      <td>78</td>\n",
       "      <td>131</td>\n",
       "      <td>92</td>\n",
       "      <td>76</td>\n",
       "      <td>...</td>\n",
       "      <td>40</td>\n",
       "      <td>52</td>\n",
       "      <td>38</td>\n",
       "      <td>115</td>\n",
       "      <td>58</td>\n",
       "      <td>59</td>\n",
       "      <td>91</td>\n",
       "      <td>62</td>\n",
       "      <td>78</td>\n",
       "      <td>56</td>\n",
       "    </tr>\n",
       "  </tbody>\n",
       "</table>\n",
       "<p>4 rows × 22 columns</p>\n",
       "</div>"
      ],
      "text/plain": [
       "          ge     cst      tnp      twp    iap      esp   arr            ms  \\\n",
       "count    131     131      131      131    131      131   131           131   \n",
       "unique     2       5        4        4      4        4     2             1   \n",
       "top     b'M'  b'OBC'  b'Good'  b'Good'  b'Vg'  b'Good'  b'N'  b'Unmarried'   \n",
       "freq      72      57       59       65     63       54    78           131   \n",
       "\n",
       "          ls       as  ...     fq     mq          fo            mo        nf  \\\n",
       "count    131      131  ...    131    131         131           131       131   \n",
       "unique     2        2  ...      6      6           5             5         3   \n",
       "top     b'V'  b'Paid'  ...  b'Um'  b'Um'  b'Service'  b'Housewife'  b'Large'   \n",
       "freq      92       76  ...     40     52          38           115        58   \n",
       "\n",
       "                sh       ss      me        tt      atd  \n",
       "count          131      131     131       131      131  \n",
       "unique           3        2       4         3        3  \n",
       "top     b'Average'  b'Govt'  b'Eng'  b'Small'  b'Good'  \n",
       "freq            59       91      62        78       56  \n",
       "\n",
       "[4 rows x 22 columns]"
      ]
     },
     "execution_count": 21,
     "metadata": {},
     "output_type": "execute_result"
    }
   ],
   "source": [
    "data.describe(include = 'all')"
   ]
  },
  {
   "cell_type": "code",
   "execution_count": 22,
   "metadata": {},
   "outputs": [
    {
     "data": {
      "text/plain": [
       "array([b'G', b'OBC', b'MOBC', b'ST', b'SC'], dtype=object)"
      ]
     },
     "execution_count": 22,
     "metadata": {},
     "output_type": "execute_result"
    }
   ],
   "source": [
    "data['cst'].unique()"
   ]
  },
  {
   "cell_type": "code",
   "execution_count": 23,
   "metadata": {},
   "outputs": [
    {
     "data": {
      "text/plain": [
       "array([b'F', b'M'], dtype=object)"
      ]
     },
     "execution_count": 23,
     "metadata": {},
     "output_type": "execute_result"
    }
   ],
   "source": [
    "data['ge'].unique()"
   ]
  },
  {
   "cell_type": "code",
   "execution_count": 24,
   "metadata": {},
   "outputs": [
    {
     "name": "stdout",
     "output_type": "stream",
     "text": [
      "b'F' b'Unmarried'\n",
      "b'M' b'Unmarried'\n"
     ]
    }
   ],
   "source": [
    "for name in data['ge'].unique():\n",
    "    print(name, data['ms'][data['ge'] == name].iloc[0])"
   ]
  },
  {
   "cell_type": "code",
   "execution_count": 25,
   "metadata": {},
   "outputs": [
    {
     "data": {
      "text/plain": [
       "array([b'Farmer', b'Service', b'Business', b'Others', b'Retired'],\n",
       "      dtype=object)"
      ]
     },
     "execution_count": 25,
     "metadata": {},
     "output_type": "execute_result"
    }
   ],
   "source": [
    "data['fo'].unique()"
   ]
  },
  {
   "cell_type": "code",
   "execution_count": 26,
   "metadata": {},
   "outputs": [
    {
     "name": "stdout",
     "output_type": "stream",
     "text": [
      "['ge', 'cst', 'tnp', 'twp', 'iap', 'esp', 'arr', 'ms', 'ls', 'as', 'fmi', 'fs', 'fq', 'mq', 'fo', 'mo', 'nf', 'sh', 'ss', 'me', 'tt', 'atd']\n",
      "[]\n"
     ]
    }
   ],
   "source": [
    "categorical_columns = [c for c in data.columns if data[c].dtype.name == 'object']\n",
    "numerical_columns   = [c for c in data.columns if data[c].dtype.name != 'object']\n",
    "print(categorical_columns)\n",
    "print(numerical_columns)"
   ]
  },
  {
   "cell_type": "code",
   "execution_count": 27,
   "metadata": {},
   "outputs": [
    {
     "name": "stdout",
     "output_type": "stream",
     "text": [
      "ge [b'F' b'M']\n",
      "cst [b'G' b'OBC' b'MOBC' b'ST' b'SC']\n",
      "tnp [b'Good' b'Vg' b'Pass' b'Best']\n",
      "twp [b'Good' b'Vg' b'Pass' b'Best']\n",
      "iap [b'Vg' b'Good' b'Pass' b'Best']\n",
      "esp [b'Good' b'Vg' b'Best' b'Pass']\n",
      "arr [b'Y' b'N']\n",
      "ms [b'Unmarried']\n",
      "ls [b'V' b'T']\n",
      "as [b'Paid' b'Free']\n",
      "fmi [b'Medium' b'Low' b'Am' b'High' b'Vh']\n",
      "fs [b'Average' b'Small' b'Large']\n",
      "fq [b'Um' b'12' b'10' b'Il' b'Degree' b'Pg']\n",
      "mq [b'10' b'Il' b'Um' b'12' b'Degree' b'Pg']\n",
      "fo [b'Farmer' b'Service' b'Business' b'Others' b'Retired']\n",
      "mo [b'Housewife' b'Service' b'Business' b'Retired' b'Others']\n",
      "nf [b'Large' b'Small' b'Average']\n",
      "sh [b'Poor' b'Average' b'Good']\n",
      "ss [b'Govt' b'Private']\n",
      "me [b'Asm' b'Eng' b'Hin' b'Ben']\n",
      "tt [b'Small' b'Average' b'Large']\n",
      "atd [b'Good' b'Average' b'Poor']\n"
     ]
    }
   ],
   "source": [
    "for c in categorical_columns:\n",
    "    print(c, data[c].unique())"
   ]
  },
  {
   "cell_type": "code",
   "execution_count": 28,
   "metadata": {},
   "outputs": [
    {
     "data": {
      "text/plain": [
       "Series([], dtype: float64)"
      ]
     },
     "execution_count": 28,
     "metadata": {},
     "output_type": "execute_result"
    }
   ],
   "source": [
    "data.median(axis = 0)"
   ]
  },
  {
   "cell_type": "code",
   "execution_count": 29,
   "metadata": {},
   "outputs": [],
   "source": [
    "data = data.fillna(data.median(axis = 0), axis = 0)"
   ]
  },
  {
   "cell_type": "code",
   "execution_count": 30,
   "metadata": {},
   "outputs": [
    {
     "data": {
      "text/plain": [
       "Series([], dtype: int64)"
      ]
     },
     "execution_count": 30,
     "metadata": {},
     "output_type": "execute_result"
    }
   ],
   "source": [
    "data[numerical_columns].count(axis = 0)"
   ]
  },
  {
   "cell_type": "code",
   "execution_count": 31,
   "metadata": {},
   "outputs": [
    {
     "data": {
      "text/plain": [
       "ge     131\n",
       "cst    131\n",
       "tnp    131\n",
       "twp    131\n",
       "iap    131\n",
       "esp    131\n",
       "arr    131\n",
       "ms     131\n",
       "ls     131\n",
       "as     131\n",
       "fmi    131\n",
       "fs     131\n",
       "fq     131\n",
       "mq     131\n",
       "fo     131\n",
       "mo     131\n",
       "nf     131\n",
       "sh     131\n",
       "ss     131\n",
       "me     131\n",
       "tt     131\n",
       "atd    131\n",
       "dtype: int64"
      ]
     },
     "execution_count": 31,
     "metadata": {},
     "output_type": "execute_result"
    }
   ],
   "source": [
    "data[categorical_columns].count(axis = 0)"
   ]
  },
  {
   "cell_type": "code",
   "execution_count": 32,
   "metadata": {},
   "outputs": [
    {
     "data": {
      "text/plain": [
       "count        131\n",
       "unique         5\n",
       "top       b'OBC'\n",
       "freq          57\n",
       "Name: cst, dtype: object"
      ]
     },
     "execution_count": 32,
     "metadata": {},
     "output_type": "execute_result"
    }
   ],
   "source": [
    "data['cst'].describe()"
   ]
  },
  {
   "cell_type": "code",
   "execution_count": 33,
   "metadata": {},
   "outputs": [
    {
     "data": {
      "text/plain": [
       "pandas.core.series.Series"
      ]
     },
     "execution_count": 33,
     "metadata": {},
     "output_type": "execute_result"
    }
   ],
   "source": [
    "type(data['cst'].describe())"
   ]
  },
  {
   "cell_type": "code",
   "execution_count": 34,
   "metadata": {},
   "outputs": [
    {
     "data": {
      "text/plain": [
       "b'OBC'"
      ]
     },
     "execution_count": 34,
     "metadata": {},
     "output_type": "execute_result"
    }
   ],
   "source": [
    "data['cst'].describe().top"
   ]
  },
  {
   "cell_type": "code",
   "execution_count": 35,
   "metadata": {},
   "outputs": [],
   "source": [
    "data['cst'] = data['cst'].fillna('Private')"
   ]
  },
  {
   "cell_type": "code",
   "execution_count": 36,
   "metadata": {},
   "outputs": [
    {
     "data": {
      "text/html": [
       "<div>\n",
       "<style scoped>\n",
       "    .dataframe tbody tr th:only-of-type {\n",
       "        vertical-align: middle;\n",
       "    }\n",
       "\n",
       "    .dataframe tbody tr th {\n",
       "        vertical-align: top;\n",
       "    }\n",
       "\n",
       "    .dataframe thead th {\n",
       "        text-align: right;\n",
       "    }\n",
       "</style>\n",
       "<table border=\"1\" class=\"dataframe\">\n",
       "  <thead>\n",
       "    <tr style=\"text-align: right;\">\n",
       "      <th></th>\n",
       "      <th>ge</th>\n",
       "      <th>cst</th>\n",
       "      <th>tnp</th>\n",
       "      <th>twp</th>\n",
       "      <th>iap</th>\n",
       "      <th>esp</th>\n",
       "      <th>arr</th>\n",
       "      <th>ms</th>\n",
       "      <th>ls</th>\n",
       "      <th>as</th>\n",
       "      <th>...</th>\n",
       "      <th>fq</th>\n",
       "      <th>mq</th>\n",
       "      <th>fo</th>\n",
       "      <th>mo</th>\n",
       "      <th>nf</th>\n",
       "      <th>sh</th>\n",
       "      <th>ss</th>\n",
       "      <th>me</th>\n",
       "      <th>tt</th>\n",
       "      <th>atd</th>\n",
       "    </tr>\n",
       "  </thead>\n",
       "  <tbody>\n",
       "    <tr>\n",
       "      <th>count</th>\n",
       "      <td>131</td>\n",
       "      <td>131</td>\n",
       "      <td>131</td>\n",
       "      <td>131</td>\n",
       "      <td>131</td>\n",
       "      <td>131</td>\n",
       "      <td>131</td>\n",
       "      <td>131</td>\n",
       "      <td>131</td>\n",
       "      <td>131</td>\n",
       "      <td>...</td>\n",
       "      <td>131</td>\n",
       "      <td>131</td>\n",
       "      <td>131</td>\n",
       "      <td>131</td>\n",
       "      <td>131</td>\n",
       "      <td>131</td>\n",
       "      <td>131</td>\n",
       "      <td>131</td>\n",
       "      <td>131</td>\n",
       "      <td>131</td>\n",
       "    </tr>\n",
       "    <tr>\n",
       "      <th>unique</th>\n",
       "      <td>2</td>\n",
       "      <td>5</td>\n",
       "      <td>4</td>\n",
       "      <td>4</td>\n",
       "      <td>4</td>\n",
       "      <td>4</td>\n",
       "      <td>2</td>\n",
       "      <td>1</td>\n",
       "      <td>2</td>\n",
       "      <td>2</td>\n",
       "      <td>...</td>\n",
       "      <td>6</td>\n",
       "      <td>6</td>\n",
       "      <td>5</td>\n",
       "      <td>5</td>\n",
       "      <td>3</td>\n",
       "      <td>3</td>\n",
       "      <td>2</td>\n",
       "      <td>4</td>\n",
       "      <td>3</td>\n",
       "      <td>3</td>\n",
       "    </tr>\n",
       "    <tr>\n",
       "      <th>top</th>\n",
       "      <td>b'M'</td>\n",
       "      <td>b'OBC'</td>\n",
       "      <td>b'Good'</td>\n",
       "      <td>b'Good'</td>\n",
       "      <td>b'Vg'</td>\n",
       "      <td>b'Good'</td>\n",
       "      <td>b'N'</td>\n",
       "      <td>b'Unmarried'</td>\n",
       "      <td>b'V'</td>\n",
       "      <td>b'Paid'</td>\n",
       "      <td>...</td>\n",
       "      <td>b'Um'</td>\n",
       "      <td>b'Um'</td>\n",
       "      <td>b'Service'</td>\n",
       "      <td>b'Housewife'</td>\n",
       "      <td>b'Large'</td>\n",
       "      <td>b'Average'</td>\n",
       "      <td>b'Govt'</td>\n",
       "      <td>b'Eng'</td>\n",
       "      <td>b'Small'</td>\n",
       "      <td>b'Good'</td>\n",
       "    </tr>\n",
       "    <tr>\n",
       "      <th>freq</th>\n",
       "      <td>72</td>\n",
       "      <td>57</td>\n",
       "      <td>59</td>\n",
       "      <td>65</td>\n",
       "      <td>63</td>\n",
       "      <td>54</td>\n",
       "      <td>78</td>\n",
       "      <td>131</td>\n",
       "      <td>92</td>\n",
       "      <td>76</td>\n",
       "      <td>...</td>\n",
       "      <td>40</td>\n",
       "      <td>52</td>\n",
       "      <td>38</td>\n",
       "      <td>115</td>\n",
       "      <td>58</td>\n",
       "      <td>59</td>\n",
       "      <td>91</td>\n",
       "      <td>62</td>\n",
       "      <td>78</td>\n",
       "      <td>56</td>\n",
       "    </tr>\n",
       "  </tbody>\n",
       "</table>\n",
       "<p>4 rows × 22 columns</p>\n",
       "</div>"
      ],
      "text/plain": [
       "          ge     cst      tnp      twp    iap      esp   arr            ms  \\\n",
       "count    131     131      131      131    131      131   131           131   \n",
       "unique     2       5        4        4      4        4     2             1   \n",
       "top     b'M'  b'OBC'  b'Good'  b'Good'  b'Vg'  b'Good'  b'N'  b'Unmarried'   \n",
       "freq      72      57       59       65     63       54    78           131   \n",
       "\n",
       "          ls       as  ...     fq     mq          fo            mo        nf  \\\n",
       "count    131      131  ...    131    131         131           131       131   \n",
       "unique     2        2  ...      6      6           5             5         3   \n",
       "top     b'V'  b'Paid'  ...  b'Um'  b'Um'  b'Service'  b'Housewife'  b'Large'   \n",
       "freq      92       76  ...     40     52          38           115        58   \n",
       "\n",
       "                sh       ss      me        tt      atd  \n",
       "count          131      131     131       131      131  \n",
       "unique           3        2       4         3        3  \n",
       "top     b'Average'  b'Govt'  b'Eng'  b'Small'  b'Good'  \n",
       "freq            59       91      62        78       56  \n",
       "\n",
       "[4 rows x 22 columns]"
      ]
     },
     "execution_count": 36,
     "metadata": {},
     "output_type": "execute_result"
    }
   ],
   "source": [
    "data.describe(include = [object])"
   ]
  },
  {
   "cell_type": "code",
   "execution_count": 37,
   "metadata": {},
   "outputs": [],
   "source": [
    "data_describe = data.describe(include = [object])\n",
    "for c in categorical_columns:\n",
    "    data[c] = data[c].fillna(data_describe[c]['top'])"
   ]
  },
  {
   "cell_type": "code",
   "execution_count": 38,
   "metadata": {},
   "outputs": [
    {
     "data": {
      "text/html": [
       "<div>\n",
       "<style scoped>\n",
       "    .dataframe tbody tr th:only-of-type {\n",
       "        vertical-align: middle;\n",
       "    }\n",
       "\n",
       "    .dataframe tbody tr th {\n",
       "        vertical-align: top;\n",
       "    }\n",
       "\n",
       "    .dataframe thead th {\n",
       "        text-align: right;\n",
       "    }\n",
       "</style>\n",
       "<table border=\"1\" class=\"dataframe\">\n",
       "  <thead>\n",
       "    <tr style=\"text-align: right;\">\n",
       "      <th></th>\n",
       "      <th>ge</th>\n",
       "      <th>cst</th>\n",
       "      <th>tnp</th>\n",
       "      <th>twp</th>\n",
       "      <th>iap</th>\n",
       "      <th>esp</th>\n",
       "      <th>arr</th>\n",
       "      <th>ms</th>\n",
       "      <th>ls</th>\n",
       "      <th>as</th>\n",
       "      <th>...</th>\n",
       "      <th>fq</th>\n",
       "      <th>mq</th>\n",
       "      <th>fo</th>\n",
       "      <th>mo</th>\n",
       "      <th>nf</th>\n",
       "      <th>sh</th>\n",
       "      <th>ss</th>\n",
       "      <th>me</th>\n",
       "      <th>tt</th>\n",
       "      <th>atd</th>\n",
       "    </tr>\n",
       "  </thead>\n",
       "  <tbody>\n",
       "    <tr>\n",
       "      <th>count</th>\n",
       "      <td>131</td>\n",
       "      <td>131</td>\n",
       "      <td>131</td>\n",
       "      <td>131</td>\n",
       "      <td>131</td>\n",
       "      <td>131</td>\n",
       "      <td>131</td>\n",
       "      <td>131</td>\n",
       "      <td>131</td>\n",
       "      <td>131</td>\n",
       "      <td>...</td>\n",
       "      <td>131</td>\n",
       "      <td>131</td>\n",
       "      <td>131</td>\n",
       "      <td>131</td>\n",
       "      <td>131</td>\n",
       "      <td>131</td>\n",
       "      <td>131</td>\n",
       "      <td>131</td>\n",
       "      <td>131</td>\n",
       "      <td>131</td>\n",
       "    </tr>\n",
       "    <tr>\n",
       "      <th>unique</th>\n",
       "      <td>2</td>\n",
       "      <td>5</td>\n",
       "      <td>4</td>\n",
       "      <td>4</td>\n",
       "      <td>4</td>\n",
       "      <td>4</td>\n",
       "      <td>2</td>\n",
       "      <td>1</td>\n",
       "      <td>2</td>\n",
       "      <td>2</td>\n",
       "      <td>...</td>\n",
       "      <td>6</td>\n",
       "      <td>6</td>\n",
       "      <td>5</td>\n",
       "      <td>5</td>\n",
       "      <td>3</td>\n",
       "      <td>3</td>\n",
       "      <td>2</td>\n",
       "      <td>4</td>\n",
       "      <td>3</td>\n",
       "      <td>3</td>\n",
       "    </tr>\n",
       "    <tr>\n",
       "      <th>top</th>\n",
       "      <td>b'M'</td>\n",
       "      <td>b'OBC'</td>\n",
       "      <td>b'Good'</td>\n",
       "      <td>b'Good'</td>\n",
       "      <td>b'Vg'</td>\n",
       "      <td>b'Good'</td>\n",
       "      <td>b'N'</td>\n",
       "      <td>b'Unmarried'</td>\n",
       "      <td>b'V'</td>\n",
       "      <td>b'Paid'</td>\n",
       "      <td>...</td>\n",
       "      <td>b'Um'</td>\n",
       "      <td>b'Um'</td>\n",
       "      <td>b'Service'</td>\n",
       "      <td>b'Housewife'</td>\n",
       "      <td>b'Large'</td>\n",
       "      <td>b'Average'</td>\n",
       "      <td>b'Govt'</td>\n",
       "      <td>b'Eng'</td>\n",
       "      <td>b'Small'</td>\n",
       "      <td>b'Good'</td>\n",
       "    </tr>\n",
       "    <tr>\n",
       "      <th>freq</th>\n",
       "      <td>72</td>\n",
       "      <td>57</td>\n",
       "      <td>59</td>\n",
       "      <td>65</td>\n",
       "      <td>63</td>\n",
       "      <td>54</td>\n",
       "      <td>78</td>\n",
       "      <td>131</td>\n",
       "      <td>92</td>\n",
       "      <td>76</td>\n",
       "      <td>...</td>\n",
       "      <td>40</td>\n",
       "      <td>52</td>\n",
       "      <td>38</td>\n",
       "      <td>115</td>\n",
       "      <td>58</td>\n",
       "      <td>59</td>\n",
       "      <td>91</td>\n",
       "      <td>62</td>\n",
       "      <td>78</td>\n",
       "      <td>56</td>\n",
       "    </tr>\n",
       "  </tbody>\n",
       "</table>\n",
       "<p>4 rows × 22 columns</p>\n",
       "</div>"
      ],
      "text/plain": [
       "          ge     cst      tnp      twp    iap      esp   arr            ms  \\\n",
       "count    131     131      131      131    131      131   131           131   \n",
       "unique     2       5        4        4      4        4     2             1   \n",
       "top     b'M'  b'OBC'  b'Good'  b'Good'  b'Vg'  b'Good'  b'N'  b'Unmarried'   \n",
       "freq      72      57       59       65     63       54    78           131   \n",
       "\n",
       "          ls       as  ...     fq     mq          fo            mo        nf  \\\n",
       "count    131      131  ...    131    131         131           131       131   \n",
       "unique     2        2  ...      6      6           5             5         3   \n",
       "top     b'V'  b'Paid'  ...  b'Um'  b'Um'  b'Service'  b'Housewife'  b'Large'   \n",
       "freq      92       76  ...     40     52          38           115        58   \n",
       "\n",
       "                sh       ss      me        tt      atd  \n",
       "count          131      131     131       131      131  \n",
       "unique           3        2       4         3        3  \n",
       "top     b'Average'  b'Govt'  b'Eng'  b'Small'  b'Good'  \n",
       "freq            59       91      62        78       56  \n",
       "\n",
       "[4 rows x 22 columns]"
      ]
     },
     "execution_count": 38,
     "metadata": {},
     "output_type": "execute_result"
    }
   ],
   "source": [
    "data.describe(include = [object])"
   ]
  },
  {
   "cell_type": "code",
   "execution_count": 39,
   "metadata": {},
   "outputs": [
    {
     "name": "stdout",
     "output_type": "stream",
     "text": [
      "['ge', 'arr', 'ls', 'as', 'ss'] ['cst', 'tnp', 'twp', 'iap', 'esp', 'fmi', 'fs', 'fq', 'mq', 'fo', 'mo', 'nf', 'sh', 'me', 'tt', 'atd']\n"
     ]
    }
   ],
   "source": [
    "binary_columns    = [c for c in categorical_columns if data_describe[c]['unique'] == 2]\n",
    "nonbinary_columns = [c for c in categorical_columns if data_describe[c]['unique'] > 2]\n",
    "print(binary_columns, nonbinary_columns)"
   ]
  },
  {
   "cell_type": "code",
   "execution_count": 40,
   "metadata": {
    "scrolled": false
   },
   "outputs": [
    {
     "name": "stdout",
     "output_type": "stream",
     "text": [
      "[b'Y' b'N']\n",
      "[b'F' b'M']\n",
      "[b'V' b'T']\n",
      "[b'Paid' b'Free']\n",
      "[b'Govt' b'Private']\n"
     ]
    }
   ],
   "source": [
    "print(data['arr'].unique())\n",
    "print(data['ge'].unique())\n",
    "print(data['ls'].unique())\n",
    "print(data['as'].unique())\n",
    "print(data['ss'].unique())"
   ]
  },
  {
   "cell_type": "code",
   "execution_count": 41,
   "metadata": {},
   "outputs": [
    {
     "data": {
      "text/plain": [
       "count     131\n",
       "unique      2\n",
       "top         0\n",
       "freq       91\n",
       "Name: ss, dtype: int64"
      ]
     },
     "execution_count": 41,
     "metadata": {},
     "output_type": "execute_result"
    }
   ],
   "source": [
    "data.at[data['arr'] == b'N', 'arr'] = 0\n",
    "data.at[data['arr'] == b'Y', 'arr'] = 1\n",
    "data['arr'].describe()\n",
    "data.at[data['ge'] == b'F', 'ge'] = 0\n",
    "data.at[data['ge'] == b'M', 'ge'] = 1\n",
    "data['ge'].describe()\n",
    "data.at[data['ls'] == b'V', 'ls'] = 0\n",
    "data.at[data['ls'] == b'T', 'ls'] = 1\n",
    "data['ls'].describe()\n",
    "data.at[data['as'] == b'Paid', 'as'] = 0\n",
    "data.at[data['as'] == b'Free', 'as'] = 1\n",
    "data['as'].describe()\n",
    "data.at[data['ss'] == b'Govt', 'ss'] = 0\n",
    "data.at[data['ss'] == b'Private', 'ss'] = 1\n",
    "data['ss'].describe()"
   ]
  },
  {
   "cell_type": "code",
   "execution_count": 42,
   "metadata": {},
   "outputs": [
    {
     "data": {
      "text/plain": [
       "array([b'G', b'OBC', b'MOBC', b'ST', b'SC'], dtype=object)"
      ]
     },
     "execution_count": 42,
     "metadata": {},
     "output_type": "execute_result"
    }
   ],
   "source": [
    "data['cst'].unique()"
   ]
  },
  {
   "cell_type": "code",
   "execution_count": 43,
   "metadata": {},
   "outputs": [
    {
     "name": "stdout",
     "output_type": "stream",
     "text": [
      "Index(['cst_b'G'', 'cst_b'MOBC'', 'cst_b'OBC'', 'cst_b'SC'', 'cst_b'ST'',\n",
      "       'tnp_b'Best'', 'tnp_b'Good'', 'tnp_b'Pass'', 'tnp_b'Vg'', 'twp_b'Best'',\n",
      "       'twp_b'Good'', 'twp_b'Pass'', 'twp_b'Vg'', 'iap_b'Best'', 'iap_b'Good'',\n",
      "       'iap_b'Pass'', 'iap_b'Vg'', 'esp_b'Best'', 'esp_b'Good'', 'esp_b'Pass'',\n",
      "       'esp_b'Vg'', 'fmi_b'Am'', 'fmi_b'High'', 'fmi_b'Low'', 'fmi_b'Medium'',\n",
      "       'fmi_b'Vh'', 'fs_b'Average'', 'fs_b'Large'', 'fs_b'Small'', 'fq_b'10'',\n",
      "       'fq_b'12'', 'fq_b'Degree'', 'fq_b'Il'', 'fq_b'Pg'', 'fq_b'Um'',\n",
      "       'mq_b'10'', 'mq_b'12'', 'mq_b'Degree'', 'mq_b'Il'', 'mq_b'Pg'',\n",
      "       'mq_b'Um'', 'fo_b'Business'', 'fo_b'Farmer'', 'fo_b'Others'',\n",
      "       'fo_b'Retired'', 'fo_b'Service'', 'mo_b'Business'', 'mo_b'Housewife'',\n",
      "       'mo_b'Others'', 'mo_b'Retired'', 'mo_b'Service'', 'nf_b'Average'',\n",
      "       'nf_b'Large'', 'nf_b'Small'', 'sh_b'Average'', 'sh_b'Good'',\n",
      "       'sh_b'Poor'', 'me_b'Asm'', 'me_b'Ben'', 'me_b'Eng'', 'me_b'Hin'',\n",
      "       'tt_b'Average'', 'tt_b'Large'', 'tt_b'Small'', 'atd_b'Average'',\n",
      "       'atd_b'Good'', 'atd_b'Poor''],\n",
      "      dtype='object')\n"
     ]
    }
   ],
   "source": [
    "data_nonbinary = pd.get_dummies(data[nonbinary_columns])\n",
    "print(data_nonbinary.columns)"
   ]
  },
  {
   "cell_type": "code",
   "execution_count": 44,
   "metadata": {},
   "outputs": [
    {
     "name": "stdout",
     "output_type": "stream",
     "text": [
      "(131, 72)\n"
     ]
    }
   ],
   "source": [
    "data = pd.concat((data_nonbinary, data[binary_columns]), axis = 1)\n",
    "print(data.shape)\n",
    "#print data.columns"
   ]
  },
  {
   "cell_type": "code",
   "execution_count": 45,
   "metadata": {},
   "outputs": [
    {
     "data": {
      "text/html": [
       "<div>\n",
       "<style scoped>\n",
       "    .dataframe tbody tr th:only-of-type {\n",
       "        vertical-align: middle;\n",
       "    }\n",
       "\n",
       "    .dataframe tbody tr th {\n",
       "        vertical-align: top;\n",
       "    }\n",
       "\n",
       "    .dataframe thead th {\n",
       "        text-align: right;\n",
       "    }\n",
       "</style>\n",
       "<table border=\"1\" class=\"dataframe\">\n",
       "  <thead>\n",
       "    <tr style=\"text-align: right;\">\n",
       "      <th></th>\n",
       "      <th>cst_b'G'</th>\n",
       "      <th>cst_b'MOBC'</th>\n",
       "      <th>cst_b'OBC'</th>\n",
       "      <th>cst_b'SC'</th>\n",
       "      <th>cst_b'ST'</th>\n",
       "      <th>tnp_b'Best'</th>\n",
       "      <th>tnp_b'Good'</th>\n",
       "      <th>tnp_b'Pass'</th>\n",
       "      <th>tnp_b'Vg'</th>\n",
       "      <th>twp_b'Best'</th>\n",
       "      <th>...</th>\n",
       "      <th>me_b'Asm'</th>\n",
       "      <th>me_b'Ben'</th>\n",
       "      <th>me_b'Eng'</th>\n",
       "      <th>me_b'Hin'</th>\n",
       "      <th>tt_b'Average'</th>\n",
       "      <th>tt_b'Large'</th>\n",
       "      <th>tt_b'Small'</th>\n",
       "      <th>atd_b'Average'</th>\n",
       "      <th>atd_b'Good'</th>\n",
       "      <th>atd_b'Poor'</th>\n",
       "    </tr>\n",
       "  </thead>\n",
       "  <tbody>\n",
       "    <tr>\n",
       "      <th>count</th>\n",
       "      <td>131.000000</td>\n",
       "      <td>131.000000</td>\n",
       "      <td>131.000000</td>\n",
       "      <td>131.000000</td>\n",
       "      <td>131.000000</td>\n",
       "      <td>131.000000</td>\n",
       "      <td>131.000000</td>\n",
       "      <td>131.000000</td>\n",
       "      <td>131.000000</td>\n",
       "      <td>131.000000</td>\n",
       "      <td>...</td>\n",
       "      <td>131.000000</td>\n",
       "      <td>131.000000</td>\n",
       "      <td>131.000000</td>\n",
       "      <td>131.000000</td>\n",
       "      <td>131.000000</td>\n",
       "      <td>131.000000</td>\n",
       "      <td>131.000000</td>\n",
       "      <td>131.000000</td>\n",
       "      <td>131.000000</td>\n",
       "      <td>131.000000</td>\n",
       "    </tr>\n",
       "    <tr>\n",
       "      <th>mean</th>\n",
       "      <td>0.335878</td>\n",
       "      <td>0.045802</td>\n",
       "      <td>0.435115</td>\n",
       "      <td>0.030534</td>\n",
       "      <td>0.152672</td>\n",
       "      <td>0.068702</td>\n",
       "      <td>0.450382</td>\n",
       "      <td>0.190840</td>\n",
       "      <td>0.290076</td>\n",
       "      <td>0.038168</td>\n",
       "      <td>...</td>\n",
       "      <td>0.458015</td>\n",
       "      <td>0.015267</td>\n",
       "      <td>0.473282</td>\n",
       "      <td>0.053435</td>\n",
       "      <td>0.328244</td>\n",
       "      <td>0.076336</td>\n",
       "      <td>0.595420</td>\n",
       "      <td>0.358779</td>\n",
       "      <td>0.427481</td>\n",
       "      <td>0.213740</td>\n",
       "    </tr>\n",
       "    <tr>\n",
       "      <th>std</th>\n",
       "      <td>0.474109</td>\n",
       "      <td>0.209857</td>\n",
       "      <td>0.497675</td>\n",
       "      <td>0.172713</td>\n",
       "      <td>0.361052</td>\n",
       "      <td>0.253918</td>\n",
       "      <td>0.499442</td>\n",
       "      <td>0.394471</td>\n",
       "      <td>0.455539</td>\n",
       "      <td>0.192337</td>\n",
       "      <td>...</td>\n",
       "      <td>0.500147</td>\n",
       "      <td>0.123084</td>\n",
       "      <td>0.501202</td>\n",
       "      <td>0.225763</td>\n",
       "      <td>0.471377</td>\n",
       "      <td>0.266554</td>\n",
       "      <td>0.492695</td>\n",
       "      <td>0.481483</td>\n",
       "      <td>0.496612</td>\n",
       "      <td>0.411519</td>\n",
       "    </tr>\n",
       "    <tr>\n",
       "      <th>min</th>\n",
       "      <td>0.000000</td>\n",
       "      <td>0.000000</td>\n",
       "      <td>0.000000</td>\n",
       "      <td>0.000000</td>\n",
       "      <td>0.000000</td>\n",
       "      <td>0.000000</td>\n",
       "      <td>0.000000</td>\n",
       "      <td>0.000000</td>\n",
       "      <td>0.000000</td>\n",
       "      <td>0.000000</td>\n",
       "      <td>...</td>\n",
       "      <td>0.000000</td>\n",
       "      <td>0.000000</td>\n",
       "      <td>0.000000</td>\n",
       "      <td>0.000000</td>\n",
       "      <td>0.000000</td>\n",
       "      <td>0.000000</td>\n",
       "      <td>0.000000</td>\n",
       "      <td>0.000000</td>\n",
       "      <td>0.000000</td>\n",
       "      <td>0.000000</td>\n",
       "    </tr>\n",
       "    <tr>\n",
       "      <th>25%</th>\n",
       "      <td>0.000000</td>\n",
       "      <td>0.000000</td>\n",
       "      <td>0.000000</td>\n",
       "      <td>0.000000</td>\n",
       "      <td>0.000000</td>\n",
       "      <td>0.000000</td>\n",
       "      <td>0.000000</td>\n",
       "      <td>0.000000</td>\n",
       "      <td>0.000000</td>\n",
       "      <td>0.000000</td>\n",
       "      <td>...</td>\n",
       "      <td>0.000000</td>\n",
       "      <td>0.000000</td>\n",
       "      <td>0.000000</td>\n",
       "      <td>0.000000</td>\n",
       "      <td>0.000000</td>\n",
       "      <td>0.000000</td>\n",
       "      <td>0.000000</td>\n",
       "      <td>0.000000</td>\n",
       "      <td>0.000000</td>\n",
       "      <td>0.000000</td>\n",
       "    </tr>\n",
       "    <tr>\n",
       "      <th>50%</th>\n",
       "      <td>0.000000</td>\n",
       "      <td>0.000000</td>\n",
       "      <td>0.000000</td>\n",
       "      <td>0.000000</td>\n",
       "      <td>0.000000</td>\n",
       "      <td>0.000000</td>\n",
       "      <td>0.000000</td>\n",
       "      <td>0.000000</td>\n",
       "      <td>0.000000</td>\n",
       "      <td>0.000000</td>\n",
       "      <td>...</td>\n",
       "      <td>0.000000</td>\n",
       "      <td>0.000000</td>\n",
       "      <td>0.000000</td>\n",
       "      <td>0.000000</td>\n",
       "      <td>0.000000</td>\n",
       "      <td>0.000000</td>\n",
       "      <td>1.000000</td>\n",
       "      <td>0.000000</td>\n",
       "      <td>0.000000</td>\n",
       "      <td>0.000000</td>\n",
       "    </tr>\n",
       "    <tr>\n",
       "      <th>75%</th>\n",
       "      <td>1.000000</td>\n",
       "      <td>0.000000</td>\n",
       "      <td>1.000000</td>\n",
       "      <td>0.000000</td>\n",
       "      <td>0.000000</td>\n",
       "      <td>0.000000</td>\n",
       "      <td>1.000000</td>\n",
       "      <td>0.000000</td>\n",
       "      <td>1.000000</td>\n",
       "      <td>0.000000</td>\n",
       "      <td>...</td>\n",
       "      <td>1.000000</td>\n",
       "      <td>0.000000</td>\n",
       "      <td>1.000000</td>\n",
       "      <td>0.000000</td>\n",
       "      <td>1.000000</td>\n",
       "      <td>0.000000</td>\n",
       "      <td>1.000000</td>\n",
       "      <td>1.000000</td>\n",
       "      <td>1.000000</td>\n",
       "      <td>0.000000</td>\n",
       "    </tr>\n",
       "    <tr>\n",
       "      <th>max</th>\n",
       "      <td>1.000000</td>\n",
       "      <td>1.000000</td>\n",
       "      <td>1.000000</td>\n",
       "      <td>1.000000</td>\n",
       "      <td>1.000000</td>\n",
       "      <td>1.000000</td>\n",
       "      <td>1.000000</td>\n",
       "      <td>1.000000</td>\n",
       "      <td>1.000000</td>\n",
       "      <td>1.000000</td>\n",
       "      <td>...</td>\n",
       "      <td>1.000000</td>\n",
       "      <td>1.000000</td>\n",
       "      <td>1.000000</td>\n",
       "      <td>1.000000</td>\n",
       "      <td>1.000000</td>\n",
       "      <td>1.000000</td>\n",
       "      <td>1.000000</td>\n",
       "      <td>1.000000</td>\n",
       "      <td>1.000000</td>\n",
       "      <td>1.000000</td>\n",
       "    </tr>\n",
       "  </tbody>\n",
       "</table>\n",
       "<p>8 rows × 67 columns</p>\n",
       "</div>"
      ],
      "text/plain": [
       "         cst_b'G'  cst_b'MOBC'  cst_b'OBC'   cst_b'SC'   cst_b'ST'  \\\n",
       "count  131.000000   131.000000  131.000000  131.000000  131.000000   \n",
       "mean     0.335878     0.045802    0.435115    0.030534    0.152672   \n",
       "std      0.474109     0.209857    0.497675    0.172713    0.361052   \n",
       "min      0.000000     0.000000    0.000000    0.000000    0.000000   \n",
       "25%      0.000000     0.000000    0.000000    0.000000    0.000000   \n",
       "50%      0.000000     0.000000    0.000000    0.000000    0.000000   \n",
       "75%      1.000000     0.000000    1.000000    0.000000    0.000000   \n",
       "max      1.000000     1.000000    1.000000    1.000000    1.000000   \n",
       "\n",
       "       tnp_b'Best'  tnp_b'Good'  tnp_b'Pass'   tnp_b'Vg'  twp_b'Best'  ...  \\\n",
       "count   131.000000   131.000000   131.000000  131.000000   131.000000  ...   \n",
       "mean      0.068702     0.450382     0.190840    0.290076     0.038168  ...   \n",
       "std       0.253918     0.499442     0.394471    0.455539     0.192337  ...   \n",
       "min       0.000000     0.000000     0.000000    0.000000     0.000000  ...   \n",
       "25%       0.000000     0.000000     0.000000    0.000000     0.000000  ...   \n",
       "50%       0.000000     0.000000     0.000000    0.000000     0.000000  ...   \n",
       "75%       0.000000     1.000000     0.000000    1.000000     0.000000  ...   \n",
       "max       1.000000     1.000000     1.000000    1.000000     1.000000  ...   \n",
       "\n",
       "        me_b'Asm'   me_b'Ben'   me_b'Eng'   me_b'Hin'  tt_b'Average'  \\\n",
       "count  131.000000  131.000000  131.000000  131.000000     131.000000   \n",
       "mean     0.458015    0.015267    0.473282    0.053435       0.328244   \n",
       "std      0.500147    0.123084    0.501202    0.225763       0.471377   \n",
       "min      0.000000    0.000000    0.000000    0.000000       0.000000   \n",
       "25%      0.000000    0.000000    0.000000    0.000000       0.000000   \n",
       "50%      0.000000    0.000000    0.000000    0.000000       0.000000   \n",
       "75%      1.000000    0.000000    1.000000    0.000000       1.000000   \n",
       "max      1.000000    1.000000    1.000000    1.000000       1.000000   \n",
       "\n",
       "       tt_b'Large'  tt_b'Small'  atd_b'Average'  atd_b'Good'  atd_b'Poor'  \n",
       "count   131.000000   131.000000      131.000000   131.000000   131.000000  \n",
       "mean      0.076336     0.595420        0.358779     0.427481     0.213740  \n",
       "std       0.266554     0.492695        0.481483     0.496612     0.411519  \n",
       "min       0.000000     0.000000        0.000000     0.000000     0.000000  \n",
       "25%       0.000000     0.000000        0.000000     0.000000     0.000000  \n",
       "50%       0.000000     1.000000        0.000000     0.000000     0.000000  \n",
       "75%       0.000000     1.000000        1.000000     1.000000     0.000000  \n",
       "max       1.000000     1.000000        1.000000     1.000000     1.000000  \n",
       "\n",
       "[8 rows x 67 columns]"
      ]
     },
     "execution_count": 45,
     "metadata": {},
     "output_type": "execute_result"
    }
   ],
   "source": [
    "data.describe()"
   ]
  },
  {
   "cell_type": "code",
   "execution_count": 46,
   "metadata": {},
   "outputs": [],
   "source": [
    "X = data.drop(('arr'), axis = 1) # выбрасываем столбец 'class'\n",
    "y = data['arr']\n",
    "feature_names = X.columns"
   ]
  },
  {
   "cell_type": "code",
   "execution_count": 47,
   "metadata": {},
   "outputs": [
    {
     "data": {
      "text/plain": [
       "pandas.core.indexes.base.Index"
      ]
     },
     "execution_count": 47,
     "metadata": {},
     "output_type": "execute_result"
    }
   ],
   "source": [
    "type(feature_names)"
   ]
  },
  {
   "cell_type": "code",
   "execution_count": 48,
   "metadata": {},
   "outputs": [
    {
     "data": {
      "text/plain": [
       "Index(['cst_b'G'', 'cst_b'MOBC'', 'cst_b'OBC'', 'cst_b'SC'', 'cst_b'ST'',\n",
       "       'tnp_b'Best'', 'tnp_b'Good'', 'tnp_b'Pass'', 'tnp_b'Vg'', 'twp_b'Best'',\n",
       "       'twp_b'Good'', 'twp_b'Pass'', 'twp_b'Vg'', 'iap_b'Best'', 'iap_b'Good'',\n",
       "       'iap_b'Pass'', 'iap_b'Vg'', 'esp_b'Best'', 'esp_b'Good'', 'esp_b'Pass'',\n",
       "       'esp_b'Vg'', 'fmi_b'Am'', 'fmi_b'High'', 'fmi_b'Low'', 'fmi_b'Medium'',\n",
       "       'fmi_b'Vh'', 'fs_b'Average'', 'fs_b'Large'', 'fs_b'Small'', 'fq_b'10'',\n",
       "       'fq_b'12'', 'fq_b'Degree'', 'fq_b'Il'', 'fq_b'Pg'', 'fq_b'Um'',\n",
       "       'mq_b'10'', 'mq_b'12'', 'mq_b'Degree'', 'mq_b'Il'', 'mq_b'Pg'',\n",
       "       'mq_b'Um'', 'fo_b'Business'', 'fo_b'Farmer'', 'fo_b'Others'',\n",
       "       'fo_b'Retired'', 'fo_b'Service'', 'mo_b'Business'', 'mo_b'Housewife'',\n",
       "       'mo_b'Others'', 'mo_b'Retired'', 'mo_b'Service'', 'nf_b'Average'',\n",
       "       'nf_b'Large'', 'nf_b'Small'', 'sh_b'Average'', 'sh_b'Good'',\n",
       "       'sh_b'Poor'', 'me_b'Asm'', 'me_b'Ben'', 'me_b'Eng'', 'me_b'Hin'',\n",
       "       'tt_b'Average'', 'tt_b'Large'', 'tt_b'Small'', 'atd_b'Average'',\n",
       "       'atd_b'Good'', 'atd_b'Poor'', 'ge', 'ls', 'as', 'ss'],\n",
       "      dtype='object')"
      ]
     },
     "execution_count": 48,
     "metadata": {},
     "output_type": "execute_result"
    }
   ],
   "source": [
    "feature_names"
   ]
  },
  {
   "cell_type": "code",
   "execution_count": 49,
   "metadata": {},
   "outputs": [
    {
     "name": "stdout",
     "output_type": "stream",
     "text": [
      "(131, 71)\n",
      "(131,)\n"
     ]
    }
   ],
   "source": [
    "print(X.shape)\n",
    "print(y.shape)\n",
    "N, d = X.shape"
   ]
  },
  {
   "cell_type": "code",
   "execution_count": 50,
   "metadata": {},
   "outputs": [
    {
     "data": {
      "text/plain": [
       "pandas.core.frame.DataFrame"
      ]
     },
     "execution_count": 50,
     "metadata": {},
     "output_type": "execute_result"
    }
   ],
   "source": [
    "type(X)"
   ]
  },
  {
   "cell_type": "code",
   "execution_count": 51,
   "metadata": {},
   "outputs": [
    {
     "data": {
      "text/plain": [
       "pandas.core.series.Series"
      ]
     },
     "execution_count": 51,
     "metadata": {},
     "output_type": "execute_result"
    }
   ],
   "source": [
    "type(y)"
   ]
  },
  {
   "cell_type": "code",
   "execution_count": 52,
   "metadata": {},
   "outputs": [
    {
     "name": "stdout",
     "output_type": "stream",
     "text": [
      "91 40\n"
     ]
    }
   ],
   "source": [
    "from sklearn.model_selection import train_test_split\n",
    "X_train, X_test, y_train, y_test = train_test_split(X, y, test_size = 0.3, random_state = 42)\n",
    "\n",
    "N_train, _ = X_train.shape \n",
    "N_test,  _ = X_test.shape \n",
    "\n",
    "print(N_train, N_test)"
   ]
  },
  {
   "cell_type": "code",
   "execution_count": 53,
   "metadata": {},
   "outputs": [
    {
     "data": {
      "text/plain": [
       "131"
      ]
     },
     "execution_count": 53,
     "metadata": {},
     "output_type": "execute_result"
    }
   ],
   "source": [
    "91+40"
   ]
  },
  {
   "cell_type": "code",
   "execution_count": 54,
   "metadata": {},
   "outputs": [
    {
     "data": {
      "text/plain": [
       "KNeighborsClassifier(algorithm='auto', leaf_size=30, metric='minkowski',\n",
       "                     metric_params=None, n_jobs=None, n_neighbors=10, p=2,\n",
       "                     weights='uniform')"
      ]
     },
     "execution_count": 54,
     "metadata": {},
     "output_type": "execute_result"
    }
   ],
   "source": [
    "from sklearn.neighbors import KNeighborsClassifier\n",
    "\n",
    "knn = KNeighborsClassifier(n_neighbors = 10)\n",
    "#knn.set_params(n_neighbors=10)\n",
    "knn.fit(X_train, y_train.astype('int'))"
   ]
  },
  {
   "cell_type": "code",
   "execution_count": 55,
   "metadata": {},
   "outputs": [
    {
     "data": {
      "text/plain": [
       "KNeighborsClassifier(algorithm='auto', leaf_size=30, metric='minkowski',\n",
       "                     metric_params=None, n_jobs=None, n_neighbors=10, p=2,\n",
       "                     weights='uniform')"
      ]
     },
     "execution_count": 55,
     "metadata": {},
     "output_type": "execute_result"
    }
   ],
   "source": [
    "knn"
   ]
  },
  {
   "cell_type": "code",
   "execution_count": 56,
   "metadata": {},
   "outputs": [
    {
     "name": "stdout",
     "output_type": "stream",
     "text": [
      "0.2967032967032967 0.375\n"
     ]
    }
   ],
   "source": [
    "y_train_predict = knn.predict(X_train)\n",
    "y_test_predict = knn.predict(X_test)\n",
    "\n",
    "err_train = np.mean(y_train != y_train_predict)\n",
    "err_test  = np.mean(y_test  != y_test_predict)\n",
    "\n",
    "print(err_train, err_test)"
   ]
  },
  {
   "cell_type": "code",
   "execution_count": 57,
   "metadata": {},
   "outputs": [],
   "source": [
    "err_test = 1 - knn.score(X_test, y_test.astype('int')) # Другой способ"
   ]
  },
  {
   "cell_type": "code",
   "execution_count": 58,
   "metadata": {},
   "outputs": [
    {
     "data": {
      "text/plain": [
       "0.375"
      ]
     },
     "execution_count": 58,
     "metadata": {},
     "output_type": "execute_result"
    }
   ],
   "source": [
    "err_test"
   ]
  },
  {
   "cell_type": "code",
   "execution_count": 59,
   "metadata": {},
   "outputs": [
    {
     "name": "stdout",
     "output_type": "stream",
     "text": [
      "[[21  3]\n",
      " [12  4]]\n"
     ]
    }
   ],
   "source": [
    "from sklearn.metrics import confusion_matrix\n",
    "\n",
    "print(confusion_matrix(y_test.astype('int'), y_test_predict))"
   ]
  },
  {
   "cell_type": "code",
   "execution_count": 60,
   "metadata": {},
   "outputs": [
    {
     "data": {
      "text/plain": [
       "array([[3, 0],\n",
       "       [1, 1]], dtype=int64)"
      ]
     },
     "execution_count": 60,
     "metadata": {},
     "output_type": "execute_result"
    }
   ],
   "source": [
    "confusion_matrix([0,1,0,1,0], [0,1,0,0,0])"
   ]
  },
  {
   "cell_type": "code",
   "execution_count": 61,
   "metadata": {},
   "outputs": [
    {
     "name": "stdout",
     "output_type": "stream",
     "text": [
      "0.3626373626373627 10\n"
     ]
    },
    {
     "name": "stderr",
     "output_type": "stream",
     "text": [
      "C:\\ProgramData\\Anaconda3\\lib\\site-packages\\sklearn\\model_selection\\_search.py:813: DeprecationWarning: The default of the `iid` parameter will change from True to False in version 0.22 and will be removed in 0.24. This will change numeric results when test-set sizes are unequal.\n",
      "  DeprecationWarning)\n"
     ]
    }
   ],
   "source": [
    "# Долго!\n",
    "from sklearn.model_selection import GridSearchCV\n",
    "nnb = [1, 3, 5, 10, 15, 20, 25, 35, 45, 55]\n",
    "knn = KNeighborsClassifier()\n",
    "grid = GridSearchCV(knn, param_grid = {'n_neighbors': nnb}, cv=10)\n",
    "grid.fit(X_train, y_train.astype('int'))\n",
    "\n",
    "best_cv_err = 1 - grid.best_score_\n",
    "best_n_neighbors = grid.best_estimator_.n_neighbors\n",
    "print(best_cv_err, best_n_neighbors)"
   ]
  },
  {
   "cell_type": "code",
   "execution_count": 62,
   "metadata": {},
   "outputs": [
    {
     "name": "stdout",
     "output_type": "stream",
     "text": [
      "0.2967032967032967 0.375\n"
     ]
    }
   ],
   "source": [
    "knn = KNeighborsClassifier(n_neighbors = best_n_neighbors).fit(X_train, y_train.astype('int'))\n",
    "\n",
    "err_train = np.mean(y_train.astype('int') != knn.predict(X_train))\n",
    "err_test  = np.mean(y_test.astype('int')  != knn.predict(X_test))\n",
    "\n",
    "print(err_train, err_test)"
   ]
  },
  {
   "cell_type": "code",
   "execution_count": 63,
   "metadata": {},
   "outputs": [
    {
     "name": "stderr",
     "output_type": "stream",
     "text": [
      "C:\\ProgramData\\Anaconda3\\lib\\site-packages\\sklearn\\svm\\base.py:193: FutureWarning: The default value of gamma will change from 'auto' to 'scale' in version 0.22 to account better for unscaled features. Set gamma explicitly to 'auto' or 'scale' to avoid this warning.\n",
      "  \"avoid this warning.\", FutureWarning)\n"
     ]
    },
    {
     "name": "stdout",
     "output_type": "stream",
     "text": [
      "0.26373626373626374 0.4\n"
     ]
    }
   ],
   "source": [
    "from sklearn.svm import SVC\n",
    "svc = SVC()\n",
    "svc.fit(X_train, y_train.astype('int'))\n",
    "\n",
    "err_train = np.mean(y_train.astype('int') != svc.predict(X_train))\n",
    "err_test  = np.mean(y_test.astype('int')  != svc.predict(X_test))\n",
    "\n",
    "print(err_train, err_test)"
   ]
  },
  {
   "cell_type": "code",
   "execution_count": 64,
   "metadata": {},
   "outputs": [
    {
     "name": "stdout",
     "output_type": "stream",
     "text": [
      "0.0 0.35\n"
     ]
    }
   ],
   "source": [
    "from sklearn import ensemble\n",
    "rf = ensemble.RandomForestClassifier(n_estimators = 1000)\n",
    "rf.fit(X_train, y_train.astype('int'))\n",
    "\n",
    "err_train = np.mean(y_train.astype('int') != rf.predict(X_train))\n",
    "err_test  = np.mean(y_test.astype('int')  != rf.predict(X_test))\n",
    "\n",
    "print(err_train, err_test)"
   ]
  },
  {
   "cell_type": "code",
   "execution_count": 65,
   "metadata": {},
   "outputs": [
    {
     "data": {
      "text/plain": [
       "[3, 234, 7, 4, 3, 32]"
      ]
     },
     "execution_count": 65,
     "metadata": {},
     "output_type": "execute_result"
    }
   ],
   "source": [
    "a=[1,2,5,70,32,3,4,7,234, 3]\n",
    "a[-1:3:-1]"
   ]
  },
  {
   "cell_type": "code",
   "execution_count": 66,
   "metadata": {},
   "outputs": [
    {
     "data": {
      "text/plain": [
       "1.0"
      ]
     },
     "execution_count": 66,
     "metadata": {},
     "output_type": "execute_result"
    }
   ],
   "source": [
    "np.sum(rf.feature_importances_)"
   ]
  },
  {
   "cell_type": "code",
   "execution_count": 67,
   "metadata": {},
   "outputs": [
    {
     "name": "stdout",
     "output_type": "stream",
     "text": [
      "Feature ranking:\n",
      " 1. feature 'esp_b'Pass'' (0.047862)\n",
      " 2. feature '   as' (0.046359)\n",
      " 3. feature 'mq_b'Um'' (0.023912)\n",
      " 4. feature 'fmi_b'Medium'' (0.022359)\n",
      " 5. feature 'fmi_b'Low'' (0.022141)\n",
      " 6. feature 'me_b'Eng'' (0.022109)\n",
      " 7. feature 'atd_b'Good'' (0.022035)\n",
      " 8. feature 'twp_b'Good'' (0.021454)\n",
      " 9. feature 'tt_b'Average'' (0.021294)\n",
      "10. feature '   ss' (0.021022)\n",
      "11. feature 'esp_b'Vg'' (0.020680)\n",
      "12. feature 'me_b'Asm'' (0.020338)\n",
      "13. feature '   ge' (0.020189)\n",
      "14. feature 'iap_b'Vg'' (0.020140)\n",
      "15. feature 'nf_b'Large'' (0.019571)\n",
      "16. feature 'iap_b'Good'' (0.019488)\n",
      "17. feature 'tnp_b'Pass'' (0.019062)\n",
      "18. feature 'esp_b'Good'' (0.018415)\n",
      "19. feature 'nf_b'Average'' (0.018050)\n",
      "20. feature 'mq_b'10'' (0.017893)\n",
      "21. feature 'twp_b'Vg'' (0.017847)\n",
      "22. feature 'fmi_b'Am'' (0.017522)\n",
      "23. feature 'fq_b'Um'' (0.017489)\n",
      "24. feature 'fo_b'Service'' (0.017327)\n",
      "25. feature 'twp_b'Pass'' (0.016889)\n",
      "26. feature 'atd_b'Average'' (0.016651)\n",
      "27. feature 'atd_b'Poor'' (0.016618)\n",
      "28. feature 'fo_b'Farmer'' (0.016406)\n",
      "29. feature 'nf_b'Small'' (0.016375)\n",
      "30. feature 'mq_b'Il'' (0.015815)\n",
      "31. feature 'sh_b'Average'' (0.015715)\n",
      "32. feature 'tnp_b'Good'' (0.015705)\n",
      "33. feature 'cst_b'G'' (0.015395)\n",
      "34. feature 'tt_b'Small'' (0.015105)\n",
      "35. feature '   ls' (0.014875)\n",
      "36. feature 'fo_b'Others'' (0.014433)\n",
      "37. feature 'fq_b'12'' (0.014382)\n",
      "38. feature 'fmi_b'High'' (0.013940)\n",
      "39. feature 'cst_b'ST'' (0.013931)\n",
      "40. feature 'cst_b'OBC'' (0.013758)\n",
      "41. feature 'fq_b'Il'' (0.013572)\n",
      "42. feature 'fs_b'Small'' (0.013242)\n",
      "43. feature 'sh_b'Poor'' (0.013180)\n",
      "44. feature 'fs_b'Average'' (0.013039)\n",
      "45. feature 'fq_b'10'' (0.012429)\n",
      "46. feature 'fo_b'Business'' (0.012282)\n",
      "47. feature 'tnp_b'Vg'' (0.012162)\n",
      "48. feature 'sh_b'Good'' (0.011143)\n",
      "49. feature 'fq_b'Degree'' (0.010423)\n",
      "50. feature 'mo_b'Housewife'' (0.010153)\n",
      "51. feature 'iap_b'Pass'' (0.009303)\n",
      "52. feature 'tnp_b'Best'' (0.009241)\n",
      "53. feature 'mq_b'12'' (0.008570)\n",
      "54. feature 'fq_b'Pg'' (0.008199)\n",
      "55. feature 'cst_b'MOBC'' (0.007947)\n",
      "56. feature 'tt_b'Large'' (0.007136)\n",
      "57. feature 'mo_b'Service'' (0.006538)\n",
      "58. feature 'mq_b'Degree'' (0.005991)\n",
      "59. feature 'iap_b'Best'' (0.005703)\n",
      "60. feature 'esp_b'Best'' (0.005419)\n",
      "61. feature 'me_b'Hin'' (0.004416)\n",
      "62. feature 'twp_b'Best'' (0.004041)\n",
      "63. feature 'fmi_b'Vh'' (0.003553)\n",
      "64. feature 'fs_b'Large'' (0.002466)\n",
      "65. feature 'me_b'Ben'' (0.002439)\n",
      "66. feature 'cst_b'SC'' (0.002432)\n",
      "67. feature 'mo_b'Others'' (0.001773)\n",
      "68. feature 'fo_b'Retired'' (0.001524)\n",
      "69. feature 'mo_b'Business'' (0.000967)\n",
      "70. feature 'mq_b'Pg'' (0.000161)\n",
      "71. feature 'mo_b'Retired'' (0.000000)\n"
     ]
    }
   ],
   "source": [
    "importances = rf.feature_importances_\n",
    "indices = np.argsort(importances)[::-1]\n",
    "\n",
    "print(\"Feature ranking:\")\n",
    "\n",
    "for f in range(d):\n",
    "    print(\"%2d. feature '%5s' (%f)\" % (f + 1, feature_names[indices[f]], importances[indices[f]]))"
   ]
  },
  {
   "cell_type": "code",
   "execution_count": 68,
   "metadata": {},
   "outputs": [
    {
     "data": {
      "text/plain": [
       "Index(['cst_b'MOBC'', 'cst_b'G'', 'cst_b'MOBC''], dtype='object')"
      ]
     },
     "execution_count": 68,
     "metadata": {},
     "output_type": "execute_result"
    }
   ],
   "source": [
    "feature_names[[1,0,1]]"
   ]
  },
  {
   "cell_type": "code",
   "execution_count": 69,
   "metadata": {},
   "outputs": [
    {
     "data": {
      "text/plain": [
       "(-1, 20)"
      ]
     },
     "execution_count": 69,
     "metadata": {},
     "output_type": "execute_result"
    },
    {
     "data": {
      "image/png": "[encoded data removed]",
      "text/plain": [
       "<Figure size 432x288 with 1 Axes>"
      ]
     },
     "metadata": {
      "needs_background": "light"
     },
     "output_type": "display_data"
    }
   ],
   "source": [
    "d_first = 20\n",
    "plt.title(\"Feature importances\")\n",
    "plt.bar(range(d_first), importances[indices[:d_first]], align = 'center', color = 'r')\n",
    "plt.xticks(range(d_first), feature_names[indices[:d_first]], rotation = 90)\n",
    "plt.xlim([-1, d_first])"
   ]
  },
  {
   "cell_type": "code",
   "execution_count": 70,
   "metadata": {},
   "outputs": [
    {
     "name": "stdout",
     "output_type": "stream",
     "text": [
      "0.0 0.325\n"
     ]
    }
   ],
   "source": [
    "ert = ensemble.ExtraTreesClassifier(n_estimators = 100).fit(X_train, y_train.astype('int'))\n",
    "\n",
    "err_train = np.mean(y_train.astype('int') != ert.predict(X_train))\n",
    "err_test  = np.mean(y_test.astype('int')  != ert.predict(X_test))\n",
    "\n",
    "print(err_train, err_test)"
   ]
  },
  {
   "cell_type": "code",
   "execution_count": 71,
   "metadata": {},
   "outputs": [
    {
     "name": "stdout",
     "output_type": "stream",
     "text": [
      "0.01098901098901099 0.375\n"
     ]
    }
   ],
   "source": [
    "ada = ensemble.AdaBoostClassifier(n_estimators = 1000)\n",
    "ada.fit(X_train, y_train.astype('int'))\n",
    "\n",
    "err_train = np.mean(y_train.astype('int') != ada.predict(X_train))\n",
    "err_test = np.mean(y_test.astype('int') != ada.predict(X_test))\n",
    "\n",
    "print(err_train, err_test)"
   ]
  },
  {
   "cell_type": "code",
   "execution_count": 72,
   "metadata": {},
   "outputs": [
    {
     "name": "stdout",
     "output_type": "stream",
     "text": [
      "0.0 0.325\n"
     ]
    }
   ],
   "source": [
    "gbt = ensemble.GradientBoostingClassifier(n_estimators = 1000)\n",
    "gbt.fit(X_train, y_train.astype('int'))\n",
    "\n",
    "err_train = np.mean(y_train.astype('int') != gbt.predict(X_train))\n",
    "err_test = np.mean(y_test.astype('int') != gbt.predict(X_test))\n",
    "\n",
    "print(err_train, err_test)"
   ]
  },
  {
   "cell_type": "code",
   "execution_count": 73,
   "metadata": {},
   "outputs": [],
   "source": [
    "from sklearn.decomposition import PCA"
   ]
  },
  {
   "cell_type": "code",
   "execution_count": 74,
   "metadata": {},
   "outputs": [],
   "source": [
    "pca = PCA(n_components=2)"
   ]
  },
  {
   "cell_type": "code",
   "execution_count": 75,
   "metadata": {},
   "outputs": [],
   "source": [
    "X_train_PCA = pca.fit_transform(X_train)"
   ]
  },
  {
   "cell_type": "code",
   "execution_count": 76,
   "metadata": {},
   "outputs": [
    {
     "data": {
      "text/plain": [
       "Text(0.5, 1.0, 'Test')"
      ]
     },
     "execution_count": 76,
     "metadata": {},
     "output_type": "execute_result"
    },
    {
     "data": {
      "image/png": "[encoded data removed]",
      "text/plain": [
       "<Figure size 432x288 with 1 Axes>"
      ]
     },
     "metadata": {
      "needs_background": "light"
     },
     "output_type": "display_data"
    }
   ],
   "source": [
    "plt.plot(X_train_PCA[0], X_train_PCA[1], 'o')\n",
    "plt.xlabel('x1')\n",
    "plt.ylabel('x2')\n",
    "plt.title('Test')"
   ]
  },
  {
   "cell_type": "code",
   "execution_count": 77,
   "metadata": {},
   "outputs": [
    {
     "name": "stdout",
     "output_type": "stream",
     "text": [
      "[0.1245275  0.07165815]\n"
     ]
    }
   ],
   "source": [
    "print(pca.explained_variance_ratio_)"
   ]
  },
  {
   "cell_type": "code",
   "execution_count": 78,
   "metadata": {},
   "outputs": [
    {
     "name": "stdout",
     "output_type": "stream",
     "text": [
      "[11.11507823  8.43165248]\n"
     ]
    }
   ],
   "source": [
    "print(pca.singular_values_)"
   ]
  },
  {
   "cell_type": "code",
   "execution_count": 79,
   "metadata": {},
   "outputs": [],
   "source": [
    "error_values = {} \n",
    "for i in range(2,40,1): \n",
    "    pca_train = PCA(n_components=i) \n",
    "\n",
    "    X_train_PCA = pca_train.fit_transform(X_train) \n",
    "    X_test_PCA = pca_train.fit_transform(X_test) \n",
    "\n",
    "    knn = KNeighborsClassifier(n_neighbors = best_n_neighbors).fit(X_train_PCA, y_train.astype('int')) \n",
    "\n",
    "    err_train = np.mean(y_train.astype('int') != knn.predict(X_train_PCA)) \n",
    "    err_test = np.mean(y_test.astype('int') != knn.predict(X_test_PCA)) \n",
    "    error_values[i]=[err_train, err_test]\n"
   ]
  },
  {
   "cell_type": "code",
   "execution_count": 80,
   "metadata": {},
   "outputs": [
    {
     "data": {
      "text/plain": [
       "Text(0.5, 1.0, 'Test')"
      ]
     },
     "execution_count": 80,
     "metadata": {},
     "output_type": "execute_result"
    },
    {
     "data": {
      "image/png": "[encoded data removed]",
      "text/plain": [
       "<Figure size 432x288 with 1 Axes>"
      ]
     },
     "metadata": {
      "needs_background": "light"
     },
     "output_type": "display_data"
    }
   ],
   "source": [
    "X_values = [item for item in error_values.keys()] \n",
    "Y_values = [item[0] for item in error_values.values()] \n",
    "Y_values_test = [item[1] for item in error_values.values()] \n",
    "plt.plot(X_values, Y_values) \n",
    "plt.plot(X_values, Y_values_test) \n",
    "plt.xlabel('Number of PCA') \n",
    "plt.ylabel('Error') \n",
    "plt.title('Test')"
   ]
  },
  {
   "cell_type": "code",
   "execution_count": 81,
   "metadata": {},
   "outputs": [
    {
     "name": "stdout",
     "output_type": "stream",
     "text": [
      "[0.31868131868131866, 0.5]\n"
     ]
    }
   ],
   "source": [
    "print(error_values[7])"
   ]
  },
  {
   "cell_type": "code",
   "execution_count": 82,
   "metadata": {},
   "outputs": [
    {
     "name": "stdout",
     "output_type": "stream",
     "text": [
      "[0.2967032967032967, 0.475]\n"
     ]
    }
   ],
   "source": [
    "print(error_values[8])"
   ]
  },
  {
   "cell_type": "code",
   "execution_count": 83,
   "metadata": {},
   "outputs": [
    {
     "name": "stdout",
     "output_type": "stream",
     "text": [
      "[0.27472527472527475, 0.45]\n"
     ]
    }
   ],
   "source": [
    "print(error_values[9])"
   ]
  },
  {
   "cell_type": "code",
   "execution_count": 84,
   "metadata": {},
   "outputs": [
    {
     "name": "stdout",
     "output_type": "stream",
     "text": [
      "[0.2857142857142857, 0.475]\n"
     ]
    }
   ],
   "source": [
    "print(error_values[10])"
   ]
  },
  {
   "cell_type": "code",
   "execution_count": 85,
   "metadata": {},
   "outputs": [],
   "source": [
    "#Наименьшая ошибка на тестовой выборке достигается при числе главных компонент =9\n"
   ]
  },
  {
   "cell_type": "code",
   "execution_count": 86,
   "metadata": {},
   "outputs": [
    {
     "name": "stdout",
     "output_type": "stream",
     "text": [
      "[0.2857142857142857, 0.5]\n"
     ]
    }
   ],
   "source": [
    "print(error_values[11])"
   ]
  },
  {
   "cell_type": "code",
   "execution_count": 87,
   "metadata": {},
   "outputs": [
    {
     "name": "stdout",
     "output_type": "stream",
     "text": [
      "[0.2967032967032967, 0.5]\n"
     ]
    }
   ],
   "source": [
    "print(error_values[12])"
   ]
  },
  {
   "cell_type": "code",
   "execution_count": 88,
   "metadata": {},
   "outputs": [
    {
     "name": "stdout",
     "output_type": "stream",
     "text": [
      "[0.27472527472527475, 0.5]\n"
     ]
    }
   ],
   "source": [
    "print(error_values[13])"
   ]
  },
  {
   "cell_type": "code",
   "execution_count": 89,
   "metadata": {},
   "outputs": [
    {
     "name": "stdout",
     "output_type": "stream",
     "text": [
      "[0.2857142857142857, 0.575]\n",
      "[0.2967032967032967, 0.6]\n",
      "[0.2857142857142857, 0.6]\n",
      "[0.2857142857142857, 0.6]\n"
     ]
    }
   ],
   "source": [
    "print(error_values[28])\n",
    "print(error_values[29])\n",
    "print(error_values[30])\n",
    "print(error_values[31])\n"
   ]
  },
  {
   "cell_type": "code",
   "execution_count": 90,
   "metadata": {},
   "outputs": [],
   "source": [
    "#Свыше 29 главных компонент ошибка перестает изменяться"
   ]
  },
  {
   "cell_type": "code",
   "execution_count": 91,
   "metadata": {},
   "outputs": [],
   "source": [
    "#По сравнению с другими методами PCA не позволяет снизить ошибку на тестовой выборке "
   ]
  },
  {
   "cell_type": "code",
   "execution_count": 92,
   "metadata": {},
   "outputs": [],
   "source": [
    "X_train, X_test, y_train, y_test = train_test_split(X, y, test_size = 0.33, random_state = 7)\n",
    "N_test, _ = X_test.shape\n",
    "y_train = y_train.astype(\"int\")\n",
    "y_test = y_test.astype(\"int\")"
   ]
  },
  {
   "cell_type": "code",
   "execution_count": 93,
   "metadata": {},
   "outputs": [],
   "source": [
    "from sklearn.neural_network import MLPClassifier"
   ]
  },
  {
   "cell_type": "code",
   "execution_count": 94,
   "metadata": {},
   "outputs": [
    {
     "data": {
      "text/plain": [
       "MLPClassifier(activation='logistic', alpha=0.0001, batch_size='auto',\n",
       "              beta_1=0.9, beta_2=0.999, early_stopping=False, epsilon=1e-08,\n",
       "              hidden_layer_sizes=(2,), learning_rate='constant',\n",
       "              learning_rate_init=0.001, max_iter=200, momentum=0.9,\n",
       "              n_iter_no_change=10, nesterovs_momentum=True, power_t=0.5,\n",
       "              random_state=42, shuffle=True, solver='lbfgs', tol=0.0001,\n",
       "              validation_fraction=0.1, verbose=False, warm_start=False)"
      ]
     },
     "execution_count": 94,
     "metadata": {},
     "output_type": "execute_result"
    }
   ],
   "source": [
    "mlp_model = MLPClassifier(hidden_layer_sizes = (2,), solver = 'lbfgs', \n",
    "                          activation = 'logistic', random_state = 42)\n",
    "mlp_model.fit(X_train, y_train)"
   ]
  },
  {
   "cell_type": "code",
   "execution_count": 95,
   "metadata": {},
   "outputs": [],
   "source": [
    "y_train_pred = mlp_model.predict(X_train)\n",
    "y_test_pred = mlp_model.predict(X_test)"
   ]
  },
  {
   "cell_type": "code",
   "execution_count": 96,
   "metadata": {},
   "outputs": [
    {
     "name": "stdout",
     "output_type": "stream",
     "text": [
      "0.04597701149425287 0.5\n"
     ]
    }
   ],
   "source": [
    "# Ошибка на тестовой и обучающей выборке\n",
    "print(np.mean(y_train != y_train_pred), np.mean(y_test != y_test_pred))"
   ]
  },
  {
   "cell_type": "code",
   "execution_count": 97,
   "metadata": {},
   "outputs": [
    {
     "name": "stdout",
     "output_type": "stream",
     "text": [
      "0.9540229885057471 0.5\n"
     ]
    }
   ],
   "source": [
    "print(mlp_model.score(X_train, y_train), mlp_model.score(X_test, y_test))"
   ]
  },
  {
   "cell_type": "code",
   "execution_count": 98,
   "metadata": {},
   "outputs": [
    {
     "name": "stdout",
     "output_type": "stream",
     "text": [
      "0.5\n"
     ]
    }
   ],
   "source": [
    "\n",
    "print(1 - mlp_model.score(X_test, y_test))"
   ]
  },
  {
   "cell_type": "code",
   "execution_count": 99,
   "metadata": {},
   "outputs": [
    {
     "name": "stdout",
     "output_type": "stream",
     "text": [
      "[[14  7]\n",
      " [15  8]]\n"
     ]
    }
   ],
   "source": [
    "from sklearn.metrics import confusion_matrix\n",
    "print(confusion_matrix(y_test_pred, y_test))"
   ]
  },
  {
   "cell_type": "code",
   "execution_count": 100,
   "metadata": {},
   "outputs": [
    {
     "data": {
      "image/png": "[encoded data removed]",
      "text/plain": [
       "<Figure size 432x288 with 2 Axes>"
      ]
     },
     "metadata": {
      "needs_background": "light"
     },
     "output_type": "display_data"
    }
   ],
   "source": [
    "M = confusion_matrix(y_test_pred, y_test)\n",
    "M = np.sqrt(M)\n",
    "plt.imshow(M, interpolation = 'nearest')\n",
    "plt.set_cmap('binary')\n",
    "plt.xticks(range(2))\n",
    "plt.yticks(range(2))\n",
    "plt.xlabel(\"true label\")\n",
    "plt.ylabel(\"predicted label\")\n",
    "plt.colorbar()\n",
    "pass"
   ]
  },
  {
   "cell_type": "code",
   "execution_count": 101,
   "metadata": {},
   "outputs": [],
   "source": [
    "alpha_arr = np.logspace(-3, 2, 21)\n",
    "test_err = []\n",
    "train_err = []\n",
    "for alpha in alpha_arr:\n",
    "    mlp_model = MLPClassifier(alpha = alpha, hidden_layer_sizes = (2,), \n",
    "                              solver = 'lbfgs', activation = 'logistic', random_state = 42)\n",
    "    mlp_model.fit(X_train, y_train)\n",
    "\n",
    "    y_train_pred = mlp_model.predict(X_train)\n",
    "    y_test_pred = mlp_model.predict(X_test)\n",
    "    train_err.append(np.mean(y_train != y_train_pred))\n",
    "    test_err.append(np.mean(y_test != y_test_pred))"
   ]
  },
  {
   "cell_type": "code",
   "execution_count": 102,
   "metadata": {},
   "outputs": [
    {
     "data": {
      "image/png": "[encoded data removed]",
      "text/plain": [
       "<Figure size 432x288 with 1 Axes>"
      ]
     },
     "metadata": {
      "needs_background": "light"
     },
     "output_type": "display_data"
    }
   ],
   "source": [
    "plt.semilogx(alpha_arr, train_err, 'b-o', label = 'train')\n",
    "plt.semilogx(alpha_arr, test_err, 'r-o', label = 'test')\n",
    "plt.xlim([np.max(alpha_arr), np.min(alpha_arr)])\n",
    "plt.title('Error vs. alpha')\n",
    "plt.xlabel('alpha')\n",
    "plt.ylabel('error')\n",
    "plt.legend()\n",
    "pass"
   ]
  },
  {
   "cell_type": "code",
   "execution_count": 103,
   "metadata": {},
   "outputs": [
    {
     "name": "stdout",
     "output_type": "stream",
     "text": [
      "0.011494252873563218 0.29545454545454547\n"
     ]
    }
   ],
   "source": [
    "min_train_err = np.min(train_err)\n",
    "min_test_err = np.min(test_err)\n",
    "print(min_train_err, min_test_err)\n",
    "# При alpha < 2 наблюдается переообучение алгоритма, величина ошибки на тестовой выборке оказывается выше \n",
    "# ошибки на обучающей выборке"
   ]
  },
  {
   "cell_type": "code",
   "execution_count": 104,
   "metadata": {},
   "outputs": [
    {
     "name": "stdout",
     "output_type": "stream",
     "text": [
      "[3.16227766]\n"
     ]
    }
   ],
   "source": [
    "alpha_opt = alpha_arr[test_err == min_test_err]\n",
    "print(alpha_opt)"
   ]
  },
  {
   "cell_type": "code",
   "execution_count": 105,
   "metadata": {},
   "outputs": [],
   "source": [
    "alpha_opt = alpha_opt[0]"
   ]
  },
  {
   "cell_type": "code",
   "execution_count": 106,
   "metadata": {},
   "outputs": [
    {
     "name": "stdout",
     "output_type": "stream",
     "text": [
      "0.2988505747126437\n",
      "0.29545454545454547\n"
     ]
    }
   ],
   "source": [
    "mlp_model = MLPClassifier(alpha = alpha_opt, hidden_layer_sizes = (2,),\n",
    "                          solver = 'lbfgs', activation = 'logistic', random_state = 42)\n",
    "mlp_model.fit(X_train, y_train)\n",
    "\n",
    "y_train_pred = mlp_model.predict(X_train)\n",
    "y_test_pred = mlp_model.predict(X_test)\n",
    "print(np.mean(y_train != y_train_pred))\n",
    "print(np.mean(y_test != y_test_pred))"
   ]
  },
  {
   "cell_type": "code",
   "execution_count": 107,
   "metadata": {},
   "outputs": [],
   "source": [
    "layer_sizes_arr = np.arange(2, 40, 1)\n",
    "test_err = []\n",
    "train_err = []\n",
    "for layer_sizes in layer_sizes_arr:\n",
    "    mlp_model = MLPClassifier(alpha = alpha_opt, hidden_layer_sizes = (layer_sizes,), \n",
    "                              solver = 'lbfgs', activation = 'logistic', random_state = 42)\n",
    "    mlp_model.fit(X_train, y_train)\n",
    "\n",
    "    y_train_pred = mlp_model.predict(X_train)\n",
    "    y_test_pred = mlp_model.predict(X_test)\n",
    "    train_err.append(np.mean(y_train != y_train_pred))\n",
    "    test_err.append(np.mean(y_test != y_test_pred))"
   ]
  },
  {
   "cell_type": "code",
   "execution_count": 108,
   "metadata": {},
   "outputs": [
    {
     "data": {
      "image/png": "[encoded data removed]",
      "text/plain": [
       "<Figure size 432x288 with 1 Axes>"
      ]
     },
     "metadata": {
      "needs_background": "light"
     },
     "output_type": "display_data"
    }
   ],
   "source": [
    "plt.plot(layer_sizes_arr, train_err, 'b-o', label = 'train')\n",
    "plt.plot(layer_sizes_arr, test_err, 'r-o', label = 'test')\n",
    "#plt.xlim([np.max(layer_sizes_arr), np.min(layer_sizes_arr)])\n",
    "plt.title('Error vs. number of neurons')\n",
    "plt.xlabel('Number of neurons')\n",
    "plt.ylabel('error')\n",
    "plt.legend()\n",
    "pass"
   ]
  },
  {
   "cell_type": "code",
   "execution_count": 109,
   "metadata": {},
   "outputs": [
    {
     "name": "stdout",
     "output_type": "stream",
     "text": [
      "0.22988505747126436 0.29545454545454547\n",
      "Оптимальное число нейронов:[2 3]\n"
     ]
    }
   ],
   "source": [
    "min_train_err = np.min(train_err)\n",
    "min_test_err = np.min(test_err)\n",
    "print(min_train_err, min_test_err)\n",
    "\n",
    "layer_opt = layer_sizes_arr[test_err == min_test_err]\n",
    "print(\"Оптимальное число нейронов:{}\".format(layer_opt))\n",
    "# С числа нейронов, равного 3, наблюдается периодическое переобучение алгоритма.\n"
   ]
  },
  {
   "cell_type": "code",
   "execution_count": 110,
   "metadata": {},
   "outputs": [
    {
     "data": {
      "text/plain": [
       "RandomForestClassifier(bootstrap=True, class_weight=None, criterion='gini',\n",
       "                       max_depth=None, max_features='auto', max_leaf_nodes=None,\n",
       "                       min_impurity_decrease=0.0, min_impurity_split=None,\n",
       "                       min_samples_leaf=1, min_samples_split=2,\n",
       "                       min_weight_fraction_leaf=0.0, n_estimators=100,\n",
       "                       n_jobs=None, oob_score=True, random_state=42, verbose=0,\n",
       "                       warm_start=False)"
      ]
     },
     "execution_count": 110,
     "metadata": {},
     "output_type": "execute_result"
    }
   ],
   "source": [
    "from sklearn.ensemble import RandomForestClassifier\n",
    "RFC = RandomForestClassifier(n_estimators=100, random_state=42, oob_score=True)\n",
    "RFC.fit(X_train, y_train)"
   ]
  },
  {
   "cell_type": "code",
   "execution_count": 111,
   "metadata": {},
   "outputs": [],
   "source": [
    "y_train_pred = RFC.predict(X_train)\n",
    "y_test_pred = RFC.predict(X_test)"
   ]
  },
  {
   "cell_type": "code",
   "execution_count": 112,
   "metadata": {},
   "outputs": [
    {
     "name": "stdout",
     "output_type": "stream",
     "text": [
      "0.0 0.36363636363636365\n"
     ]
    }
   ],
   "source": [
    "print(np.mean(y_train != y_train_pred), np.mean(y_test != y_test_pred))"
   ]
  },
  {
   "cell_type": "code",
   "execution_count": 113,
   "metadata": {},
   "outputs": [],
   "source": [
    "est_arr = np.arange(16, 101, 5)\n",
    "test_err = []\n",
    "train_err = []\n",
    "oob_err = []\n",
    "RFC = RandomForestClassifier(warm_start=True, n_estimators=1, random_state=42, oob_score=True)\n",
    "for est in est_arr:\n",
    "    RFC.set_params(n_estimators=est)\n",
    "    RFC.fit(X_train, y_train)\n",
    "\n",
    "    y_train_pred = RFC.predict(X_train)\n",
    "    y_test_pred = RFC.predict(X_test)\n",
    "    \n",
    "    train_err.append(np.mean(y_train != y_train_pred))\n",
    "    test_err.append(np.mean(y_test != y_test_pred))\n",
    "    oob_err.append(1 - RFC.oob_score_)"
   ]
  },
  {
   "cell_type": "code",
   "execution_count": 114,
   "metadata": {},
   "outputs": [
    {
     "data": {
      "image/png": "[encoded data removed]",
      "text/plain": [
       "<Figure size 432x288 with 1 Axes>"
      ]
     },
     "metadata": {
      "needs_background": "light"
     },
     "output_type": "display_data"
    }
   ],
   "source": [
    "plt.plot(est_arr, train_err, 'b-o', label = 'train')\n",
    "plt.plot(est_arr, test_err, 'r-o', label = 'test')\n",
    "plt.plot(est_arr, oob_err, 'g-o', label = 'oob')\n",
    "#plt.xlim([np.max(layer_sizes_arr), np.min(layer_sizes_arr)])\n",
    "plt.title('Error vs. number of trees')\n",
    "plt.xlabel('Number of trees')\n",
    "plt.ylabel('error')\n",
    "plt.legend()\n",
    "pass"
   ]
  },
  {
   "cell_type": "code",
   "execution_count": 115,
   "metadata": {},
   "outputs": [
    {
     "name": "stdout",
     "output_type": "stream",
     "text": [
      "0.0 0.3409090909090909 0.3563218390804598\n",
      "Оптимальное число деревьев:[26]\n",
      "Минимум oob ошибки при числе деревьев:[46 51 56]\n"
     ]
    }
   ],
   "source": [
    "min_train_err = np.min(train_err)\n",
    "min_test_err = np.min(test_err)\n",
    "min_oob_error = np.min(oob_err)\n",
    "print(min_train_err, min_test_err, min_oob_error)\n",
    "\n",
    "# Оптимальное количество деревьев:\n",
    "est_opt = est_arr[test_err == min_test_err]\n",
    "print(\"Оптимальное число деревьев:{}\".format(est_opt))\n",
    "\n",
    "# Минимум oob ошибки достигается при количестве деревьев:\n",
    "oob_opt = est_arr[oob_err == min_oob_error]\n",
    "print(\"Минимум oob ошибки при числе деревьев:{}\".format(oob_opt))"
   ]
  },
  {
   "cell_type": "code",
   "execution_count": 116,
   "metadata": {},
   "outputs": [
    {
     "data": {
      "text/plain": [
       "GradientBoostingClassifier(criterion='friedman_mse', init=None,\n",
       "                           learning_rate=0.1, loss='deviance', max_depth=3,\n",
       "                           max_features=None, max_leaf_nodes=None,\n",
       "                           min_impurity_decrease=0.0, min_impurity_split=None,\n",
       "                           min_samples_leaf=1, min_samples_split=2,\n",
       "                           min_weight_fraction_leaf=0.0, n_estimators=100,\n",
       "                           n_iter_no_change=None, presort='auto',\n",
       "                           random_state=42, subsample=1.0, tol=0.0001,\n",
       "                           validation_fraction=0.1, verbose=0,\n",
       "                           warm_start=False)"
      ]
     },
     "execution_count": 116,
     "metadata": {},
     "output_type": "execute_result"
    }
   ],
   "source": [
    "from sklearn.ensemble import GradientBoostingClassifier\n",
    "GBC = GradientBoostingClassifier(n_estimators=100, random_state=42)\n",
    "GBC.fit(X_train, y_train)"
   ]
  },
  {
   "cell_type": "code",
   "execution_count": 117,
   "metadata": {},
   "outputs": [],
   "source": [
    "y_train_pred = GBC.predict(X_train)\n",
    "y_test_pred = GBC.predict(X_test)"
   ]
  },
  {
   "cell_type": "code",
   "execution_count": 118,
   "metadata": {},
   "outputs": [
    {
     "name": "stdout",
     "output_type": "stream",
     "text": [
      "0.0 0.38636363636363635\n"
     ]
    }
   ],
   "source": [
    "\n",
    "print(np.mean(y_train != y_train_pred), np.mean(y_test != y_test_pred))"
   ]
  },
  {
   "cell_type": "code",
   "execution_count": 119,
   "metadata": {},
   "outputs": [],
   "source": [
    "est_arr = np.arange(16, 101, 5)\n",
    "test_err = []\n",
    "train_err = []\n",
    "GBC = GradientBoostingClassifier(n_estimators=1, random_state=42)\n",
    "for est in est_arr:\n",
    "    GBC.set_params(n_estimators=est)\n",
    "    GBC.fit(X_train, y_train)\n",
    "\n",
    "    y_train_pred = GBC.predict(X_train)\n",
    "    y_test_pred = GBC.predict(X_test)\n",
    "    train_err.append(np.mean(y_train != y_train_pred))\n",
    "    test_err.append(np.mean(y_test != y_test_pred))"
   ]
  },
  {
   "cell_type": "code",
   "execution_count": 120,
   "metadata": {},
   "outputs": [
    {
     "data": {
      "image/png": "[encoded data removed]",
      "text/plain": [
       "<Figure size 432x288 with 1 Axes>"
      ]
     },
     "metadata": {
      "needs_background": "light"
     },
     "output_type": "display_data"
    }
   ],
   "source": [
    "plt.plot(est_arr, train_err, 'b-o', label = 'train')\n",
    "plt.plot(est_arr, test_err, 'r-o', label = 'test')\n",
    "#plt.xlim([np.max(layer_sizes_arr), np.min(layer_sizes_arr)])\n",
    "plt.title('Error vs. number of trees')\n",
    "plt.xlabel('Number of trees')\n",
    "plt.ylabel('error')\n",
    "plt.legend()\n",
    "pass"
   ]
  },
  {
   "cell_type": "code",
   "execution_count": 121,
   "metadata": {},
   "outputs": [
    {
     "name": "stdout",
     "output_type": "stream",
     "text": [
      "0.0 0.29545454545454547\n",
      "Оптимальное число деревьев:[21 26 31]\n"
     ]
    }
   ],
   "source": [
    "min_train_err = np.min(train_err)\n",
    "min_test_err = np.min(test_err)\n",
    "print(min_train_err, min_test_err)\n",
    "\n",
    "\n",
    "# Оптимальное количество деревьев:\n",
    "est_opt = est_arr[test_err == min_test_err]\n",
    "print(\"Оптимальное число деревьев:{}\".format(est_opt))\n",
    "\n"
   ]
  }
 ],
 "metadata": {
  "kernelspec": {
   "display_name": "Python 3",
   "language": "python",
   "name": "python3"
  },
  "language_info": {
   "codemirror_mode": {
    "name": "ipython",
    "version": 3
   },
   "file_extension": ".py",
   "mimetype": "text/x-python",
   "name": "python",
   "nbconvert_exporter": "python",
   "pygments_lexer": "ipython3",
   "version": "3.7.3"
  }
 },
 "nbformat": 4,
 "nbformat_minor": 2
}
